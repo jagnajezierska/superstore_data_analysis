{
 "cells": [
  {
   "metadata": {},
   "cell_type": "markdown",
   "source": [
    "# This is a sample Jupyter Notebook\n",
    "\n",
    "Below is an example of a code cell. \n",
    "Put your cursor into the cell and press Shift+Enter to execute it and select the next one, or click 'Run Cell' button.\n",
    "\n",
    "Press Double Shift to search everywhere for classes, files, tool windows, actions, and settings.\n",
    "\n",
    "To learn more about Jupyter Notebooks in PyCharm, see [help](https://www.jetbrains.com/help/pycharm/ipython-notebook-support.html).\n",
    "For an overview of PyCharm, go to Help -> Learn IDE features or refer to [our documentation](https://www.jetbrains.com/help/pycharm/getting-started.html)."
   ],
   "id": "8a77807f92f26ee"
  },
  {
   "metadata": {
    "ExecuteTime": {
     "end_time": "2024-12-10T22:35:26.550144Z",
     "start_time": "2024-12-10T22:35:26.536873Z"
    }
   },
   "cell_type": "code",
   "source": "import pandas as pd\n",
   "id": "fbc121e30a2defb3",
   "outputs": [],
   "execution_count": 18
  },
  {
   "metadata": {
    "ExecuteTime": {
     "end_time": "2024-12-10T22:35:27.232956Z",
     "start_time": "2024-12-10T22:35:27.228878Z"
    }
   },
   "cell_type": "code",
   "source": [
    "import numpy as np\n",
    "import matplotlib.pyplot as plt\n",
    "import seaborn as sns"
   ],
   "id": "8ec8936414d549",
   "outputs": [],
   "execution_count": 19
  },
  {
   "metadata": {
    "ExecuteTime": {
     "end_time": "2024-12-10T22:36:11.860817Z",
     "start_time": "2024-12-10T22:36:11.786955Z"
    }
   },
   "cell_type": "code",
   "source": "df = pd.read_csv(r\"data/train.csv\")",
   "id": "c3c9d2449dbf58db",
   "outputs": [],
   "execution_count": 23
  },
  {
   "metadata": {
    "ExecuteTime": {
     "end_time": "2024-12-10T22:36:20.482637Z",
     "start_time": "2024-12-10T22:36:20.468828Z"
    }
   },
   "cell_type": "code",
   "source": "df.head()",
   "id": "cd3eec5996377011",
   "outputs": [
    {
     "data": {
      "text/plain": [
       "   Row ID        Order ID  Order Date   Ship Date       Ship Mode Customer ID  \\\n",
       "0       1  CA-2017-152156  08/11/2017  11/11/2017    Second Class    CG-12520   \n",
       "1       2  CA-2017-152156  08/11/2017  11/11/2017    Second Class    CG-12520   \n",
       "2       3  CA-2017-138688  12/06/2017  16/06/2017    Second Class    DV-13045   \n",
       "3       4  US-2016-108966  11/10/2016  18/10/2016  Standard Class    SO-20335   \n",
       "4       5  US-2016-108966  11/10/2016  18/10/2016  Standard Class    SO-20335   \n",
       "\n",
       "     Customer Name    Segment        Country             City       State  \\\n",
       "0      Claire Gute   Consumer  United States        Henderson    Kentucky   \n",
       "1      Claire Gute   Consumer  United States        Henderson    Kentucky   \n",
       "2  Darrin Van Huff  Corporate  United States      Los Angeles  California   \n",
       "3   Sean O'Donnell   Consumer  United States  Fort Lauderdale     Florida   \n",
       "4   Sean O'Donnell   Consumer  United States  Fort Lauderdale     Florida   \n",
       "\n",
       "   Postal Code Region       Product ID         Category Sub-Category  \\\n",
       "0      42420.0  South  FUR-BO-10001798        Furniture    Bookcases   \n",
       "1      42420.0  South  FUR-CH-10000454        Furniture       Chairs   \n",
       "2      90036.0   West  OFF-LA-10000240  Office Supplies       Labels   \n",
       "3      33311.0  South  FUR-TA-10000577        Furniture       Tables   \n",
       "4      33311.0  South  OFF-ST-10000760  Office Supplies      Storage   \n",
       "\n",
       "                                        Product Name     Sales  \n",
       "0                  Bush Somerset Collection Bookcase  261.9600  \n",
       "1  Hon Deluxe Fabric Upholstered Stacking Chairs,...  731.9400  \n",
       "2  Self-Adhesive Address Labels for Typewriters b...   14.6200  \n",
       "3      Bretford CR4500 Series Slim Rectangular Table  957.5775  \n",
       "4                     Eldon Fold 'N Roll Cart System   22.3680  "
      ],
      "text/html": [
       "<div>\n",
       "<style scoped>\n",
       "    .dataframe tbody tr th:only-of-type {\n",
       "        vertical-align: middle;\n",
       "    }\n",
       "\n",
       "    .dataframe tbody tr th {\n",
       "        vertical-align: top;\n",
       "    }\n",
       "\n",
       "    .dataframe thead th {\n",
       "        text-align: right;\n",
       "    }\n",
       "</style>\n",
       "<table border=\"1\" class=\"dataframe\">\n",
       "  <thead>\n",
       "    <tr style=\"text-align: right;\">\n",
       "      <th></th>\n",
       "      <th>Row ID</th>\n",
       "      <th>Order ID</th>\n",
       "      <th>Order Date</th>\n",
       "      <th>Ship Date</th>\n",
       "      <th>Ship Mode</th>\n",
       "      <th>Customer ID</th>\n",
       "      <th>Customer Name</th>\n",
       "      <th>Segment</th>\n",
       "      <th>Country</th>\n",
       "      <th>City</th>\n",
       "      <th>State</th>\n",
       "      <th>Postal Code</th>\n",
       "      <th>Region</th>\n",
       "      <th>Product ID</th>\n",
       "      <th>Category</th>\n",
       "      <th>Sub-Category</th>\n",
       "      <th>Product Name</th>\n",
       "      <th>Sales</th>\n",
       "    </tr>\n",
       "  </thead>\n",
       "  <tbody>\n",
       "    <tr>\n",
       "      <th>0</th>\n",
       "      <td>1</td>\n",
       "      <td>CA-2017-152156</td>\n",
       "      <td>08/11/2017</td>\n",
       "      <td>11/11/2017</td>\n",
       "      <td>Second Class</td>\n",
       "      <td>CG-12520</td>\n",
       "      <td>Claire Gute</td>\n",
       "      <td>Consumer</td>\n",
       "      <td>United States</td>\n",
       "      <td>Henderson</td>\n",
       "      <td>Kentucky</td>\n",
       "      <td>42420.0</td>\n",
       "      <td>South</td>\n",
       "      <td>FUR-BO-10001798</td>\n",
       "      <td>Furniture</td>\n",
       "      <td>Bookcases</td>\n",
       "      <td>Bush Somerset Collection Bookcase</td>\n",
       "      <td>261.9600</td>\n",
       "    </tr>\n",
       "    <tr>\n",
       "      <th>1</th>\n",
       "      <td>2</td>\n",
       "      <td>CA-2017-152156</td>\n",
       "      <td>08/11/2017</td>\n",
       "      <td>11/11/2017</td>\n",
       "      <td>Second Class</td>\n",
       "      <td>CG-12520</td>\n",
       "      <td>Claire Gute</td>\n",
       "      <td>Consumer</td>\n",
       "      <td>United States</td>\n",
       "      <td>Henderson</td>\n",
       "      <td>Kentucky</td>\n",
       "      <td>42420.0</td>\n",
       "      <td>South</td>\n",
       "      <td>FUR-CH-10000454</td>\n",
       "      <td>Furniture</td>\n",
       "      <td>Chairs</td>\n",
       "      <td>Hon Deluxe Fabric Upholstered Stacking Chairs,...</td>\n",
       "      <td>731.9400</td>\n",
       "    </tr>\n",
       "    <tr>\n",
       "      <th>2</th>\n",
       "      <td>3</td>\n",
       "      <td>CA-2017-138688</td>\n",
       "      <td>12/06/2017</td>\n",
       "      <td>16/06/2017</td>\n",
       "      <td>Second Class</td>\n",
       "      <td>DV-13045</td>\n",
       "      <td>Darrin Van Huff</td>\n",
       "      <td>Corporate</td>\n",
       "      <td>United States</td>\n",
       "      <td>Los Angeles</td>\n",
       "      <td>California</td>\n",
       "      <td>90036.0</td>\n",
       "      <td>West</td>\n",
       "      <td>OFF-LA-10000240</td>\n",
       "      <td>Office Supplies</td>\n",
       "      <td>Labels</td>\n",
       "      <td>Self-Adhesive Address Labels for Typewriters b...</td>\n",
       "      <td>14.6200</td>\n",
       "    </tr>\n",
       "    <tr>\n",
       "      <th>3</th>\n",
       "      <td>4</td>\n",
       "      <td>US-2016-108966</td>\n",
       "      <td>11/10/2016</td>\n",
       "      <td>18/10/2016</td>\n",
       "      <td>Standard Class</td>\n",
       "      <td>SO-20335</td>\n",
       "      <td>Sean O'Donnell</td>\n",
       "      <td>Consumer</td>\n",
       "      <td>United States</td>\n",
       "      <td>Fort Lauderdale</td>\n",
       "      <td>Florida</td>\n",
       "      <td>33311.0</td>\n",
       "      <td>South</td>\n",
       "      <td>FUR-TA-10000577</td>\n",
       "      <td>Furniture</td>\n",
       "      <td>Tables</td>\n",
       "      <td>Bretford CR4500 Series Slim Rectangular Table</td>\n",
       "      <td>957.5775</td>\n",
       "    </tr>\n",
       "    <tr>\n",
       "      <th>4</th>\n",
       "      <td>5</td>\n",
       "      <td>US-2016-108966</td>\n",
       "      <td>11/10/2016</td>\n",
       "      <td>18/10/2016</td>\n",
       "      <td>Standard Class</td>\n",
       "      <td>SO-20335</td>\n",
       "      <td>Sean O'Donnell</td>\n",
       "      <td>Consumer</td>\n",
       "      <td>United States</td>\n",
       "      <td>Fort Lauderdale</td>\n",
       "      <td>Florida</td>\n",
       "      <td>33311.0</td>\n",
       "      <td>South</td>\n",
       "      <td>OFF-ST-10000760</td>\n",
       "      <td>Office Supplies</td>\n",
       "      <td>Storage</td>\n",
       "      <td>Eldon Fold 'N Roll Cart System</td>\n",
       "      <td>22.3680</td>\n",
       "    </tr>\n",
       "  </tbody>\n",
       "</table>\n",
       "</div>"
      ]
     },
     "execution_count": 24,
     "metadata": {},
     "output_type": "execute_result"
    }
   ],
   "execution_count": 24
  },
  {
   "metadata": {
    "ExecuteTime": {
     "end_time": "2024-12-10T22:36:23.314247Z",
     "start_time": "2024-12-10T22:36:23.292597Z"
    }
   },
   "cell_type": "code",
   "source": "df.info()",
   "id": "cb21401fa845cd0",
   "outputs": [
    {
     "name": "stdout",
     "output_type": "stream",
     "text": [
      "<class 'pandas.core.frame.DataFrame'>\n",
      "RangeIndex: 9800 entries, 0 to 9799\n",
      "Data columns (total 18 columns):\n",
      " #   Column         Non-Null Count  Dtype  \n",
      "---  ------         --------------  -----  \n",
      " 0   Row ID         9800 non-null   int64  \n",
      " 1   Order ID       9800 non-null   object \n",
      " 2   Order Date     9800 non-null   object \n",
      " 3   Ship Date      9800 non-null   object \n",
      " 4   Ship Mode      9800 non-null   object \n",
      " 5   Customer ID    9800 non-null   object \n",
      " 6   Customer Name  9800 non-null   object \n",
      " 7   Segment        9800 non-null   object \n",
      " 8   Country        9800 non-null   object \n",
      " 9   City           9800 non-null   object \n",
      " 10  State          9800 non-null   object \n",
      " 11  Postal Code    9789 non-null   float64\n",
      " 12  Region         9800 non-null   object \n",
      " 13  Product ID     9800 non-null   object \n",
      " 14  Category       9800 non-null   object \n",
      " 15  Sub-Category   9800 non-null   object \n",
      " 16  Product Name   9800 non-null   object \n",
      " 17  Sales          9800 non-null   float64\n",
      "dtypes: float64(2), int64(1), object(15)\n",
      "memory usage: 1.3+ MB\n"
     ]
    }
   ],
   "execution_count": 25
  },
  {
   "metadata": {
    "ExecuteTime": {
     "end_time": "2024-12-10T22:36:32.081634Z",
     "start_time": "2024-12-10T22:36:32.074723Z"
    }
   },
   "cell_type": "code",
   "source": "df.fillna({\"Postal Code\": 0}, inplace=True)",
   "id": "5b2b2d43ecf6628b",
   "outputs": [],
   "execution_count": 26
  },
  {
   "metadata": {
    "ExecuteTime": {
     "end_time": "2024-12-10T22:36:33.764790Z",
     "start_time": "2024-12-10T22:36:33.759245Z"
    }
   },
   "cell_type": "code",
   "source": "df[\"Postal Code\"] = df[\"Postal Code\"].astype(int)",
   "id": "16799f1cacb5a5b5",
   "outputs": [],
   "execution_count": 27
  },
  {
   "metadata": {
    "ExecuteTime": {
     "end_time": "2024-12-10T22:36:35.463740Z",
     "start_time": "2024-12-10T22:36:35.449293Z"
    }
   },
   "cell_type": "code",
   "source": "df.info()",
   "id": "f420cd9eff3b5d0",
   "outputs": [
    {
     "name": "stdout",
     "output_type": "stream",
     "text": [
      "<class 'pandas.core.frame.DataFrame'>\n",
      "RangeIndex: 9800 entries, 0 to 9799\n",
      "Data columns (total 18 columns):\n",
      " #   Column         Non-Null Count  Dtype  \n",
      "---  ------         --------------  -----  \n",
      " 0   Row ID         9800 non-null   int64  \n",
      " 1   Order ID       9800 non-null   object \n",
      " 2   Order Date     9800 non-null   object \n",
      " 3   Ship Date      9800 non-null   object \n",
      " 4   Ship Mode      9800 non-null   object \n",
      " 5   Customer ID    9800 non-null   object \n",
      " 6   Customer Name  9800 non-null   object \n",
      " 7   Segment        9800 non-null   object \n",
      " 8   Country        9800 non-null   object \n",
      " 9   City           9800 non-null   object \n",
      " 10  State          9800 non-null   object \n",
      " 11  Postal Code    9800 non-null   int64  \n",
      " 12  Region         9800 non-null   object \n",
      " 13  Product ID     9800 non-null   object \n",
      " 14  Category       9800 non-null   object \n",
      " 15  Sub-Category   9800 non-null   object \n",
      " 16  Product Name   9800 non-null   object \n",
      " 17  Sales          9800 non-null   float64\n",
      "dtypes: float64(1), int64(2), object(15)\n",
      "memory usage: 1.3+ MB\n"
     ]
    }
   ],
   "execution_count": 28
  },
  {
   "metadata": {
    "ExecuteTime": {
     "end_time": "2024-12-10T22:40:06.732938Z",
     "start_time": "2024-12-10T22:40:06.710686Z"
    }
   },
   "cell_type": "code",
   "source": [
    "if df.duplicated().sum() > 0:\n",
    "    print(\"Duplicate exists\")\n",
    "else:\n",
    "    print(\"Duplicate doesn't exist\")"
   ],
   "id": "abe5017a9d4df2e6",
   "outputs": [
    {
     "name": "stdout",
     "output_type": "stream",
     "text": [
      "Duplicate doesn't exist\n"
     ]
    }
   ],
   "execution_count": 33
  },
  {
   "metadata": {},
   "cell_type": "markdown",
   "source": "",
   "id": "3de0b0d52e8ae47a"
  },
  {
   "metadata": {
    "ExecuteTime": {
     "end_time": "2024-12-10T22:43:55.072901Z",
     "start_time": "2024-12-10T22:43:55.058346Z"
    }
   },
   "cell_type": "code",
   "source": "types_of_customers = df[\"Segment\"].unique()",
   "id": "67fadf54e47aa46f",
   "outputs": [],
   "execution_count": 43
  },
  {
   "metadata": {
    "ExecuteTime": {
     "end_time": "2024-12-10T22:44:24.910793Z",
     "start_time": "2024-12-10T22:44:24.903874Z"
    }
   },
   "cell_type": "code",
   "source": "print(types_of_customers)",
   "id": "5b0dc16f8d88a549",
   "outputs": [
    {
     "name": "stdout",
     "output_type": "stream",
     "text": [
      "['Consumer' 'Corporate' 'Home Office']\n"
     ]
    }
   ],
   "execution_count": 45
  },
  {
   "metadata": {
    "ExecuteTime": {
     "end_time": "2024-12-10T22:46:10.294826Z",
     "start_time": "2024-12-10T22:46:10.268200Z"
    }
   },
   "cell_type": "code",
   "source": "number_of_customers = df['Segment'].value_counts().reset_index()",
   "id": "b0a59e28652da5f1",
   "outputs": [],
   "execution_count": 48
  },
  {
   "metadata": {
    "ExecuteTime": {
     "end_time": "2024-12-10T22:48:14.687319Z",
     "start_time": "2024-12-10T22:48:14.676193Z"
    }
   },
   "cell_type": "code",
   "source": "number_of_customers = number_of_customers.rename(columns={\"Segment\": \"Type of Customer\"})\n",
   "id": "f17b15f4c231adb8",
   "outputs": [],
   "execution_count": 50
  },
  {
   "metadata": {
    "ExecuteTime": {
     "end_time": "2024-12-10T22:48:27.485770Z",
     "start_time": "2024-12-10T22:48:27.477033Z"
    }
   },
   "cell_type": "code",
   "source": "print(number_of_customers)",
   "id": "b697b6a452706d9c",
   "outputs": [
    {
     "name": "stdout",
     "output_type": "stream",
     "text": [
      "  Type of Customer  count\n",
      "0         Consumer   5101\n",
      "1        Corporate   2953\n",
      "2      Home Office   1746\n"
     ]
    }
   ],
   "execution_count": 51
  },
  {
   "metadata": {
    "ExecuteTime": {
     "end_time": "2024-12-10T22:56:16.456209Z",
     "start_time": "2024-12-10T22:56:16.362472Z"
    }
   },
   "cell_type": "code",
   "source": "plt.pie(number_of_customers[\"count\"],labels = number_of_customers[\"Type of Customer\"],autopct=\"%1.1f%%\")\n",
   "id": "a67e1c1aff67a417",
   "outputs": [
    {
     "data": {
      "text/plain": [
       "([<matplotlib.patches.Wedge at 0x1558505c0>,\n",
       "  <matplotlib.patches.Wedge at 0x15584e6c0>,\n",
       "  <matplotlib.patches.Wedge at 0x1558515b0>],\n",
       " [Text(-0.07082911608159113, 1.0977172843292122, 'Consumer'),\n",
       "  Text(-0.5228074775852011, -0.9678183411059121, 'Corporate'),\n",
       "  Text(0.9321462996405261, -0.5840404746817421, 'Home Office')],\n",
       " [Text(-0.03863406331723152, 0.5987548823613884, '52.1%'),\n",
       "  Text(-0.28516771504647326, -0.5279009133304975, '30.1%'),\n",
       "  Text(0.5084434361675596, -0.3185675316445866, '17.8%')])"
      ]
     },
     "execution_count": 55,
     "metadata": {},
     "output_type": "execute_result"
    },
    {
     "data": {
      "text/plain": [
       "<Figure size 640x480 with 1 Axes>"
      ],
      "image/png": "[encoded data removed]"
     },
     "metadata": {},
     "output_type": "display_data"
    }
   ],
   "execution_count": 55
  },
  {
   "metadata": {
    "ExecuteTime": {
     "end_time": "2024-12-10T23:00:18.573271Z",
     "start_time": "2024-12-10T23:00:18.536735Z"
    }
   },
   "cell_type": "code",
   "source": [
    "sales_per_segment = df.groupby('Segment')['Sales'].sum().reset_index()\n",
    "sales_per_segment = sales_per_segment.rename(columns={\"Segment\": \"Type of Customer\", 'Sales' : \"Total Sales\"})\n"
   ],
   "id": "5e5bb882f51948",
   "outputs": [],
   "execution_count": 57
  },
  {
   "metadata": {
    "ExecuteTime": {
     "end_time": "2024-12-10T23:01:02.178820Z",
     "start_time": "2024-12-10T23:01:02.167184Z"
    }
   },
   "cell_type": "code",
   "source": "print(sales_per_segment)",
   "id": "3b3e911d5a440627",
   "outputs": [
    {
     "name": "stdout",
     "output_type": "stream",
     "text": [
      "  Type of Customer   Total Sales\n",
      "0         Consumer  1.148061e+06\n",
      "1        Corporate  6.884941e+05\n",
      "2      Home Office  4.249822e+05\n"
     ]
    }
   ],
   "execution_count": 59
  },
  {
   "metadata": {
    "ExecuteTime": {
     "end_time": "2024-12-10T23:02:27.975178Z",
     "start_time": "2024-12-10T23:02:27.851338Z"
    }
   },
   "cell_type": "code",
   "source": "plt.bar(sales_per_segment['Type of Customer'], sales_per_segment['Total Sales'])",
   "id": "6821f2ca495639a",
   "outputs": [
    {
     "data": {
      "text/plain": [
       "<BarContainer object of 3 artists>"
      ]
     },
     "execution_count": 60,
     "metadata": {},
     "output_type": "execute_result"
    },
    {
     "data": {
      "text/plain": [
       "<Figure size 640x480 with 1 Axes>"
      ],
      "image/png": "[encoded data removed]"
     },
     "metadata": {},
     "output_type": "display_data"
    }
   ],
   "execution_count": 60
  },
  {
   "metadata": {
    "ExecuteTime": {
     "end_time": "2024-12-10T23:03:26.256723Z",
     "start_time": "2024-12-10T23:03:26.231906Z"
    }
   },
   "cell_type": "code",
   "source": "df.head(5)",
   "id": "22c84e68f57966f0",
   "outputs": [
    {
     "data": {
      "text/plain": [
       "   Row ID        Order ID  Order Date   Ship Date       Ship Mode Customer ID  \\\n",
       "0       1  CA-2017-152156  08/11/2017  11/11/2017    Second Class    CG-12520   \n",
       "1       2  CA-2017-152156  08/11/2017  11/11/2017    Second Class    CG-12520   \n",
       "2       3  CA-2017-138688  12/06/2017  16/06/2017    Second Class    DV-13045   \n",
       "3       4  US-2016-108966  11/10/2016  18/10/2016  Standard Class    SO-20335   \n",
       "4       5  US-2016-108966  11/10/2016  18/10/2016  Standard Class    SO-20335   \n",
       "\n",
       "     Customer Name    Segment        Country             City       State  \\\n",
       "0      Claire Gute   Consumer  United States        Henderson    Kentucky   \n",
       "1      Claire Gute   Consumer  United States        Henderson    Kentucky   \n",
       "2  Darrin Van Huff  Corporate  United States      Los Angeles  California   \n",
       "3   Sean O'Donnell   Consumer  United States  Fort Lauderdale     Florida   \n",
       "4   Sean O'Donnell   Consumer  United States  Fort Lauderdale     Florida   \n",
       "\n",
       "   Postal Code Region       Product ID         Category Sub-Category  \\\n",
       "0        42420  South  FUR-BO-10001798        Furniture    Bookcases   \n",
       "1        42420  South  FUR-CH-10000454        Furniture       Chairs   \n",
       "2        90036   West  OFF-LA-10000240  Office Supplies       Labels   \n",
       "3        33311  South  FUR-TA-10000577        Furniture       Tables   \n",
       "4        33311  South  OFF-ST-10000760  Office Supplies      Storage   \n",
       "\n",
       "                                        Product Name     Sales  \n",
       "0                  Bush Somerset Collection Bookcase  261.9600  \n",
       "1  Hon Deluxe Fabric Upholstered Stacking Chairs,...  731.9400  \n",
       "2  Self-Adhesive Address Labels for Typewriters b...   14.6200  \n",
       "3      Bretford CR4500 Series Slim Rectangular Table  957.5775  \n",
       "4                     Eldon Fold 'N Roll Cart System   22.3680  "
      ],
      "text/html": [
       "<div>\n",
       "<style scoped>\n",
       "    .dataframe tbody tr th:only-of-type {\n",
       "        vertical-align: middle;\n",
       "    }\n",
       "\n",
       "    .dataframe tbody tr th {\n",
       "        vertical-align: top;\n",
       "    }\n",
       "\n",
       "    .dataframe thead th {\n",
       "        text-align: right;\n",
       "    }\n",
       "</style>\n",
       "<table border=\"1\" class=\"dataframe\">\n",
       "  <thead>\n",
       "    <tr style=\"text-align: right;\">\n",
       "      <th></th>\n",
       "      <th>Row ID</th>\n",
       "      <th>Order ID</th>\n",
       "      <th>Order Date</th>\n",
       "      <th>Ship Date</th>\n",
       "      <th>Ship Mode</th>\n",
       "      <th>Customer ID</th>\n",
       "      <th>Customer Name</th>\n",
       "      <th>Segment</th>\n",
       "      <th>Country</th>\n",
       "      <th>City</th>\n",
       "      <th>State</th>\n",
       "      <th>Postal Code</th>\n",
       "      <th>Region</th>\n",
       "      <th>Product ID</th>\n",
       "      <th>Category</th>\n",
       "      <th>Sub-Category</th>\n",
       "      <th>Product Name</th>\n",
       "      <th>Sales</th>\n",
       "    </tr>\n",
       "  </thead>\n",
       "  <tbody>\n",
       "    <tr>\n",
       "      <th>0</th>\n",
       "      <td>1</td>\n",
       "      <td>CA-2017-152156</td>\n",
       "      <td>08/11/2017</td>\n",
       "      <td>11/11/2017</td>\n",
       "      <td>Second Class</td>\n",
       "      <td>CG-12520</td>\n",
       "      <td>Claire Gute</td>\n",
       "      <td>Consumer</td>\n",
       "      <td>United States</td>\n",
       "      <td>Henderson</td>\n",
       "      <td>Kentucky</td>\n",
       "      <td>42420</td>\n",
       "      <td>South</td>\n",
       "      <td>FUR-BO-10001798</td>\n",
       "      <td>Furniture</td>\n",
       "      <td>Bookcases</td>\n",
       "      <td>Bush Somerset Collection Bookcase</td>\n",
       "      <td>261.9600</td>\n",
       "    </tr>\n",
       "    <tr>\n",
       "      <th>1</th>\n",
       "      <td>2</td>\n",
       "      <td>CA-2017-152156</td>\n",
       "      <td>08/11/2017</td>\n",
       "      <td>11/11/2017</td>\n",
       "      <td>Second Class</td>\n",
       "      <td>CG-12520</td>\n",
       "      <td>Claire Gute</td>\n",
       "      <td>Consumer</td>\n",
       "      <td>United States</td>\n",
       "      <td>Henderson</td>\n",
       "      <td>Kentucky</td>\n",
       "      <td>42420</td>\n",
       "      <td>South</td>\n",
       "      <td>FUR-CH-10000454</td>\n",
       "      <td>Furniture</td>\n",
       "      <td>Chairs</td>\n",
       "      <td>Hon Deluxe Fabric Upholstered Stacking Chairs,...</td>\n",
       "      <td>731.9400</td>\n",
       "    </tr>\n",
       "    <tr>\n",
       "      <th>2</th>\n",
       "      <td>3</td>\n",
       "      <td>CA-2017-138688</td>\n",
       "      <td>12/06/2017</td>\n",
       "      <td>16/06/2017</td>\n",
       "      <td>Second Class</td>\n",
       "      <td>DV-13045</td>\n",
       "      <td>Darrin Van Huff</td>\n",
       "      <td>Corporate</td>\n",
       "      <td>United States</td>\n",
       "      <td>Los Angeles</td>\n",
       "      <td>California</td>\n",
       "      <td>90036</td>\n",
       "      <td>West</td>\n",
       "      <td>OFF-LA-10000240</td>\n",
       "      <td>Office Supplies</td>\n",
       "      <td>Labels</td>\n",
       "      <td>Self-Adhesive Address Labels for Typewriters b...</td>\n",
       "      <td>14.6200</td>\n",
       "    </tr>\n",
       "    <tr>\n",
       "      <th>3</th>\n",
       "      <td>4</td>\n",
       "      <td>US-2016-108966</td>\n",
       "      <td>11/10/2016</td>\n",
       "      <td>18/10/2016</td>\n",
       "      <td>Standard Class</td>\n",
       "      <td>SO-20335</td>\n",
       "      <td>Sean O'Donnell</td>\n",
       "      <td>Consumer</td>\n",
       "      <td>United States</td>\n",
       "      <td>Fort Lauderdale</td>\n",
       "      <td>Florida</td>\n",
       "      <td>33311</td>\n",
       "      <td>South</td>\n",
       "      <td>FUR-TA-10000577</td>\n",
       "      <td>Furniture</td>\n",
       "      <td>Tables</td>\n",
       "      <td>Bretford CR4500 Series Slim Rectangular Table</td>\n",
       "      <td>957.5775</td>\n",
       "    </tr>\n",
       "    <tr>\n",
       "      <th>4</th>\n",
       "      <td>5</td>\n",
       "      <td>US-2016-108966</td>\n",
       "      <td>11/10/2016</td>\n",
       "      <td>18/10/2016</td>\n",
       "      <td>Standard Class</td>\n",
       "      <td>SO-20335</td>\n",
       "      <td>Sean O'Donnell</td>\n",
       "      <td>Consumer</td>\n",
       "      <td>United States</td>\n",
       "      <td>Fort Lauderdale</td>\n",
       "      <td>Florida</td>\n",
       "      <td>33311</td>\n",
       "      <td>South</td>\n",
       "      <td>OFF-ST-10000760</td>\n",
       "      <td>Office Supplies</td>\n",
       "      <td>Storage</td>\n",
       "      <td>Eldon Fold 'N Roll Cart System</td>\n",
       "      <td>22.3680</td>\n",
       "    </tr>\n",
       "  </tbody>\n",
       "</table>\n",
       "</div>"
      ]
     },
     "execution_count": 62,
     "metadata": {},
     "output_type": "execute_result"
    }
   ],
   "execution_count": 62
  },
  {
   "metadata": {
    "ExecuteTime": {
     "end_time": "2024-12-10T23:10:24.358812Z",
     "start_time": "2024-12-10T23:10:24.322591Z"
    }
   },
   "cell_type": "code",
   "source": [
    "customer_order_frequency = df.groupby(['Customer ID', 'Customer Name', 'Segment'])['Order ID'].count().reset_index()\n",
    "customer_order_frequency.rename(columns ={'Order ID':'Total Orders'}, inplace = True )"
   ],
   "id": "a0d5f3228144f0c9",
   "outputs": [],
   "execution_count": 65
  },
  {
   "metadata": {
    "ExecuteTime": {
     "end_time": "2024-12-10T23:10:24.692048Z",
     "start_time": "2024-12-10T23:10:24.687870Z"
    }
   },
   "cell_type": "code",
   "source": "print(customer_order_frequency)",
   "id": "603bbf11c26f9d88",
   "outputs": [
    {
     "name": "stdout",
     "output_type": "stream",
     "text": [
      "    Customer ID       Customer Name    Segment  Total Orders\n",
      "0      AA-10315          Alex Avila   Consumer            11\n",
      "1      AA-10375        Allen Armold   Consumer            15\n",
      "2      AA-10480        Andrew Allen   Consumer            12\n",
      "3      AA-10645       Anna Andreadi   Consumer            18\n",
      "4      AB-10015       Aaron Bergman   Consumer             6\n",
      "..          ...                 ...        ...           ...\n",
      "788    XP-21865        Xylona Preis   Consumer            28\n",
      "789    YC-21895      Yoseph Carroll  Corporate             8\n",
      "790    YS-21880       Yana Sorensen  Corporate            12\n",
      "791    ZC-21910    Zuschuss Carroll   Consumer            31\n",
      "792    ZD-21925  Zuschuss Donatelli   Consumer             9\n",
      "\n",
      "[793 rows x 4 columns]\n"
     ]
    }
   ],
   "execution_count": 66
  },
  {
   "metadata": {
    "ExecuteTime": {
     "end_time": "2024-12-10T23:11:56.682880Z",
     "start_time": "2024-12-10T23:11:56.669803Z"
    }
   },
   "cell_type": "code",
   "source": "repeat_customers = customer_order_frequency[customer_order_frequency['Total Orders'] >= 1]",
   "id": "1e715dff8b08a983",
   "outputs": [],
   "execution_count": 67
  },
  {
   "metadata": {
    "ExecuteTime": {
     "end_time": "2024-12-10T23:13:56.102429Z",
     "start_time": "2024-12-10T23:13:56.082093Z"
    }
   },
   "cell_type": "code",
   "source": "repeat_customers_sorted = repeat_customers.sort_values(by='Total Orders', ascending=False)",
   "id": "bcb0eb0ce7d87a90",
   "outputs": [],
   "execution_count": 70
  },
  {
   "metadata": {
    "ExecuteTime": {
     "end_time": "2024-12-10T23:15:17.513929Z",
     "start_time": "2024-12-10T23:15:17.479602Z"
    }
   },
   "cell_type": "code",
   "source": "print(repeat_customers_sorted.head(12).reset_index(drop=True))",
   "id": "fc6c9ab45c17911e",
   "outputs": [
    {
     "name": "stdout",
     "output_type": "stream",
     "text": [
      "   Customer ID        Customer Name      Segment  Total Orders\n",
      "0     WB-21850        William Brown     Consumer            35\n",
      "1     PP-18955           Paul Prost  Home Office            34\n",
      "2     MA-17560         Matt Abelman  Home Office            34\n",
      "3     JL-15835             John Lee     Consumer            33\n",
      "4     CK-12205  Chloris Kastensmidt     Consumer            32\n",
      "5     SV-20365          Seth Vernon     Consumer            32\n",
      "6     JD-15895     Jonathan Doherty    Corporate            32\n",
      "7     AP-10915       Arthur Prichep     Consumer            31\n",
      "8     ZC-21910     Zuschuss Carroll     Consumer            31\n",
      "9     EP-13915           Emily Phan     Consumer            31\n",
      "10    LC-16870        Lena Cacioppo     Consumer            30\n",
      "11    Dp-13240          Dean percer  Home Office            29\n"
     ]
    }
   ],
   "execution_count": 72
  },
  {
   "metadata": {
    "ExecuteTime": {
     "end_time": "2024-12-11T08:40:30.886714Z",
     "start_time": "2024-12-11T08:40:30.837121Z"
    }
   },
   "cell_type": "code",
   "source": "customer_sales = df.groupby(['Customer ID','Customer Name','Segment'])['Sales'].sum().reset_index()",
   "id": "ecaa5d948cc9243d",
   "outputs": [],
   "execution_count": 73
  },
  {
   "metadata": {
    "ExecuteTime": {
     "end_time": "2024-12-11T08:41:43.548147Z",
     "start_time": "2024-12-11T08:41:43.536984Z"
    }
   },
   "cell_type": "code",
   "source": "top_spenders = customer_sales.sort_values(by='Sales', ascending=False)",
   "id": "11c7d2818adced8d",
   "outputs": [],
   "execution_count": 76
  },
  {
   "metadata": {
    "ExecuteTime": {
     "end_time": "2024-12-11T08:42:13.302604Z",
     "start_time": "2024-12-11T08:42:13.290435Z"
    }
   },
   "cell_type": "code",
   "source": "print(top_spenders.head(12).reset_index(drop=True))",
   "id": "44ac0bbdbae622a",
   "outputs": [
    {
     "name": "stdout",
     "output_type": "stream",
     "text": [
      "   Customer ID       Customer Name      Segment      Sales\n",
      "0     SM-20320         Sean Miller  Home Office  25043.050\n",
      "1     TC-20980        Tamara Chand    Corporate  19052.218\n",
      "2     RB-19360        Raymond Buch     Consumer  15117.339\n",
      "3     TA-21385        Tom Ashbrook  Home Office  14595.620\n",
      "4     AB-10105       Adrian Barton     Consumer  14473.571\n",
      "5     KL-16645        Ken Lonsdale     Consumer  14175.229\n",
      "6     SC-20095        Sanjit Chand     Consumer  14142.334\n",
      "7     HL-15040        Hunter Lopez     Consumer  12873.298\n",
      "8     SE-20110        Sanjit Engle     Consumer  12209.438\n",
      "9     CC-12370  Christopher Conant     Consumer  12129.072\n",
      "10    TS-21370        Todd Sumrall    Corporate  11891.751\n",
      "11    GT-14710           Greg Tran     Consumer  11820.120\n"
     ]
    }
   ],
   "execution_count": 78
  },
  {
   "metadata": {
    "ExecuteTime": {
     "end_time": "2024-12-11T08:59:58.328444Z",
     "start_time": "2024-12-11T08:59:58.320565Z"
    }
   },
   "cell_type": "code",
   "source": [
    "shipping_model = df['Ship Mode'].value_counts().reset_index()\n",
    "shipping_model = shipping_model.rename(columns={'index': 'Use Frequency','Ship Mode': 'Mode of Shipment'})"
   ],
   "id": "4b4c34bbd6ad7298",
   "outputs": [],
   "execution_count": 95
  },
  {
   "metadata": {
    "ExecuteTime": {
     "end_time": "2024-12-11T08:59:59.147961Z",
     "start_time": "2024-12-11T08:59:59.143031Z"
    }
   },
   "cell_type": "code",
   "source": "print(shipping_model)",
   "id": "b9eda99a58136767",
   "outputs": [
    {
     "name": "stdout",
     "output_type": "stream",
     "text": [
      "  Mode of Shipment  count\n",
      "0   Standard Class   5859\n",
      "1     Second Class   1902\n",
      "2      First Class   1501\n",
      "3         Same Day    538\n"
     ]
    }
   ],
   "execution_count": 96
  },
  {
   "metadata": {
    "ExecuteTime": {
     "end_time": "2024-12-11T09:01:09.199094Z",
     "start_time": "2024-12-11T09:01:09.121155Z"
    }
   },
   "cell_type": "code",
   "source": "plt.pie(shipping_model['count'], labels = shipping_model['Mode of Shipment'], autopct=\"%1.1f%%\")",
   "id": "19b076ce07503849",
   "outputs": [
    {
     "data": {
      "text/plain": [
       "([<matplotlib.patches.Wedge at 0x1558e58e0>,\n",
       "  <matplotlib.patches.Wedge at 0x155a50890>,\n",
       "  <matplotlib.patches.Wedge at 0x1558e7860>,\n",
       "  <matplotlib.patches.Wedge at 0x1558e5910>],\n",
       " [Text(-0.3328682142840549, 1.0484267985507356, 'Standard Class'),\n",
       "  Text(-0.3732753555364641, -1.0347296791670404, 'Second Class'),\n",
       "  Text(0.7455146923475287, -0.8088311588298078, 'First Class'),\n",
       "  Text(1.083680807320627, -0.18877475425732734, 'Same Day')],\n",
       " [Text(-0.18156448051857538, 0.5718691628458558, '59.8%'),\n",
       "  Text(-0.20360473938352586, -0.5643980068183856, '19.4%'),\n",
       "  Text(0.4066443776441065, -0.44118063208898606, '15.3%'),\n",
       "  Text(0.5910986221748874, -0.102968047776724, '5.5%')])"
      ]
     },
     "execution_count": 99,
     "metadata": {},
     "output_type": "execute_result"
    },
    {
     "data": {
      "text/plain": [
       "<Figure size 640x480 with 1 Axes>"
      ],
      "image/png": "[encoded data removed]"
     },
     "metadata": {},
     "output_type": "display_data"
    }
   ],
   "execution_count": 99
  },
  {
   "metadata": {
    "ExecuteTime": {
     "end_time": "2024-12-11T09:02:51.205633Z",
     "start_time": "2024-12-11T09:02:51.165825Z"
    }
   },
   "cell_type": "code",
   "source": "state = df['State'].value_counts().reset_index()\n",
   "id": "822948584f5912c0",
   "outputs": [],
   "execution_count": 101
  },
  {
   "metadata": {
    "ExecuteTime": {
     "end_time": "2024-12-11T09:04:55.159656Z",
     "start_time": "2024-12-11T09:04:55.142478Z"
    }
   },
   "cell_type": "code",
   "source": "state = state.rename(columns={'index':'State', 'State': 'Number of Customers'})",
   "id": "a6e1f452311b7872",
   "outputs": [],
   "execution_count": 103
  },
  {
   "metadata": {
    "ExecuteTime": {
     "end_time": "2024-12-11T09:05:05.246961Z",
     "start_time": "2024-12-11T09:05:05.238919Z"
    }
   },
   "cell_type": "code",
   "source": "print(state.head(20))",
   "id": "205342f339db307a",
   "outputs": [
    {
     "name": "stdout",
     "output_type": "stream",
     "text": [
      "   Number of Customers  count\n",
      "0           California   1946\n",
      "1             New York   1097\n",
      "2                Texas    973\n",
      "3         Pennsylvania    582\n",
      "4           Washington    504\n",
      "5             Illinois    483\n",
      "6                 Ohio    454\n",
      "7              Florida    373\n",
      "8             Michigan    253\n",
      "9       North Carolina    247\n",
      "10            Virginia    224\n",
      "11             Arizona    223\n",
      "12           Tennessee    183\n",
      "13            Colorado    179\n",
      "14             Georgia    177\n",
      "15            Kentucky    137\n",
      "16             Indiana    135\n",
      "17       Massachusetts    135\n",
      "18              Oregon    122\n",
      "19          New Jersey    122\n"
     ]
    }
   ],
   "execution_count": 104
  },
  {
   "metadata": {
    "ExecuteTime": {
     "end_time": "2024-12-11T09:06:31.281446Z",
     "start_time": "2024-12-11T09:06:31.269446Z"
    }
   },
   "cell_type": "code",
   "source": [
    "city = df['City'].value_counts().reset_index()\n",
    "print(city.head(15))"
   ],
   "id": "17db86ffd30fecde",
   "outputs": [
    {
     "name": "stdout",
     "output_type": "stream",
     "text": [
      "             City  count\n",
      "0   New York City    891\n",
      "1     Los Angeles    728\n",
      "2    Philadelphia    532\n",
      "3   San Francisco    500\n",
      "4         Seattle    426\n",
      "5         Houston    374\n",
      "6         Chicago    308\n",
      "7        Columbus    221\n",
      "8       San Diego    170\n",
      "9     Springfield    161\n",
      "10         Dallas    156\n",
      "11   Jacksonville    125\n",
      "12        Detroit    115\n",
      "13         Newark     92\n",
      "14        Jackson     82\n"
     ]
    }
   ],
   "execution_count": 106
  },
  {
   "metadata": {
    "ExecuteTime": {
     "end_time": "2024-12-11T09:11:43.244469Z",
     "start_time": "2024-12-11T09:11:43.231344Z"
    }
   },
   "cell_type": "code",
   "source": [
    "state_sales = df.groupby('State')['Sales'].sum().reset_index()\n",
    "top_sales = state_sales.sort_values(by='Sales', ascending=False)"
   ],
   "id": "f54beda82ef34a95",
   "outputs": [],
   "execution_count": 114
  },
  {
   "metadata": {
    "ExecuteTime": {
     "end_time": "2024-12-11T09:12:08.497619Z",
     "start_time": "2024-12-11T09:12:08.479434Z"
    }
   },
   "cell_type": "code",
   "source": "print(top_sales.head(10).reset_index(drop=True))",
   "id": "4cda2a1e091b0a4b",
   "outputs": [
    {
     "name": "stdout",
     "output_type": "stream",
     "text": [
      "          State        Sales\n",
      "0    California  446306.4635\n",
      "1      New York  306361.1470\n",
      "2         Texas  168572.5322\n",
      "3    Washington  135206.8500\n",
      "4  Pennsylvania  116276.6500\n",
      "5       Florida   88436.5320\n",
      "6      Illinois   79236.5170\n",
      "7      Michigan   76136.0740\n",
      "8          Ohio   75130.3500\n",
      "9      Virginia   70636.7200\n"
     ]
    }
   ],
   "execution_count": 115
  },
  {
   "metadata": {
    "ExecuteTime": {
     "end_time": "2024-12-11T09:14:44.164156Z",
     "start_time": "2024-12-11T09:14:44.117371Z"
    }
   },
   "cell_type": "code",
   "source": [
    "city_sales = df.groupby('City')['Sales'].sum().reset_index()\n",
    "top_city_sales = city_sales.sort_values(by='Sales', ascending=False)"
   ],
   "id": "c3427232bf1ec066",
   "outputs": [],
   "execution_count": 116
  },
  {
   "metadata": {
    "ExecuteTime": {
     "end_time": "2024-12-11T09:15:03.749040Z",
     "start_time": "2024-12-11T09:15:03.738677Z"
    }
   },
   "cell_type": "code",
   "source": "print(top_city_sales.head(10).reset_index(drop=True))",
   "id": "f315a02cf791350e",
   "outputs": [
    {
     "name": "stdout",
     "output_type": "stream",
     "text": [
      "            City        Sales\n",
      "0  New York City  252462.5470\n",
      "1    Los Angeles  173420.1810\n",
      "2        Seattle  116106.3220\n",
      "3  San Francisco  109041.1200\n",
      "4   Philadelphia  108841.7490\n",
      "5        Houston   63956.1428\n",
      "6        Chicago   47820.1330\n",
      "7      San Diego   47521.0290\n",
      "8   Jacksonville   44713.1830\n",
      "9        Detroit   42446.9440\n"
     ]
    }
   ],
   "execution_count": 117
  },
  {
   "metadata": {
    "ExecuteTime": {
     "end_time": "2024-12-11T09:16:09.201742Z",
     "start_time": "2024-12-11T09:16:09.182841Z"
    }
   },
   "cell_type": "code",
   "source": [
    "products = df['Category'].unique()\n",
    "print(products)"
   ],
   "id": "af5ddb80ec02ee5e",
   "outputs": [
    {
     "name": "stdout",
     "output_type": "stream",
     "text": [
      "['Furniture' 'Office Supplies' 'Technology']\n"
     ]
    }
   ],
   "execution_count": 118
  },
  {
   "metadata": {
    "ExecuteTime": {
     "end_time": "2024-12-11T09:18:06.632460Z",
     "start_time": "2024-12-11T09:18:06.623558Z"
    }
   },
   "cell_type": "code",
   "source": [
    "product_subcategory = df['Sub-Category'].unique()\n",
    "print(product_subcategory)"
   ],
   "id": "563d21cada66ed0c",
   "outputs": [
    {
     "name": "stdout",
     "output_type": "stream",
     "text": [
      "['Bookcases' 'Chairs' 'Labels' 'Tables' 'Storage' 'Furnishings' 'Art'\n",
      " 'Phones' 'Binders' 'Appliances' 'Paper' 'Accessories' 'Envelopes'\n",
      " 'Fasteners' 'Supplies' 'Machines' 'Copiers']\n"
     ]
    }
   ],
   "execution_count": 123
  },
  {
   "metadata": {
    "ExecuteTime": {
     "end_time": "2024-12-11T09:26:01.596786Z",
     "start_time": "2024-12-11T09:26:01.580459Z"
    }
   },
   "cell_type": "code",
   "source": [
    "subcategory_count = df.groupby('Category')['Sub-Category'].nunique().reset_index()\n",
    "subcategory_count = subcategory_count.sort_values(by='Sub-Category', ascending=False)"
   ],
   "id": "7cd964f706c7a127",
   "outputs": [],
   "execution_count": 126
  },
  {
   "metadata": {
    "ExecuteTime": {
     "end_time": "2024-12-11T09:26:08.624184Z",
     "start_time": "2024-12-11T09:26:08.609599Z"
    }
   },
   "cell_type": "code",
   "source": "print(subcategory_count)",
   "id": "abde4f61ce156ee9",
   "outputs": [
    {
     "name": "stdout",
     "output_type": "stream",
     "text": [
      "          Category  Sub-Category\n",
      "1  Office Supplies             9\n",
      "0        Furniture             4\n",
      "2       Technology             4\n"
     ]
    }
   ],
   "execution_count": 127
  },
  {
   "metadata": {},
   "cell_type": "markdown",
   "source": "",
   "id": "361f91277c4d1466"
  },
  {
   "metadata": {
    "ExecuteTime": {
     "end_time": "2024-12-11T09:36:39.113482Z",
     "start_time": "2024-12-11T09:36:39.084126Z"
    }
   },
   "cell_type": "code",
   "source": [
    "subcategory_count_sales = df.groupby(['Category','Sub-Category'])['Sales'].sum().reset_index()\n",
    "subcategory_count_sales = subcategory_count_sales.sort_values(by='Sales', ascending=False)"
   ],
   "id": "9f47223ae28aec2",
   "outputs": [],
   "execution_count": 135
  },
  {
   "metadata": {
    "ExecuteTime": {
     "end_time": "2024-12-11T09:36:39.947338Z",
     "start_time": "2024-12-11T09:36:39.942206Z"
    }
   },
   "cell_type": "code",
   "source": "print(subcategory_count_sales)",
   "id": "bd5fec89c6806e11",
   "outputs": [
    {
     "name": "stdout",
     "output_type": "stream",
     "text": [
      "           Category Sub-Category        Sales\n",
      "16       Technology       Phones  327782.4480\n",
      "1         Furniture       Chairs  322822.7310\n",
      "11  Office Supplies      Storage  219343.3920\n",
      "3         Furniture       Tables  202810.6280\n",
      "6   Office Supplies      Binders  200028.7850\n",
      "15       Technology     Machines  189238.6310\n",
      "13       Technology  Accessories  164186.7000\n",
      "14       Technology      Copiers  146248.0940\n",
      "0         Furniture    Bookcases  113813.1987\n",
      "4   Office Supplies   Appliances  104618.4030\n",
      "2         Furniture  Furnishings   89212.0180\n",
      "10  Office Supplies        Paper   76828.3040\n",
      "12  Office Supplies     Supplies   46420.3080\n",
      "5   Office Supplies          Art   26705.4100\n",
      "7   Office Supplies    Envelopes   16128.0460\n",
      "9   Office Supplies       Labels   12347.7260\n",
      "8   Office Supplies    Fasteners    3001.9600\n"
     ]
    }
   ],
   "execution_count": 136
  },
  {
   "metadata": {
    "ExecuteTime": {
     "end_time": "2024-12-11T09:38:39.197269Z",
     "start_time": "2024-12-11T09:38:39.157719Z"
    }
   },
   "cell_type": "code",
   "source": [
    "product_category = df.groupby('Category')['Sales'].sum().reset_index()\n",
    "top_product_category = product_category.sort_values(by='Sales', ascending=False)\n",
    "print(top_product_category.reset_index(drop=True))"
   ],
   "id": "55e77cd8a4156aae",
   "outputs": [
    {
     "name": "stdout",
     "output_type": "stream",
     "text": [
      "          Category        Sales\n",
      "0       Technology  827455.8730\n",
      "1        Furniture  728658.5757\n",
      "2  Office Supplies  705422.3340\n"
     ]
    }
   ],
   "execution_count": 137
  },
  {
   "metadata": {
    "ExecuteTime": {
     "end_time": "2024-12-11T09:42:47.340339Z",
     "start_time": "2024-12-11T09:42:47.272443Z"
    }
   },
   "cell_type": "code",
   "source": [
    "colors = ['#FFC0CB','#E6E6FA','#B0E0E6'] \n",
    "plt.pie(top_product_category['Sales'], labels = top_product_category['Category'], colors = colors, autopct=\"%1.1f%%\")"
   ],
   "id": "458bf6ff10076d89",
   "outputs": [
    {
     "data": {
      "text/plain": [
       "([<matplotlib.patches.Wedge at 0x1570d7b30>,\n",
       "  <matplotlib.patches.Wedge at 0x155a51b50>,\n",
       "  <matplotlib.patches.Wedge at 0x157129850>],\n",
       " [Text(0.4498857223734124, 1.003794220348251, 'Technology'),\n",
       "  Text(-1.0842321085760298, -0.18558215090028554, 'Furniture'),\n",
       "  Text(0.6127880326006169, -0.9135046946247543, 'Office Supplies')],\n",
       " [Text(0.24539221220367946, 0.547524120189955, '36.6%'),\n",
       "  Text(-0.5913993319505617, -0.1012266277637921, '32.2%'),\n",
       "  Text(0.3342480177821546, -0.4982752879771386, '31.2%')])"
      ]
     },
     "execution_count": 141,
     "metadata": {},
     "output_type": "execute_result"
    },
    {
     "data": {
      "text/plain": [
       "<Figure size 640x480 with 1 Axes>"
      ],
      "image/png": "[encoded data removed]"
     },
     "metadata": {},
     "output_type": "display_data"
    }
   ],
   "execution_count": 141
  },
  {
   "metadata": {},
   "cell_type": "code",
   "outputs": [],
   "execution_count": null,
   "source": "",
   "id": "325926698936ed7e"
  }
 ],
 "metadata": {
  "kernelspec": {
   "display_name": "Python 3",
   "language": "python",
   "name": "python3"
  },
  "language_info": {
   "codemirror_mode": {
    "name": "ipython",
    "version": 2
   },
   "file_extension": ".py",
   "mimetype": "text/x-python",
   "name": "python",
   "nbconvert_exporter": "python",
   "pygments_lexer": "ipython2",
   "version": "2.7.6"
  }
 },
 "nbformat": 4,
 "nbformat_minor": 5
}
