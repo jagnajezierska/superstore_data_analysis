{
 "cells": [
  {
   "metadata": {
    "ExecuteTime": {
     "end_time": "2024-12-11T11:18:18.404944Z",
     "start_time": "2024-12-11T11:18:18.392067Z"
    }
   },
   "cell_type": "code",
   "source": "import pandas as pd\n",
   "id": "fbc121e30a2defb3",
   "outputs": [],
   "execution_count": 212
  },
  {
   "metadata": {
    "ExecuteTime": {
     "end_time": "2024-12-11T11:18:19.911258Z",
     "start_time": "2024-12-11T11:18:19.905051Z"
    }
   },
   "cell_type": "code",
   "source": [
    "import numpy as np\n",
    "import matplotlib.pyplot as plt\n",
    "import seaborn as sns"
   ],
   "id": "8ec8936414d549",
   "outputs": [],
   "execution_count": 213
  },
  {
   "metadata": {
    "ExecuteTime": {
     "end_time": "2024-12-11T11:18:20.785714Z",
     "start_time": "2024-12-11T11:18:20.731781Z"
    }
   },
   "cell_type": "code",
   "source": "df = pd.read_csv(r\"data/train.csv\")",
   "id": "c3c9d2449dbf58db",
   "outputs": [],
   "execution_count": 214
  },
  {
   "metadata": {
    "ExecuteTime": {
     "end_time": "2024-12-11T11:18:20.923488Z",
     "start_time": "2024-12-11T11:18:20.913769Z"
    }
   },
   "cell_type": "code",
   "source": "df.head()",
   "id": "cd3eec5996377011",
   "outputs": [
    {
     "data": {
      "text/plain": [
       "   Row ID        Order ID  Order Date   Ship Date       Ship Mode Customer ID  \\\n",
       "0       1  CA-2017-152156  08/11/2017  11/11/2017    Second Class    CG-12520   \n",
       "1       2  CA-2017-152156  08/11/2017  11/11/2017    Second Class    CG-12520   \n",
       "2       3  CA-2017-138688  12/06/2017  16/06/2017    Second Class    DV-13045   \n",
       "3       4  US-2016-108966  11/10/2016  18/10/2016  Standard Class    SO-20335   \n",
       "4       5  US-2016-108966  11/10/2016  18/10/2016  Standard Class    SO-20335   \n",
       "\n",
       "     Customer Name    Segment        Country             City       State  \\\n",
       "0      Claire Gute   Consumer  United States        Henderson    Kentucky   \n",
       "1      Claire Gute   Consumer  United States        Henderson    Kentucky   \n",
       "2  Darrin Van Huff  Corporate  United States      Los Angeles  California   \n",
       "3   Sean O'Donnell   Consumer  United States  Fort Lauderdale     Florida   \n",
       "4   Sean O'Donnell   Consumer  United States  Fort Lauderdale     Florida   \n",
       "\n",
       "   Postal Code Region       Product ID         Category Sub-Category  \\\n",
       "0      42420.0  South  FUR-BO-10001798        Furniture    Bookcases   \n",
       "1      42420.0  South  FUR-CH-10000454        Furniture       Chairs   \n",
       "2      90036.0   West  OFF-LA-10000240  Office Supplies       Labels   \n",
       "3      33311.0  South  FUR-TA-10000577        Furniture       Tables   \n",
       "4      33311.0  South  OFF-ST-10000760  Office Supplies      Storage   \n",
       "\n",
       "                                        Product Name     Sales  \n",
       "0                  Bush Somerset Collection Bookcase  261.9600  \n",
       "1  Hon Deluxe Fabric Upholstered Stacking Chairs,...  731.9400  \n",
       "2  Self-Adhesive Address Labels for Typewriters b...   14.6200  \n",
       "3      Bretford CR4500 Series Slim Rectangular Table  957.5775  \n",
       "4                     Eldon Fold 'N Roll Cart System   22.3680  "
      ],
      "text/html": [
       "<div>\n",
       "<style scoped>\n",
       "    .dataframe tbody tr th:only-of-type {\n",
       "        vertical-align: middle;\n",
       "    }\n",
       "\n",
       "    .dataframe tbody tr th {\n",
       "        vertical-align: top;\n",
       "    }\n",
       "\n",
       "    .dataframe thead th {\n",
       "        text-align: right;\n",
       "    }\n",
       "</style>\n",
       "<table border=\"1\" class=\"dataframe\">\n",
       "  <thead>\n",
       "    <tr style=\"text-align: right;\">\n",
       "      <th></th>\n",
       "      <th>Row ID</th>\n",
       "      <th>Order ID</th>\n",
       "      <th>Order Date</th>\n",
       "      <th>Ship Date</th>\n",
       "      <th>Ship Mode</th>\n",
       "      <th>Customer ID</th>\n",
       "      <th>Customer Name</th>\n",
       "      <th>Segment</th>\n",
       "      <th>Country</th>\n",
       "      <th>City</th>\n",
       "      <th>State</th>\n",
       "      <th>Postal Code</th>\n",
       "      <th>Region</th>\n",
       "      <th>Product ID</th>\n",
       "      <th>Category</th>\n",
       "      <th>Sub-Category</th>\n",
       "      <th>Product Name</th>\n",
       "      <th>Sales</th>\n",
       "    </tr>\n",
       "  </thead>\n",
       "  <tbody>\n",
       "    <tr>\n",
       "      <th>0</th>\n",
       "      <td>1</td>\n",
       "      <td>CA-2017-152156</td>\n",
       "      <td>08/11/2017</td>\n",
       "      <td>11/11/2017</td>\n",
       "      <td>Second Class</td>\n",
       "      <td>CG-12520</td>\n",
       "      <td>Claire Gute</td>\n",
       "      <td>Consumer</td>\n",
       "      <td>United States</td>\n",
       "      <td>Henderson</td>\n",
       "      <td>Kentucky</td>\n",
       "      <td>42420.0</td>\n",
       "      <td>South</td>\n",
       "      <td>FUR-BO-10001798</td>\n",
       "      <td>Furniture</td>\n",
       "      <td>Bookcases</td>\n",
       "      <td>Bush Somerset Collection Bookcase</td>\n",
       "      <td>261.9600</td>\n",
       "    </tr>\n",
       "    <tr>\n",
       "      <th>1</th>\n",
       "      <td>2</td>\n",
       "      <td>CA-2017-152156</td>\n",
       "      <td>08/11/2017</td>\n",
       "      <td>11/11/2017</td>\n",
       "      <td>Second Class</td>\n",
       "      <td>CG-12520</td>\n",
       "      <td>Claire Gute</td>\n",
       "      <td>Consumer</td>\n",
       "      <td>United States</td>\n",
       "      <td>Henderson</td>\n",
       "      <td>Kentucky</td>\n",
       "      <td>42420.0</td>\n",
       "      <td>South</td>\n",
       "      <td>FUR-CH-10000454</td>\n",
       "      <td>Furniture</td>\n",
       "      <td>Chairs</td>\n",
       "      <td>Hon Deluxe Fabric Upholstered Stacking Chairs,...</td>\n",
       "      <td>731.9400</td>\n",
       "    </tr>\n",
       "    <tr>\n",
       "      <th>2</th>\n",
       "      <td>3</td>\n",
       "      <td>CA-2017-138688</td>\n",
       "      <td>12/06/2017</td>\n",
       "      <td>16/06/2017</td>\n",
       "      <td>Second Class</td>\n",
       "      <td>DV-13045</td>\n",
       "      <td>Darrin Van Huff</td>\n",
       "      <td>Corporate</td>\n",
       "      <td>United States</td>\n",
       "      <td>Los Angeles</td>\n",
       "      <td>California</td>\n",
       "      <td>90036.0</td>\n",
       "      <td>West</td>\n",
       "      <td>OFF-LA-10000240</td>\n",
       "      <td>Office Supplies</td>\n",
       "      <td>Labels</td>\n",
       "      <td>Self-Adhesive Address Labels for Typewriters b...</td>\n",
       "      <td>14.6200</td>\n",
       "    </tr>\n",
       "    <tr>\n",
       "      <th>3</th>\n",
       "      <td>4</td>\n",
       "      <td>US-2016-108966</td>\n",
       "      <td>11/10/2016</td>\n",
       "      <td>18/10/2016</td>\n",
       "      <td>Standard Class</td>\n",
       "      <td>SO-20335</td>\n",
       "      <td>Sean O'Donnell</td>\n",
       "      <td>Consumer</td>\n",
       "      <td>United States</td>\n",
       "      <td>Fort Lauderdale</td>\n",
       "      <td>Florida</td>\n",
       "      <td>33311.0</td>\n",
       "      <td>South</td>\n",
       "      <td>FUR-TA-10000577</td>\n",
       "      <td>Furniture</td>\n",
       "      <td>Tables</td>\n",
       "      <td>Bretford CR4500 Series Slim Rectangular Table</td>\n",
       "      <td>957.5775</td>\n",
       "    </tr>\n",
       "    <tr>\n",
       "      <th>4</th>\n",
       "      <td>5</td>\n",
       "      <td>US-2016-108966</td>\n",
       "      <td>11/10/2016</td>\n",
       "      <td>18/10/2016</td>\n",
       "      <td>Standard Class</td>\n",
       "      <td>SO-20335</td>\n",
       "      <td>Sean O'Donnell</td>\n",
       "      <td>Consumer</td>\n",
       "      <td>United States</td>\n",
       "      <td>Fort Lauderdale</td>\n",
       "      <td>Florida</td>\n",
       "      <td>33311.0</td>\n",
       "      <td>South</td>\n",
       "      <td>OFF-ST-10000760</td>\n",
       "      <td>Office Supplies</td>\n",
       "      <td>Storage</td>\n",
       "      <td>Eldon Fold 'N Roll Cart System</td>\n",
       "      <td>22.3680</td>\n",
       "    </tr>\n",
       "  </tbody>\n",
       "</table>\n",
       "</div>"
      ]
     },
     "execution_count": 215,
     "metadata": {},
     "output_type": "execute_result"
    }
   ],
   "execution_count": 215
  },
  {
   "metadata": {
    "ExecuteTime": {
     "end_time": "2024-12-11T11:18:21.170116Z",
     "start_time": "2024-12-11T11:18:21.155608Z"
    }
   },
   "cell_type": "code",
   "source": "df.info()",
   "id": "cb21401fa845cd0",
   "outputs": [
    {
     "name": "stdout",
     "output_type": "stream",
     "text": [
      "<class 'pandas.core.frame.DataFrame'>\n",
      "RangeIndex: 9800 entries, 0 to 9799\n",
      "Data columns (total 18 columns):\n",
      " #   Column         Non-Null Count  Dtype  \n",
      "---  ------         --------------  -----  \n",
      " 0   Row ID         9800 non-null   int64  \n",
      " 1   Order ID       9800 non-null   object \n",
      " 2   Order Date     9800 non-null   object \n",
      " 3   Ship Date      9800 non-null   object \n",
      " 4   Ship Mode      9800 non-null   object \n",
      " 5   Customer ID    9800 non-null   object \n",
      " 6   Customer Name  9800 non-null   object \n",
      " 7   Segment        9800 non-null   object \n",
      " 8   Country        9800 non-null   object \n",
      " 9   City           9800 non-null   object \n",
      " 10  State          9800 non-null   object \n",
      " 11  Postal Code    9789 non-null   float64\n",
      " 12  Region         9800 non-null   object \n",
      " 13  Product ID     9800 non-null   object \n",
      " 14  Category       9800 non-null   object \n",
      " 15  Sub-Category   9800 non-null   object \n",
      " 16  Product Name   9800 non-null   object \n",
      " 17  Sales          9800 non-null   float64\n",
      "dtypes: float64(2), int64(1), object(15)\n",
      "memory usage: 1.3+ MB\n"
     ]
    }
   ],
   "execution_count": 216
  },
  {
   "metadata": {
    "ExecuteTime": {
     "end_time": "2024-12-11T11:18:21.393241Z",
     "start_time": "2024-12-11T11:18:21.390272Z"
    }
   },
   "cell_type": "code",
   "source": "df.fillna({\"Postal Code\": 0}, inplace=True)",
   "id": "5b2b2d43ecf6628b",
   "outputs": [],
   "execution_count": 217
  },
  {
   "metadata": {
    "ExecuteTime": {
     "end_time": "2024-12-11T11:18:21.518273Z",
     "start_time": "2024-12-11T11:18:21.514412Z"
    }
   },
   "cell_type": "code",
   "source": "df[\"Postal Code\"] = df[\"Postal Code\"].astype(int)",
   "id": "16799f1cacb5a5b5",
   "outputs": [],
   "execution_count": 218
  },
  {
   "metadata": {
    "ExecuteTime": {
     "end_time": "2024-12-11T11:18:21.605273Z",
     "start_time": "2024-12-11T11:18:21.592831Z"
    }
   },
   "cell_type": "code",
   "source": "df.info()",
   "id": "f420cd9eff3b5d0",
   "outputs": [
    {
     "name": "stdout",
     "output_type": "stream",
     "text": [
      "<class 'pandas.core.frame.DataFrame'>\n",
      "RangeIndex: 9800 entries, 0 to 9799\n",
      "Data columns (total 18 columns):\n",
      " #   Column         Non-Null Count  Dtype  \n",
      "---  ------         --------------  -----  \n",
      " 0   Row ID         9800 non-null   int64  \n",
      " 1   Order ID       9800 non-null   object \n",
      " 2   Order Date     9800 non-null   object \n",
      " 3   Ship Date      9800 non-null   object \n",
      " 4   Ship Mode      9800 non-null   object \n",
      " 5   Customer ID    9800 non-null   object \n",
      " 6   Customer Name  9800 non-null   object \n",
      " 7   Segment        9800 non-null   object \n",
      " 8   Country        9800 non-null   object \n",
      " 9   City           9800 non-null   object \n",
      " 10  State          9800 non-null   object \n",
      " 11  Postal Code    9800 non-null   int64  \n",
      " 12  Region         9800 non-null   object \n",
      " 13  Product ID     9800 non-null   object \n",
      " 14  Category       9800 non-null   object \n",
      " 15  Sub-Category   9800 non-null   object \n",
      " 16  Product Name   9800 non-null   object \n",
      " 17  Sales          9800 non-null   float64\n",
      "dtypes: float64(1), int64(2), object(15)\n",
      "memory usage: 1.3+ MB\n"
     ]
    }
   ],
   "execution_count": 219
  },
  {
   "metadata": {
    "ExecuteTime": {
     "end_time": "2024-12-11T11:18:21.821206Z",
     "start_time": "2024-12-11T11:18:21.804907Z"
    }
   },
   "cell_type": "code",
   "source": [
    "if df.duplicated().sum() > 0:\n",
    "    print(\"Duplicate exists\")\n",
    "else:\n",
    "    print(\"Duplicate doesn't exist\")"
   ],
   "id": "abe5017a9d4df2e6",
   "outputs": [
    {
     "name": "stdout",
     "output_type": "stream",
     "text": [
      "Duplicate doesn't exist\n"
     ]
    }
   ],
   "execution_count": 220
  },
  {
   "metadata": {
    "ExecuteTime": {
     "end_time": "2024-12-11T11:18:22.099440Z",
     "start_time": "2024-12-11T11:18:22.095424Z"
    }
   },
   "cell_type": "code",
   "source": "types_of_customers = df[\"Segment\"].unique()",
   "id": "67fadf54e47aa46f",
   "outputs": [],
   "execution_count": 221
  },
  {
   "metadata": {
    "ExecuteTime": {
     "end_time": "2024-12-11T11:18:22.184281Z",
     "start_time": "2024-12-11T11:18:22.181338Z"
    }
   },
   "cell_type": "code",
   "source": "print(types_of_customers)",
   "id": "5b0dc16f8d88a549",
   "outputs": [
    {
     "name": "stdout",
     "output_type": "stream",
     "text": [
      "['Consumer' 'Corporate' 'Home Office']\n"
     ]
    }
   ],
   "execution_count": 222
  },
  {
   "metadata": {
    "ExecuteTime": {
     "end_time": "2024-12-11T11:18:22.377853Z",
     "start_time": "2024-12-11T11:18:22.373478Z"
    }
   },
   "cell_type": "code",
   "source": "number_of_customers = df['Segment'].value_counts().reset_index()",
   "id": "b0a59e28652da5f1",
   "outputs": [],
   "execution_count": 223
  },
  {
   "metadata": {
    "ExecuteTime": {
     "end_time": "2024-12-11T11:18:22.396735Z",
     "start_time": "2024-12-11T11:18:22.393790Z"
    }
   },
   "cell_type": "code",
   "source": "number_of_customers = number_of_customers.rename(columns={\"Segment\": \"Type of Customer\"})\n",
   "id": "f17b15f4c231adb8",
   "outputs": [],
   "execution_count": 224
  },
  {
   "metadata": {
    "ExecuteTime": {
     "end_time": "2024-12-11T11:18:22.538860Z",
     "start_time": "2024-12-11T11:18:22.535870Z"
    }
   },
   "cell_type": "code",
   "source": "print(number_of_customers)",
   "id": "b697b6a452706d9c",
   "outputs": [
    {
     "name": "stdout",
     "output_type": "stream",
     "text": [
      "  Type of Customer  count\n",
      "0         Consumer   5101\n",
      "1        Corporate   2953\n",
      "2      Home Office   1746\n"
     ]
    }
   ],
   "execution_count": 225
  },
  {
   "metadata": {
    "ExecuteTime": {
     "end_time": "2024-12-11T11:18:22.889546Z",
     "start_time": "2024-12-11T11:18:22.799072Z"
    }
   },
   "cell_type": "code",
   "source": "plt.pie(number_of_customers[\"count\"],labels = number_of_customers[\"Type of Customer\"],autopct=\"%1.1f%%\")\n",
   "id": "a67e1c1aff67a417",
   "outputs": [
    {
     "data": {
      "text/plain": [
       "([<matplotlib.patches.Wedge at 0x15be28140>,\n",
       "  <matplotlib.patches.Wedge at 0x15a6cf890>,\n",
       "  <matplotlib.patches.Wedge at 0x15be287d0>],\n",
       " [Text(-0.07082911608159113, 1.0977172843292122, 'Consumer'),\n",
       "  Text(-0.5228074775852011, -0.9678183411059121, 'Corporate'),\n",
       "  Text(0.9321462996405261, -0.5840404746817421, 'Home Office')],\n",
       " [Text(-0.03863406331723152, 0.5987548823613884, '52.1%'),\n",
       "  Text(-0.28516771504647326, -0.5279009133304975, '30.1%'),\n",
       "  Text(0.5084434361675596, -0.3185675316445866, '17.8%')])"
      ]
     },
     "execution_count": 226,
     "metadata": {},
     "output_type": "execute_result"
    },
    {
     "data": {
      "text/plain": [
       "<Figure size 640x480 with 1 Axes>"
      ],
      "image/png": "[encoded data removed]"
     },
     "metadata": {},
     "output_type": "display_data"
    }
   ],
   "execution_count": 226
  },
  {
   "metadata": {
    "ExecuteTime": {
     "end_time": "2024-12-11T11:18:23.028049Z",
     "start_time": "2024-12-11T11:18:23.020457Z"
    }
   },
   "cell_type": "code",
   "source": [
    "sales_per_segment = df.groupby('Segment')['Sales'].sum().reset_index()\n",
    "sales_per_segment = sales_per_segment.rename(columns={\"Segment\": \"Type of Customer\", 'Sales' : \"Total Sales\"})\n"
   ],
   "id": "5e5bb882f51948",
   "outputs": [],
   "execution_count": 227
  },
  {
   "metadata": {
    "ExecuteTime": {
     "end_time": "2024-12-11T11:18:23.089504Z",
     "start_time": "2024-12-11T11:18:23.083669Z"
    }
   },
   "cell_type": "code",
   "source": "print(sales_per_segment)",
   "id": "3b3e911d5a440627",
   "outputs": [
    {
     "name": "stdout",
     "output_type": "stream",
     "text": [
      "  Type of Customer   Total Sales\n",
      "0         Consumer  1.148061e+06\n",
      "1        Corporate  6.884941e+05\n",
      "2      Home Office  4.249822e+05\n"
     ]
    }
   ],
   "execution_count": 228
  },
  {
   "metadata": {
    "ExecuteTime": {
     "end_time": "2024-12-11T11:18:23.378913Z",
     "start_time": "2024-12-11T11:18:23.307866Z"
    }
   },
   "cell_type": "code",
   "source": "plt.bar(sales_per_segment['Type of Customer'], sales_per_segment['Total Sales'])",
   "id": "6821f2ca495639a",
   "outputs": [
    {
     "data": {
      "text/plain": [
       "<BarContainer object of 3 artists>"
      ]
     },
     "execution_count": 229,
     "metadata": {},
     "output_type": "execute_result"
    },
    {
     "data": {
      "text/plain": [
       "<Figure size 640x480 with 1 Axes>"
      ],
      "image/png": "[encoded data removed]"
     },
     "metadata": {},
     "output_type": "display_data"
    }
   ],
   "execution_count": 229
  },
  {
   "metadata": {
    "ExecuteTime": {
     "end_time": "2024-12-11T11:18:23.617225Z",
     "start_time": "2024-12-11T11:18:23.607999Z"
    }
   },
   "cell_type": "code",
   "source": "df.head(5)",
   "id": "22c84e68f57966f0",
   "outputs": [
    {
     "data": {
      "text/plain": [
       "   Row ID        Order ID  Order Date   Ship Date       Ship Mode Customer ID  \\\n",
       "0       1  CA-2017-152156  08/11/2017  11/11/2017    Second Class    CG-12520   \n",
       "1       2  CA-2017-152156  08/11/2017  11/11/2017    Second Class    CG-12520   \n",
       "2       3  CA-2017-138688  12/06/2017  16/06/2017    Second Class    DV-13045   \n",
       "3       4  US-2016-108966  11/10/2016  18/10/2016  Standard Class    SO-20335   \n",
       "4       5  US-2016-108966  11/10/2016  18/10/2016  Standard Class    SO-20335   \n",
       "\n",
       "     Customer Name    Segment        Country             City       State  \\\n",
       "0      Claire Gute   Consumer  United States        Henderson    Kentucky   \n",
       "1      Claire Gute   Consumer  United States        Henderson    Kentucky   \n",
       "2  Darrin Van Huff  Corporate  United States      Los Angeles  California   \n",
       "3   Sean O'Donnell   Consumer  United States  Fort Lauderdale     Florida   \n",
       "4   Sean O'Donnell   Consumer  United States  Fort Lauderdale     Florida   \n",
       "\n",
       "   Postal Code Region       Product ID         Category Sub-Category  \\\n",
       "0        42420  South  FUR-BO-10001798        Furniture    Bookcases   \n",
       "1        42420  South  FUR-CH-10000454        Furniture       Chairs   \n",
       "2        90036   West  OFF-LA-10000240  Office Supplies       Labels   \n",
       "3        33311  South  FUR-TA-10000577        Furniture       Tables   \n",
       "4        33311  South  OFF-ST-10000760  Office Supplies      Storage   \n",
       "\n",
       "                                        Product Name     Sales  \n",
       "0                  Bush Somerset Collection Bookcase  261.9600  \n",
       "1  Hon Deluxe Fabric Upholstered Stacking Chairs,...  731.9400  \n",
       "2  Self-Adhesive Address Labels for Typewriters b...   14.6200  \n",
       "3      Bretford CR4500 Series Slim Rectangular Table  957.5775  \n",
       "4                     Eldon Fold 'N Roll Cart System   22.3680  "
      ],
      "text/html": [
       "<div>\n",
       "<style scoped>\n",
       "    .dataframe tbody tr th:only-of-type {\n",
       "        vertical-align: middle;\n",
       "    }\n",
       "\n",
       "    .dataframe tbody tr th {\n",
       "        vertical-align: top;\n",
       "    }\n",
       "\n",
       "    .dataframe thead th {\n",
       "        text-align: right;\n",
       "    }\n",
       "</style>\n",
       "<table border=\"1\" class=\"dataframe\">\n",
       "  <thead>\n",
       "    <tr style=\"text-align: right;\">\n",
       "      <th></th>\n",
       "      <th>Row ID</th>\n",
       "      <th>Order ID</th>\n",
       "      <th>Order Date</th>\n",
       "      <th>Ship Date</th>\n",
       "      <th>Ship Mode</th>\n",
       "      <th>Customer ID</th>\n",
       "      <th>Customer Name</th>\n",
       "      <th>Segment</th>\n",
       "      <th>Country</th>\n",
       "      <th>City</th>\n",
       "      <th>State</th>\n",
       "      <th>Postal Code</th>\n",
       "      <th>Region</th>\n",
       "      <th>Product ID</th>\n",
       "      <th>Category</th>\n",
       "      <th>Sub-Category</th>\n",
       "      <th>Product Name</th>\n",
       "      <th>Sales</th>\n",
       "    </tr>\n",
       "  </thead>\n",
       "  <tbody>\n",
       "    <tr>\n",
       "      <th>0</th>\n",
       "      <td>1</td>\n",
       "      <td>CA-2017-152156</td>\n",
       "      <td>08/11/2017</td>\n",
       "      <td>11/11/2017</td>\n",
       "      <td>Second Class</td>\n",
       "      <td>CG-12520</td>\n",
       "      <td>Claire Gute</td>\n",
       "      <td>Consumer</td>\n",
       "      <td>United States</td>\n",
       "      <td>Henderson</td>\n",
       "      <td>Kentucky</td>\n",
       "      <td>42420</td>\n",
       "      <td>South</td>\n",
       "      <td>FUR-BO-10001798</td>\n",
       "      <td>Furniture</td>\n",
       "      <td>Bookcases</td>\n",
       "      <td>Bush Somerset Collection Bookcase</td>\n",
       "      <td>261.9600</td>\n",
       "    </tr>\n",
       "    <tr>\n",
       "      <th>1</th>\n",
       "      <td>2</td>\n",
       "      <td>CA-2017-152156</td>\n",
       "      <td>08/11/2017</td>\n",
       "      <td>11/11/2017</td>\n",
       "      <td>Second Class</td>\n",
       "      <td>CG-12520</td>\n",
       "      <td>Claire Gute</td>\n",
       "      <td>Consumer</td>\n",
       "      <td>United States</td>\n",
       "      <td>Henderson</td>\n",
       "      <td>Kentucky</td>\n",
       "      <td>42420</td>\n",
       "      <td>South</td>\n",
       "      <td>FUR-CH-10000454</td>\n",
       "      <td>Furniture</td>\n",
       "      <td>Chairs</td>\n",
       "      <td>Hon Deluxe Fabric Upholstered Stacking Chairs,...</td>\n",
       "      <td>731.9400</td>\n",
       "    </tr>\n",
       "    <tr>\n",
       "      <th>2</th>\n",
       "      <td>3</td>\n",
       "      <td>CA-2017-138688</td>\n",
       "      <td>12/06/2017</td>\n",
       "      <td>16/06/2017</td>\n",
       "      <td>Second Class</td>\n",
       "      <td>DV-13045</td>\n",
       "      <td>Darrin Van Huff</td>\n",
       "      <td>Corporate</td>\n",
       "      <td>United States</td>\n",
       "      <td>Los Angeles</td>\n",
       "      <td>California</td>\n",
       "      <td>90036</td>\n",
       "      <td>West</td>\n",
       "      <td>OFF-LA-10000240</td>\n",
       "      <td>Office Supplies</td>\n",
       "      <td>Labels</td>\n",
       "      <td>Self-Adhesive Address Labels for Typewriters b...</td>\n",
       "      <td>14.6200</td>\n",
       "    </tr>\n",
       "    <tr>\n",
       "      <th>3</th>\n",
       "      <td>4</td>\n",
       "      <td>US-2016-108966</td>\n",
       "      <td>11/10/2016</td>\n",
       "      <td>18/10/2016</td>\n",
       "      <td>Standard Class</td>\n",
       "      <td>SO-20335</td>\n",
       "      <td>Sean O'Donnell</td>\n",
       "      <td>Consumer</td>\n",
       "      <td>United States</td>\n",
       "      <td>Fort Lauderdale</td>\n",
       "      <td>Florida</td>\n",
       "      <td>33311</td>\n",
       "      <td>South</td>\n",
       "      <td>FUR-TA-10000577</td>\n",
       "      <td>Furniture</td>\n",
       "      <td>Tables</td>\n",
       "      <td>Bretford CR4500 Series Slim Rectangular Table</td>\n",
       "      <td>957.5775</td>\n",
       "    </tr>\n",
       "    <tr>\n",
       "      <th>4</th>\n",
       "      <td>5</td>\n",
       "      <td>US-2016-108966</td>\n",
       "      <td>11/10/2016</td>\n",
       "      <td>18/10/2016</td>\n",
       "      <td>Standard Class</td>\n",
       "      <td>SO-20335</td>\n",
       "      <td>Sean O'Donnell</td>\n",
       "      <td>Consumer</td>\n",
       "      <td>United States</td>\n",
       "      <td>Fort Lauderdale</td>\n",
       "      <td>Florida</td>\n",
       "      <td>33311</td>\n",
       "      <td>South</td>\n",
       "      <td>OFF-ST-10000760</td>\n",
       "      <td>Office Supplies</td>\n",
       "      <td>Storage</td>\n",
       "      <td>Eldon Fold 'N Roll Cart System</td>\n",
       "      <td>22.3680</td>\n",
       "    </tr>\n",
       "  </tbody>\n",
       "</table>\n",
       "</div>"
      ]
     },
     "execution_count": 230,
     "metadata": {},
     "output_type": "execute_result"
    }
   ],
   "execution_count": 230
  },
  {
   "metadata": {
    "ExecuteTime": {
     "end_time": "2024-12-11T11:18:23.717681Z",
     "start_time": "2024-12-11T11:18:23.702699Z"
    }
   },
   "cell_type": "code",
   "source": [
    "customer_order_frequency = df.groupby(['Customer ID', 'Customer Name', 'Segment'])['Order ID'].count().reset_index()\n",
    "customer_order_frequency.rename(columns ={'Order ID':'Total Orders'}, inplace = True )"
   ],
   "id": "a0d5f3228144f0c9",
   "outputs": [],
   "execution_count": 231
  },
  {
   "metadata": {
    "ExecuteTime": {
     "end_time": "2024-12-11T11:18:23.860457Z",
     "start_time": "2024-12-11T11:18:23.856992Z"
    }
   },
   "cell_type": "code",
   "source": "print(customer_order_frequency)",
   "id": "603bbf11c26f9d88",
   "outputs": [
    {
     "name": "stdout",
     "output_type": "stream",
     "text": [
      "    Customer ID       Customer Name    Segment  Total Orders\n",
      "0      AA-10315          Alex Avila   Consumer            11\n",
      "1      AA-10375        Allen Armold   Consumer            15\n",
      "2      AA-10480        Andrew Allen   Consumer            12\n",
      "3      AA-10645       Anna Andreadi   Consumer            18\n",
      "4      AB-10015       Aaron Bergman   Consumer             6\n",
      "..          ...                 ...        ...           ...\n",
      "788    XP-21865        Xylona Preis   Consumer            28\n",
      "789    YC-21895      Yoseph Carroll  Corporate             8\n",
      "790    YS-21880       Yana Sorensen  Corporate            12\n",
      "791    ZC-21910    Zuschuss Carroll   Consumer            31\n",
      "792    ZD-21925  Zuschuss Donatelli   Consumer             9\n",
      "\n",
      "[793 rows x 4 columns]\n"
     ]
    }
   ],
   "execution_count": 232
  },
  {
   "metadata": {
    "ExecuteTime": {
     "end_time": "2024-12-11T11:18:24.060396Z",
     "start_time": "2024-12-11T11:18:24.057787Z"
    }
   },
   "cell_type": "code",
   "source": "repeat_customers = customer_order_frequency[customer_order_frequency['Total Orders'] >= 1]",
   "id": "1e715dff8b08a983",
   "outputs": [],
   "execution_count": 233
  },
  {
   "metadata": {
    "ExecuteTime": {
     "end_time": "2024-12-11T11:18:24.158647Z",
     "start_time": "2024-12-11T11:18:24.155019Z"
    }
   },
   "cell_type": "code",
   "source": "repeat_customers_sorted = repeat_customers.sort_values(by='Total Orders', ascending=False)",
   "id": "bcb0eb0ce7d87a90",
   "outputs": [],
   "execution_count": 234
  },
  {
   "metadata": {
    "ExecuteTime": {
     "end_time": "2024-12-11T11:18:24.221327Z",
     "start_time": "2024-12-11T11:18:24.218128Z"
    }
   },
   "cell_type": "code",
   "source": "print(repeat_customers_sorted.head(12).reset_index(drop=True))",
   "id": "fc6c9ab45c17911e",
   "outputs": [
    {
     "name": "stdout",
     "output_type": "stream",
     "text": [
      "   Customer ID        Customer Name      Segment  Total Orders\n",
      "0     WB-21850        William Brown     Consumer            35\n",
      "1     PP-18955           Paul Prost  Home Office            34\n",
      "2     MA-17560         Matt Abelman  Home Office            34\n",
      "3     JL-15835             John Lee     Consumer            33\n",
      "4     CK-12205  Chloris Kastensmidt     Consumer            32\n",
      "5     SV-20365          Seth Vernon     Consumer            32\n",
      "6     JD-15895     Jonathan Doherty    Corporate            32\n",
      "7     AP-10915       Arthur Prichep     Consumer            31\n",
      "8     ZC-21910     Zuschuss Carroll     Consumer            31\n",
      "9     EP-13915           Emily Phan     Consumer            31\n",
      "10    LC-16870        Lena Cacioppo     Consumer            30\n",
      "11    Dp-13240          Dean percer  Home Office            29\n"
     ]
    }
   ],
   "execution_count": 235
  },
  {
   "metadata": {
    "ExecuteTime": {
     "end_time": "2024-12-11T11:18:24.375529Z",
     "start_time": "2024-12-11T11:18:24.368560Z"
    }
   },
   "cell_type": "code",
   "source": "customer_sales = df.groupby(['Customer ID','Customer Name','Segment'])['Sales'].sum().reset_index()",
   "id": "ecaa5d948cc9243d",
   "outputs": [],
   "execution_count": 236
  },
  {
   "metadata": {
    "ExecuteTime": {
     "end_time": "2024-12-11T11:18:24.534811Z",
     "start_time": "2024-12-11T11:18:24.531209Z"
    }
   },
   "cell_type": "code",
   "source": "top_spenders = customer_sales.sort_values(by='Sales', ascending=False)",
   "id": "11c7d2818adced8d",
   "outputs": [],
   "execution_count": 237
  },
  {
   "metadata": {
    "ExecuteTime": {
     "end_time": "2024-12-11T11:18:24.599577Z",
     "start_time": "2024-12-11T11:18:24.595797Z"
    }
   },
   "cell_type": "code",
   "source": "print(top_spenders.head(12).reset_index(drop=True))",
   "id": "44ac0bbdbae622a",
   "outputs": [
    {
     "name": "stdout",
     "output_type": "stream",
     "text": [
      "   Customer ID       Customer Name      Segment      Sales\n",
      "0     SM-20320         Sean Miller  Home Office  25043.050\n",
      "1     TC-20980        Tamara Chand    Corporate  19052.218\n",
      "2     RB-19360        Raymond Buch     Consumer  15117.339\n",
      "3     TA-21385        Tom Ashbrook  Home Office  14595.620\n",
      "4     AB-10105       Adrian Barton     Consumer  14473.571\n",
      "5     KL-16645        Ken Lonsdale     Consumer  14175.229\n",
      "6     SC-20095        Sanjit Chand     Consumer  14142.334\n",
      "7     HL-15040        Hunter Lopez     Consumer  12873.298\n",
      "8     SE-20110        Sanjit Engle     Consumer  12209.438\n",
      "9     CC-12370  Christopher Conant     Consumer  12129.072\n",
      "10    TS-21370        Todd Sumrall    Corporate  11891.751\n",
      "11    GT-14710           Greg Tran     Consumer  11820.120\n"
     ]
    }
   ],
   "execution_count": 238
  },
  {
   "metadata": {
    "ExecuteTime": {
     "end_time": "2024-12-11T11:18:24.822020Z",
     "start_time": "2024-12-11T11:18:24.816788Z"
    }
   },
   "cell_type": "code",
   "source": [
    "shipping_model = df['Ship Mode'].value_counts().reset_index()\n",
    "shipping_model = shipping_model.rename(columns={'index': 'Use Frequency','Ship Mode': 'Mode of Shipment'})"
   ],
   "id": "4b4c34bbd6ad7298",
   "outputs": [],
   "execution_count": 239
  },
  {
   "metadata": {
    "ExecuteTime": {
     "end_time": "2024-12-11T11:18:24.912087Z",
     "start_time": "2024-12-11T11:18:24.909114Z"
    }
   },
   "cell_type": "code",
   "source": "print(shipping_model)",
   "id": "b9eda99a58136767",
   "outputs": [
    {
     "name": "stdout",
     "output_type": "stream",
     "text": [
      "  Mode of Shipment  count\n",
      "0   Standard Class   5859\n",
      "1     Second Class   1902\n",
      "2      First Class   1501\n",
      "3         Same Day    538\n"
     ]
    }
   ],
   "execution_count": 240
  },
  {
   "metadata": {
    "ExecuteTime": {
     "end_time": "2024-12-11T11:18:25.339124Z",
     "start_time": "2024-12-11T11:18:25.261060Z"
    }
   },
   "cell_type": "code",
   "source": "plt.pie(shipping_model['count'], labels = shipping_model['Mode of Shipment'], autopct=\"%1.1f%%\")",
   "id": "19b076ce07503849",
   "outputs": [
    {
     "data": {
      "text/plain": [
       "([<matplotlib.patches.Wedge at 0x15bfbda00>,\n",
       "  <matplotlib.patches.Wedge at 0x15bfea900>,\n",
       "  <matplotlib.patches.Wedge at 0x15c151e80>,\n",
       "  <matplotlib.patches.Wedge at 0x15c152480>],\n",
       " [Text(-0.3328682142840549, 1.0484267985507356, 'Standard Class'),\n",
       "  Text(-0.3732753555364641, -1.0347296791670404, 'Second Class'),\n",
       "  Text(0.7455146923475287, -0.8088311588298078, 'First Class'),\n",
       "  Text(1.083680807320627, -0.18877475425732734, 'Same Day')],\n",
       " [Text(-0.18156448051857538, 0.5718691628458558, '59.8%'),\n",
       "  Text(-0.20360473938352586, -0.5643980068183856, '19.4%'),\n",
       "  Text(0.4066443776441065, -0.44118063208898606, '15.3%'),\n",
       "  Text(0.5910986221748874, -0.102968047776724, '5.5%')])"
      ]
     },
     "execution_count": 241,
     "metadata": {},
     "output_type": "execute_result"
    },
    {
     "data": {
      "text/plain": [
       "<Figure size 640x480 with 1 Axes>"
      ],
      "image/png": "[encoded data removed]"
     },
     "metadata": {},
     "output_type": "display_data"
    }
   ],
   "execution_count": 241
  },
  {
   "metadata": {
    "ExecuteTime": {
     "end_time": "2024-12-11T11:18:25.531851Z",
     "start_time": "2024-12-11T11:18:25.526557Z"
    }
   },
   "cell_type": "code",
   "source": "state = df['State'].value_counts().reset_index()\n",
   "id": "822948584f5912c0",
   "outputs": [],
   "execution_count": 242
  },
  {
   "metadata": {
    "ExecuteTime": {
     "end_time": "2024-12-11T11:18:25.612455Z",
     "start_time": "2024-12-11T11:18:25.607270Z"
    }
   },
   "cell_type": "code",
   "source": "state = state.rename(columns={'index':'State', 'State': 'Number of Customers'})",
   "id": "a6e1f452311b7872",
   "outputs": [],
   "execution_count": 243
  },
  {
   "metadata": {
    "ExecuteTime": {
     "end_time": "2024-12-11T11:18:25.672074Z",
     "start_time": "2024-12-11T11:18:25.668858Z"
    }
   },
   "cell_type": "code",
   "source": "print(state.head(20))",
   "id": "205342f339db307a",
   "outputs": [
    {
     "name": "stdout",
     "output_type": "stream",
     "text": [
      "   Number of Customers  count\n",
      "0           California   1946\n",
      "1             New York   1097\n",
      "2                Texas    973\n",
      "3         Pennsylvania    582\n",
      "4           Washington    504\n",
      "5             Illinois    483\n",
      "6                 Ohio    454\n",
      "7              Florida    373\n",
      "8             Michigan    253\n",
      "9       North Carolina    247\n",
      "10            Virginia    224\n",
      "11             Arizona    223\n",
      "12           Tennessee    183\n",
      "13            Colorado    179\n",
      "14             Georgia    177\n",
      "15            Kentucky    137\n",
      "16             Indiana    135\n",
      "17       Massachusetts    135\n",
      "18              Oregon    122\n",
      "19          New Jersey    122\n"
     ]
    }
   ],
   "execution_count": 244
  },
  {
   "metadata": {
    "ExecuteTime": {
     "end_time": "2024-12-11T11:18:25.867105Z",
     "start_time": "2024-12-11T11:18:25.862651Z"
    }
   },
   "cell_type": "code",
   "source": [
    "city = df['City'].value_counts().reset_index()\n",
    "print(city.head(15))"
   ],
   "id": "17db86ffd30fecde",
   "outputs": [
    {
     "name": "stdout",
     "output_type": "stream",
     "text": [
      "             City  count\n",
      "0   New York City    891\n",
      "1     Los Angeles    728\n",
      "2    Philadelphia    532\n",
      "3   San Francisco    500\n",
      "4         Seattle    426\n",
      "5         Houston    374\n",
      "6         Chicago    308\n",
      "7        Columbus    221\n",
      "8       San Diego    170\n",
      "9     Springfield    161\n",
      "10         Dallas    156\n",
      "11   Jacksonville    125\n",
      "12        Detroit    115\n",
      "13         Newark     92\n",
      "14        Jackson     82\n"
     ]
    }
   ],
   "execution_count": 245
  },
  {
   "metadata": {
    "ExecuteTime": {
     "end_time": "2024-12-11T11:18:26.035172Z",
     "start_time": "2024-12-11T11:18:26.030159Z"
    }
   },
   "cell_type": "code",
   "source": [
    "state_sales = df.groupby('State')['Sales'].sum().reset_index()\n",
    "top_sales = state_sales.sort_values(by='Sales', ascending=False)"
   ],
   "id": "f54beda82ef34a95",
   "outputs": [],
   "execution_count": 246
  },
  {
   "metadata": {
    "ExecuteTime": {
     "end_time": "2024-12-11T11:18:26.153690Z",
     "start_time": "2024-12-11T11:18:26.149233Z"
    }
   },
   "cell_type": "code",
   "source": "print(top_sales.head(10).reset_index(drop=True))",
   "id": "4cda2a1e091b0a4b",
   "outputs": [
    {
     "name": "stdout",
     "output_type": "stream",
     "text": [
      "          State        Sales\n",
      "0    California  446306.4635\n",
      "1      New York  306361.1470\n",
      "2         Texas  168572.5322\n",
      "3    Washington  135206.8500\n",
      "4  Pennsylvania  116276.6500\n",
      "5       Florida   88436.5320\n",
      "6      Illinois   79236.5170\n",
      "7      Michigan   76136.0740\n",
      "8          Ohio   75130.3500\n",
      "9      Virginia   70636.7200\n"
     ]
    }
   ],
   "execution_count": 247
  },
  {
   "metadata": {
    "ExecuteTime": {
     "end_time": "2024-12-11T11:18:26.376087Z",
     "start_time": "2024-12-11T11:18:26.371533Z"
    }
   },
   "cell_type": "code",
   "source": [
    "city_sales = df.groupby('City')['Sales'].sum().reset_index()\n",
    "top_city_sales = city_sales.sort_values(by='Sales', ascending=False)"
   ],
   "id": "c3427232bf1ec066",
   "outputs": [],
   "execution_count": 248
  },
  {
   "metadata": {
    "ExecuteTime": {
     "end_time": "2024-12-11T11:18:26.446401Z",
     "start_time": "2024-12-11T11:18:26.441756Z"
    }
   },
   "cell_type": "code",
   "source": "print(top_city_sales.head(10).reset_index(drop=True))",
   "id": "f315a02cf791350e",
   "outputs": [
    {
     "name": "stdout",
     "output_type": "stream",
     "text": [
      "            City        Sales\n",
      "0  New York City  252462.5470\n",
      "1    Los Angeles  173420.1810\n",
      "2        Seattle  116106.3220\n",
      "3  San Francisco  109041.1200\n",
      "4   Philadelphia  108841.7490\n",
      "5        Houston   63956.1428\n",
      "6        Chicago   47820.1330\n",
      "7      San Diego   47521.0290\n",
      "8   Jacksonville   44713.1830\n",
      "9        Detroit   42446.9440\n"
     ]
    }
   ],
   "execution_count": 249
  },
  {
   "metadata": {
    "ExecuteTime": {
     "end_time": "2024-12-11T11:18:26.672715Z",
     "start_time": "2024-12-11T11:18:26.669367Z"
    }
   },
   "cell_type": "code",
   "source": [
    "products = df['Category'].unique()\n",
    "print(products)"
   ],
   "id": "af5ddb80ec02ee5e",
   "outputs": [
    {
     "name": "stdout",
     "output_type": "stream",
     "text": [
      "['Furniture' 'Office Supplies' 'Technology']\n"
     ]
    }
   ],
   "execution_count": 250
  },
  {
   "metadata": {
    "ExecuteTime": {
     "end_time": "2024-12-11T11:18:26.868215Z",
     "start_time": "2024-12-11T11:18:26.864127Z"
    }
   },
   "cell_type": "code",
   "source": [
    "product_subcategory = df['Sub-Category'].unique()\n",
    "print(product_subcategory)"
   ],
   "id": "563d21cada66ed0c",
   "outputs": [
    {
     "name": "stdout",
     "output_type": "stream",
     "text": [
      "['Bookcases' 'Chairs' 'Labels' 'Tables' 'Storage' 'Furnishings' 'Art'\n",
      " 'Phones' 'Binders' 'Appliances' 'Paper' 'Accessories' 'Envelopes'\n",
      " 'Fasteners' 'Supplies' 'Machines' 'Copiers']\n"
     ]
    }
   ],
   "execution_count": 251
  },
  {
   "metadata": {
    "ExecuteTime": {
     "end_time": "2024-12-11T11:18:27.118447Z",
     "start_time": "2024-12-11T11:18:27.109914Z"
    }
   },
   "cell_type": "code",
   "source": [
    "subcategory_count = df.groupby('Category')['Sub-Category'].nunique().reset_index()\n",
    "subcategory_count = subcategory_count.sort_values(by='Sub-Category', ascending=False)"
   ],
   "id": "7cd964f706c7a127",
   "outputs": [],
   "execution_count": 252
  },
  {
   "metadata": {
    "ExecuteTime": {
     "end_time": "2024-12-11T11:18:27.279864Z",
     "start_time": "2024-12-11T11:18:27.273181Z"
    }
   },
   "cell_type": "code",
   "source": "print(subcategory_count)",
   "id": "abde4f61ce156ee9",
   "outputs": [
    {
     "name": "stdout",
     "output_type": "stream",
     "text": [
      "          Category  Sub-Category\n",
      "1  Office Supplies             9\n",
      "0        Furniture             4\n",
      "2       Technology             4\n"
     ]
    }
   ],
   "execution_count": 253
  },
  {
   "metadata": {},
   "cell_type": "markdown",
   "source": "",
   "id": "361f91277c4d1466"
  },
  {
   "metadata": {
    "ExecuteTime": {
     "end_time": "2024-12-11T11:18:27.610831Z",
     "start_time": "2024-12-11T11:18:27.590092Z"
    }
   },
   "cell_type": "code",
   "source": [
    "subcategory_count_sales = df.groupby(['Category','Sub-Category'])['Sales'].sum().reset_index()\n",
    "subcategory_count_sales = subcategory_count_sales.sort_values(by='Sales', ascending=False)"
   ],
   "id": "9f47223ae28aec2",
   "outputs": [],
   "execution_count": 254
  },
  {
   "metadata": {
    "ExecuteTime": {
     "end_time": "2024-12-11T11:18:28.094055Z",
     "start_time": "2024-12-11T11:18:28.085501Z"
    }
   },
   "cell_type": "code",
   "source": "print(subcategory_count_sales)",
   "id": "bd5fec89c6806e11",
   "outputs": [
    {
     "name": "stdout",
     "output_type": "stream",
     "text": [
      "           Category Sub-Category        Sales\n",
      "16       Technology       Phones  327782.4480\n",
      "1         Furniture       Chairs  322822.7310\n",
      "11  Office Supplies      Storage  219343.3920\n",
      "3         Furniture       Tables  202810.6280\n",
      "6   Office Supplies      Binders  200028.7850\n",
      "15       Technology     Machines  189238.6310\n",
      "13       Technology  Accessories  164186.7000\n",
      "14       Technology      Copiers  146248.0940\n",
      "0         Furniture    Bookcases  113813.1987\n",
      "4   Office Supplies   Appliances  104618.4030\n",
      "2         Furniture  Furnishings   89212.0180\n",
      "10  Office Supplies        Paper   76828.3040\n",
      "12  Office Supplies     Supplies   46420.3080\n",
      "5   Office Supplies          Art   26705.4100\n",
      "7   Office Supplies    Envelopes   16128.0460\n",
      "9   Office Supplies       Labels   12347.7260\n",
      "8   Office Supplies    Fasteners    3001.9600\n"
     ]
    }
   ],
   "execution_count": 255
  },
  {
   "metadata": {
    "ExecuteTime": {
     "end_time": "2024-12-11T11:18:28.474996Z",
     "start_time": "2024-12-11T11:18:28.438498Z"
    }
   },
   "cell_type": "code",
   "source": [
    "product_category = df.groupby('Category')['Sales'].sum().reset_index()\n",
    "top_product_category = product_category.sort_values(by='Sales', ascending=False)\n",
    "print(top_product_category.reset_index(drop=True))"
   ],
   "id": "55e77cd8a4156aae",
   "outputs": [
    {
     "name": "stdout",
     "output_type": "stream",
     "text": [
      "          Category        Sales\n",
      "0       Technology  827455.8730\n",
      "1        Furniture  728658.5757\n",
      "2  Office Supplies  705422.3340\n"
     ]
    }
   ],
   "execution_count": 256
  },
  {
   "metadata": {
    "ExecuteTime": {
     "end_time": "2024-12-11T11:18:28.720815Z",
     "start_time": "2024-12-11T11:18:28.658776Z"
    }
   },
   "cell_type": "code",
   "source": [
    "colors = ['#FFC0CB','#E6E6FA','#B0E0E6'] \n",
    "plt.pie(top_product_category['Sales'], labels = top_product_category['Category'], colors = colors, autopct=\"%1.1f%%\")"
   ],
   "id": "458bf6ff10076d89",
   "outputs": [
    {
     "data": {
      "text/plain": [
       "([<matplotlib.patches.Wedge at 0x15c174f20>,\n",
       "  <matplotlib.patches.Wedge at 0x15c174c50>,\n",
       "  <matplotlib.patches.Wedge at 0x15c1758b0>],\n",
       " [Text(0.4498857223734124, 1.003794220348251, 'Technology'),\n",
       "  Text(-1.0842321085760298, -0.18558215090028554, 'Furniture'),\n",
       "  Text(0.6127880326006169, -0.9135046946247543, 'Office Supplies')],\n",
       " [Text(0.24539221220367946, 0.547524120189955, '36.6%'),\n",
       "  Text(-0.5913993319505617, -0.1012266277637921, '32.2%'),\n",
       "  Text(0.3342480177821546, -0.4982752879771386, '31.2%')])"
      ]
     },
     "execution_count": 257,
     "metadata": {},
     "output_type": "execute_result"
    },
    {
     "data": {
      "text/plain": [
       "<Figure size 640x480 with 1 Axes>"
      ],
      "image/png": "[encoded data removed]"
     },
     "metadata": {},
     "output_type": "display_data"
    }
   ],
   "execution_count": 257
  },
  {
   "metadata": {
    "ExecuteTime": {
     "end_time": "2024-12-11T11:18:28.978172Z",
     "start_time": "2024-12-11T11:18:28.810087Z"
    }
   },
   "cell_type": "code",
   "source": [
    "subcategory_count_sales = subcategory_count_sales.sort_values(by='Sales', ascending=True)\n",
    "plt.barh(subcategory_count_sales['Sub-Category'], subcategory_count_sales['Sales'])\n",
    "plt.ylabel('Sub-Category') \n",
    "plt.xlabel('Sales') \n",
    "plt.show()\n",
    "\n",
    "\n"
   ],
   "id": "325926698936ed7e",
   "outputs": [
    {
     "data": {
      "text/plain": [
       "<Figure size 640x480 with 1 Axes>"
      ],
      "image/png": "[encoded data removed]"
     },
     "metadata": {},
     "output_type": "display_data"
    }
   ],
   "execution_count": 258
  },
  {
   "metadata": {
    "ExecuteTime": {
     "end_time": "2024-12-11T11:18:29.162213Z",
     "start_time": "2024-12-11T11:18:29.138444Z"
    }
   },
   "cell_type": "code",
   "source": [
    "df['Order Date']=pd.to_datetime(df['Order Date'],dayfirst=True)\n",
    "yearly_sales = df.groupby(df['Order Date'].dt.year)['Sales'].sum().reset_index()\n",
    "yearly_sales = yearly_sales.rename(columns={'Order Date':'Year','Sales':'Total Sales'})\n",
    "print(yearly_sales)"
   ],
   "id": "839b52b83d6c2ce2",
   "outputs": [
    {
     "name": "stdout",
     "output_type": "stream",
     "text": [
      "   Year  Total Sales\n",
      "0  2015  479856.2081\n",
      "1  2016  459436.0054\n",
      "2  2017  600192.5500\n",
      "3  2018  722052.0192\n"
     ]
    }
   ],
   "execution_count": 259
  },
  {
   "metadata": {
    "ExecuteTime": {
     "end_time": "2024-12-11T11:18:29.356193Z",
     "start_time": "2024-12-11T11:18:29.260515Z"
    }
   },
   "cell_type": "code",
   "source": [
    "pastel_colors = ['#B8E0D2', '#FFDAB9', '#FFFACD', '#AAF0D1']\n",
    "plt.bar(yearly_sales['Year'], yearly_sales['Total Sales'], color = pastel_colors)\n",
    "plt.ylabel('Total Sales') \n",
    "plt.xlabel('Year') \n",
    "plt.show()"
   ],
   "id": "4041e01651216afc",
   "outputs": [
    {
     "data": {
      "text/plain": [
       "<Figure size 640x480 with 1 Axes>"
      ],
      "image/png": "[encoded data removed]"
     },
     "metadata": {},
     "output_type": "display_data"
    }
   ],
   "execution_count": 260
  },
  {
   "metadata": {
    "ExecuteTime": {
     "end_time": "2024-12-11T11:18:29.470644Z",
     "start_time": "2024-12-11T11:18:29.449504Z"
    }
   },
   "cell_type": "code",
   "source": "df.head(10)",
   "id": "3332e095c5788bcd",
   "outputs": [
    {
     "data": {
      "text/plain": [
       "   Row ID        Order ID Order Date   Ship Date       Ship Mode Customer ID  \\\n",
       "0       1  CA-2017-152156 2017-11-08  11/11/2017    Second Class    CG-12520   \n",
       "1       2  CA-2017-152156 2017-11-08  11/11/2017    Second Class    CG-12520   \n",
       "2       3  CA-2017-138688 2017-06-12  16/06/2017    Second Class    DV-13045   \n",
       "3       4  US-2016-108966 2016-10-11  18/10/2016  Standard Class    SO-20335   \n",
       "4       5  US-2016-108966 2016-10-11  18/10/2016  Standard Class    SO-20335   \n",
       "5       6  CA-2015-115812 2015-06-09  14/06/2015  Standard Class    BH-11710   \n",
       "6       7  CA-2015-115812 2015-06-09  14/06/2015  Standard Class    BH-11710   \n",
       "7       8  CA-2015-115812 2015-06-09  14/06/2015  Standard Class    BH-11710   \n",
       "8       9  CA-2015-115812 2015-06-09  14/06/2015  Standard Class    BH-11710   \n",
       "9      10  CA-2015-115812 2015-06-09  14/06/2015  Standard Class    BH-11710   \n",
       "\n",
       "     Customer Name    Segment        Country             City       State  \\\n",
       "0      Claire Gute   Consumer  United States        Henderson    Kentucky   \n",
       "1      Claire Gute   Consumer  United States        Henderson    Kentucky   \n",
       "2  Darrin Van Huff  Corporate  United States      Los Angeles  California   \n",
       "3   Sean O'Donnell   Consumer  United States  Fort Lauderdale     Florida   \n",
       "4   Sean O'Donnell   Consumer  United States  Fort Lauderdale     Florida   \n",
       "5  Brosina Hoffman   Consumer  United States      Los Angeles  California   \n",
       "6  Brosina Hoffman   Consumer  United States      Los Angeles  California   \n",
       "7  Brosina Hoffman   Consumer  United States      Los Angeles  California   \n",
       "8  Brosina Hoffman   Consumer  United States      Los Angeles  California   \n",
       "9  Brosina Hoffman   Consumer  United States      Los Angeles  California   \n",
       "\n",
       "   Postal Code Region       Product ID         Category Sub-Category  \\\n",
       "0        42420  South  FUR-BO-10001798        Furniture    Bookcases   \n",
       "1        42420  South  FUR-CH-10000454        Furniture       Chairs   \n",
       "2        90036   West  OFF-LA-10000240  Office Supplies       Labels   \n",
       "3        33311  South  FUR-TA-10000577        Furniture       Tables   \n",
       "4        33311  South  OFF-ST-10000760  Office Supplies      Storage   \n",
       "5        90032   West  FUR-FU-10001487        Furniture  Furnishings   \n",
       "6        90032   West  OFF-AR-10002833  Office Supplies          Art   \n",
       "7        90032   West  TEC-PH-10002275       Technology       Phones   \n",
       "8        90032   West  OFF-BI-10003910  Office Supplies      Binders   \n",
       "9        90032   West  OFF-AP-10002892  Office Supplies   Appliances   \n",
       "\n",
       "                                        Product Name     Sales  \n",
       "0                  Bush Somerset Collection Bookcase  261.9600  \n",
       "1  Hon Deluxe Fabric Upholstered Stacking Chairs,...  731.9400  \n",
       "2  Self-Adhesive Address Labels for Typewriters b...   14.6200  \n",
       "3      Bretford CR4500 Series Slim Rectangular Table  957.5775  \n",
       "4                     Eldon Fold 'N Roll Cart System   22.3680  \n",
       "5  Eldon Expressions Wood and Plastic Desk Access...   48.8600  \n",
       "6                                         Newell 322    7.2800  \n",
       "7                     Mitel 5320 IP Phone VoIP phone  907.1520  \n",
       "8  DXL Angle-View Binders with Locking Rings by S...   18.5040  \n",
       "9                   Belkin F5C206VTEL 6 Outlet Surge  114.9000  "
      ],
      "text/html": [
       "<div>\n",
       "<style scoped>\n",
       "    .dataframe tbody tr th:only-of-type {\n",
       "        vertical-align: middle;\n",
       "    }\n",
       "\n",
       "    .dataframe tbody tr th {\n",
       "        vertical-align: top;\n",
       "    }\n",
       "\n",
       "    .dataframe thead th {\n",
       "        text-align: right;\n",
       "    }\n",
       "</style>\n",
       "<table border=\"1\" class=\"dataframe\">\n",
       "  <thead>\n",
       "    <tr style=\"text-align: right;\">\n",
       "      <th></th>\n",
       "      <th>Row ID</th>\n",
       "      <th>Order ID</th>\n",
       "      <th>Order Date</th>\n",
       "      <th>Ship Date</th>\n",
       "      <th>Ship Mode</th>\n",
       "      <th>Customer ID</th>\n",
       "      <th>Customer Name</th>\n",
       "      <th>Segment</th>\n",
       "      <th>Country</th>\n",
       "      <th>City</th>\n",
       "      <th>State</th>\n",
       "      <th>Postal Code</th>\n",
       "      <th>Region</th>\n",
       "      <th>Product ID</th>\n",
       "      <th>Category</th>\n",
       "      <th>Sub-Category</th>\n",
       "      <th>Product Name</th>\n",
       "      <th>Sales</th>\n",
       "    </tr>\n",
       "  </thead>\n",
       "  <tbody>\n",
       "    <tr>\n",
       "      <th>0</th>\n",
       "      <td>1</td>\n",
       "      <td>CA-2017-152156</td>\n",
       "      <td>2017-11-08</td>\n",
       "      <td>11/11/2017</td>\n",
       "      <td>Second Class</td>\n",
       "      <td>CG-12520</td>\n",
       "      <td>Claire Gute</td>\n",
       "      <td>Consumer</td>\n",
       "      <td>United States</td>\n",
       "      <td>Henderson</td>\n",
       "      <td>Kentucky</td>\n",
       "      <td>42420</td>\n",
       "      <td>South</td>\n",
       "      <td>FUR-BO-10001798</td>\n",
       "      <td>Furniture</td>\n",
       "      <td>Bookcases</td>\n",
       "      <td>Bush Somerset Collection Bookcase</td>\n",
       "      <td>261.9600</td>\n",
       "    </tr>\n",
       "    <tr>\n",
       "      <th>1</th>\n",
       "      <td>2</td>\n",
       "      <td>CA-2017-152156</td>\n",
       "      <td>2017-11-08</td>\n",
       "      <td>11/11/2017</td>\n",
       "      <td>Second Class</td>\n",
       "      <td>CG-12520</td>\n",
       "      <td>Claire Gute</td>\n",
       "      <td>Consumer</td>\n",
       "      <td>United States</td>\n",
       "      <td>Henderson</td>\n",
       "      <td>Kentucky</td>\n",
       "      <td>42420</td>\n",
       "      <td>South</td>\n",
       "      <td>FUR-CH-10000454</td>\n",
       "      <td>Furniture</td>\n",
       "      <td>Chairs</td>\n",
       "      <td>Hon Deluxe Fabric Upholstered Stacking Chairs,...</td>\n",
       "      <td>731.9400</td>\n",
       "    </tr>\n",
       "    <tr>\n",
       "      <th>2</th>\n",
       "      <td>3</td>\n",
       "      <td>CA-2017-138688</td>\n",
       "      <td>2017-06-12</td>\n",
       "      <td>16/06/2017</td>\n",
       "      <td>Second Class</td>\n",
       "      <td>DV-13045</td>\n",
       "      <td>Darrin Van Huff</td>\n",
       "      <td>Corporate</td>\n",
       "      <td>United States</td>\n",
       "      <td>Los Angeles</td>\n",
       "      <td>California</td>\n",
       "      <td>90036</td>\n",
       "      <td>West</td>\n",
       "      <td>OFF-LA-10000240</td>\n",
       "      <td>Office Supplies</td>\n",
       "      <td>Labels</td>\n",
       "      <td>Self-Adhesive Address Labels for Typewriters b...</td>\n",
       "      <td>14.6200</td>\n",
       "    </tr>\n",
       "    <tr>\n",
       "      <th>3</th>\n",
       "      <td>4</td>\n",
       "      <td>US-2016-108966</td>\n",
       "      <td>2016-10-11</td>\n",
       "      <td>18/10/2016</td>\n",
       "      <td>Standard Class</td>\n",
       "      <td>SO-20335</td>\n",
       "      <td>Sean O'Donnell</td>\n",
       "      <td>Consumer</td>\n",
       "      <td>United States</td>\n",
       "      <td>Fort Lauderdale</td>\n",
       "      <td>Florida</td>\n",
       "      <td>33311</td>\n",
       "      <td>South</td>\n",
       "      <td>FUR-TA-10000577</td>\n",
       "      <td>Furniture</td>\n",
       "      <td>Tables</td>\n",
       "      <td>Bretford CR4500 Series Slim Rectangular Table</td>\n",
       "      <td>957.5775</td>\n",
       "    </tr>\n",
       "    <tr>\n",
       "      <th>4</th>\n",
       "      <td>5</td>\n",
       "      <td>US-2016-108966</td>\n",
       "      <td>2016-10-11</td>\n",
       "      <td>18/10/2016</td>\n",
       "      <td>Standard Class</td>\n",
       "      <td>SO-20335</td>\n",
       "      <td>Sean O'Donnell</td>\n",
       "      <td>Consumer</td>\n",
       "      <td>United States</td>\n",
       "      <td>Fort Lauderdale</td>\n",
       "      <td>Florida</td>\n",
       "      <td>33311</td>\n",
       "      <td>South</td>\n",
       "      <td>OFF-ST-10000760</td>\n",
       "      <td>Office Supplies</td>\n",
       "      <td>Storage</td>\n",
       "      <td>Eldon Fold 'N Roll Cart System</td>\n",
       "      <td>22.3680</td>\n",
       "    </tr>\n",
       "    <tr>\n",
       "      <th>5</th>\n",
       "      <td>6</td>\n",
       "      <td>CA-2015-115812</td>\n",
       "      <td>2015-06-09</td>\n",
       "      <td>14/06/2015</td>\n",
       "      <td>Standard Class</td>\n",
       "      <td>BH-11710</td>\n",
       "      <td>Brosina Hoffman</td>\n",
       "      <td>Consumer</td>\n",
       "      <td>United States</td>\n",
       "      <td>Los Angeles</td>\n",
       "      <td>California</td>\n",
       "      <td>90032</td>\n",
       "      <td>West</td>\n",
       "      <td>FUR-FU-10001487</td>\n",
       "      <td>Furniture</td>\n",
       "      <td>Furnishings</td>\n",
       "      <td>Eldon Expressions Wood and Plastic Desk Access...</td>\n",
       "      <td>48.8600</td>\n",
       "    </tr>\n",
       "    <tr>\n",
       "      <th>6</th>\n",
       "      <td>7</td>\n",
       "      <td>CA-2015-115812</td>\n",
       "      <td>2015-06-09</td>\n",
       "      <td>14/06/2015</td>\n",
       "      <td>Standard Class</td>\n",
       "      <td>BH-11710</td>\n",
       "      <td>Brosina Hoffman</td>\n",
       "      <td>Consumer</td>\n",
       "      <td>United States</td>\n",
       "      <td>Los Angeles</td>\n",
       "      <td>California</td>\n",
       "      <td>90032</td>\n",
       "      <td>West</td>\n",
       "      <td>OFF-AR-10002833</td>\n",
       "      <td>Office Supplies</td>\n",
       "      <td>Art</td>\n",
       "      <td>Newell 322</td>\n",
       "      <td>7.2800</td>\n",
       "    </tr>\n",
       "    <tr>\n",
       "      <th>7</th>\n",
       "      <td>8</td>\n",
       "      <td>CA-2015-115812</td>\n",
       "      <td>2015-06-09</td>\n",
       "      <td>14/06/2015</td>\n",
       "      <td>Standard Class</td>\n",
       "      <td>BH-11710</td>\n",
       "      <td>Brosina Hoffman</td>\n",
       "      <td>Consumer</td>\n",
       "      <td>United States</td>\n",
       "      <td>Los Angeles</td>\n",
       "      <td>California</td>\n",
       "      <td>90032</td>\n",
       "      <td>West</td>\n",
       "      <td>TEC-PH-10002275</td>\n",
       "      <td>Technology</td>\n",
       "      <td>Phones</td>\n",
       "      <td>Mitel 5320 IP Phone VoIP phone</td>\n",
       "      <td>907.1520</td>\n",
       "    </tr>\n",
       "    <tr>\n",
       "      <th>8</th>\n",
       "      <td>9</td>\n",
       "      <td>CA-2015-115812</td>\n",
       "      <td>2015-06-09</td>\n",
       "      <td>14/06/2015</td>\n",
       "      <td>Standard Class</td>\n",
       "      <td>BH-11710</td>\n",
       "      <td>Brosina Hoffman</td>\n",
       "      <td>Consumer</td>\n",
       "      <td>United States</td>\n",
       "      <td>Los Angeles</td>\n",
       "      <td>California</td>\n",
       "      <td>90032</td>\n",
       "      <td>West</td>\n",
       "      <td>OFF-BI-10003910</td>\n",
       "      <td>Office Supplies</td>\n",
       "      <td>Binders</td>\n",
       "      <td>DXL Angle-View Binders with Locking Rings by S...</td>\n",
       "      <td>18.5040</td>\n",
       "    </tr>\n",
       "    <tr>\n",
       "      <th>9</th>\n",
       "      <td>10</td>\n",
       "      <td>CA-2015-115812</td>\n",
       "      <td>2015-06-09</td>\n",
       "      <td>14/06/2015</td>\n",
       "      <td>Standard Class</td>\n",
       "      <td>BH-11710</td>\n",
       "      <td>Brosina Hoffman</td>\n",
       "      <td>Consumer</td>\n",
       "      <td>United States</td>\n",
       "      <td>Los Angeles</td>\n",
       "      <td>California</td>\n",
       "      <td>90032</td>\n",
       "      <td>West</td>\n",
       "      <td>OFF-AP-10002892</td>\n",
       "      <td>Office Supplies</td>\n",
       "      <td>Appliances</td>\n",
       "      <td>Belkin F5C206VTEL 6 Outlet Surge</td>\n",
       "      <td>114.9000</td>\n",
       "    </tr>\n",
       "  </tbody>\n",
       "</table>\n",
       "</div>"
      ]
     },
     "execution_count": 261,
     "metadata": {},
     "output_type": "execute_result"
    }
   ],
   "execution_count": 261
  },
  {
   "metadata": {
    "ExecuteTime": {
     "end_time": "2024-12-11T11:18:29.724946Z",
     "start_time": "2024-12-11T11:18:29.632365Z"
    }
   },
   "cell_type": "code",
   "source": "plt.plot(yearly_sales['Year'], yearly_sales['Total Sales'], marker='o', linestyle = '-')",
   "id": "91ddba9bd40a8b4e",
   "outputs": [
    {
     "data": {
      "text/plain": [
       "[<matplotlib.lines.Line2D at 0x15c2b94f0>]"
      ]
     },
     "execution_count": 262,
     "metadata": {},
     "output_type": "execute_result"
    },
    {
     "data": {
      "text/plain": [
       "<Figure size 640x480 with 1 Axes>"
      ],
      "image/png": "[encoded data removed]"
     },
     "metadata": {},
     "output_type": "display_data"
    }
   ],
   "execution_count": 262
  },
  {
   "metadata": {
    "ExecuteTime": {
     "end_time": "2024-12-11T11:18:30.033400Z",
     "start_time": "2024-12-11T11:18:29.983031Z"
    }
   },
   "cell_type": "code",
   "source": [
    "df['Order Date']=pd.to_datetime(df['Order Date'],dayfirst=True)\n",
    "year_sales = df[df['Order Date'].dt.year == 2018]\n",
    "quarterly_sales = year_sales.resample('QE', on = 'Order Date')['Sales'].sum().reset_index()\n",
    "quarterly_sales = quarterly_sales.rename(columns={'Order Date':'Quarter','Sales':'Total Quarterly Sales'})\n",
    "print(quarterly_sales)"
   ],
   "id": "71d0fbea227164b4",
   "outputs": [
    {
     "name": "stdout",
     "output_type": "stream",
     "text": [
      "     Quarter  Total Quarterly Sales\n",
      "0 2018-03-31            122260.8842\n",
      "1 2018-06-30            127558.6200\n",
      "2 2018-09-30            193815.8400\n",
      "3 2018-12-31            278416.6750\n"
     ]
    }
   ],
   "execution_count": 263
  },
  {
   "metadata": {
    "ExecuteTime": {
     "end_time": "2024-12-11T11:18:30.352797Z",
     "start_time": "2024-12-11T11:18:30.185206Z"
    }
   },
   "cell_type": "code",
   "source": [
    "plt.figure(figsize=(12, 6))\n",
    "plt.plot(quarterly_sales['Quarter'], quarterly_sales['Total Quarterly Sales'], marker='o', linestyle = '--')\n",
    "plt.xticks(rotation=45)\n",
    "plt.xlabel('Quarter')\n",
    "plt.ylabel('Total Sales')"
   ],
   "id": "80fcec6d4027a57d",
   "outputs": [
    {
     "data": {
      "text/plain": [
       "Text(0, 0.5, 'Total Sales')"
      ]
     },
     "execution_count": 264,
     "metadata": {},
     "output_type": "execute_result"
    },
    {
     "data": {
      "text/plain": [
       "<Figure size 1200x600 with 1 Axes>"
      ],
      "image/png": "[encoded data removed]"
     },
     "metadata": {},
     "output_type": "display_data"
    }
   ],
   "execution_count": 264
  },
  {
   "metadata": {
    "ExecuteTime": {
     "end_time": "2024-12-11T11:18:30.437651Z",
     "start_time": "2024-12-11T11:18:30.417869Z"
    }
   },
   "cell_type": "code",
   "source": [
    "df['Order Date']=pd.to_datetime(df['Order Date'],dayfirst=True)\n",
    "year_sales = df[df['Order Date'].dt.year == 2018]\n",
    "monthly_sales = year_sales.resample('ME', on = 'Order Date')['Sales'].sum().reset_index()\n",
    "monthly_sales = monthly_sales.rename(columns={'Order Date':'Month','Sales':'Total Monthly Sales'})\n",
    "print(monthly_sales)"
   ],
   "id": "fd430993a4439c27",
   "outputs": [
    {
     "name": "stdout",
     "output_type": "stream",
     "text": [
      "        Month  Total Monthly Sales\n",
      "0  2018-01-31           43476.4740\n",
      "1  2018-02-28           19920.9974\n",
      "2  2018-03-31           58863.4128\n",
      "3  2018-04-30           35541.9101\n",
      "4  2018-05-31           43825.9822\n",
      "5  2018-06-30           48190.7277\n",
      "6  2018-07-31           44825.1040\n",
      "7  2018-08-31           62837.8480\n",
      "8  2018-09-30           86152.8880\n",
      "9  2018-10-31           77448.1312\n",
      "10 2018-11-30          117938.1550\n",
      "11 2018-12-31           83030.3888\n"
     ]
    }
   ],
   "execution_count": 265
  },
  {
   "metadata": {
    "ExecuteTime": {
     "end_time": "2024-12-11T11:18:30.632319Z",
     "start_time": "2024-12-11T11:18:30.491868Z"
    }
   },
   "cell_type": "code",
   "source": [
    "plt.plot(monthly_sales['Month'], monthly_sales['Total Monthly Sales'], marker='o', linestyle = '--', color='#FF6F61',markerfacecolor='#B4E7C3',markeredgecolor='#2E8B57')\n",
    "plt.xticks(rotation=45)\n",
    "plt.xlabel('Month')\n",
    "plt.ylabel('Total Sales')\n",
    "plt.show()"
   ],
   "id": "76a8708e7c5237a0",
   "outputs": [
    {
     "data": {
      "text/plain": [
       "<Figure size 640x480 with 1 Axes>"
      ],
      "image/png": "[encoded data removed]"
     },
     "metadata": {},
     "output_type": "display_data"
    }
   ],
   "execution_count": 266
  },
  {
   "metadata": {
    "ExecuteTime": {
     "end_time": "2024-12-11T11:18:30.822446Z",
     "start_time": "2024-12-11T11:18:30.819212Z"
    }
   },
   "cell_type": "code",
   "source": [
    "import plotly.graph_objects as go\n",
    "from plotly.subplots import make_subplots\n",
    "import plotly.io as pio"
   ],
   "id": "4d7984eae3a6cba6",
   "outputs": [],
   "execution_count": 267
  },
  {
   "metadata": {
    "ExecuteTime": {
     "end_time": "2024-12-11T11:18:30.938177Z",
     "start_time": "2024-12-11T11:18:30.931276Z"
    }
   },
   "cell_type": "code",
   "source": [
    "all_state_mapping = {\n",
    "    \"Alabama\": \"AL\", \"Alaska\": \"AK\", \"Arizona\": \"AZ\", \"Arkansas\": \"AR\", \"California\": \"CA\", \n",
    "    \"Colorado\": \"CO\", \"Connecticut\": \"CT\", \"Delaware\": \"DE\", \"Florida\": \"FL\", \"Georgia\": \"GA\",\n",
    "    \"Hawaii\": \"HI\", \"Idaho\": \"ID\", \"Illinois\": \"IL\", \"Indiana\": \"IN\", \"Iowa\": \"IA\", \n",
    "    \"Kansas\": \"KS\", \"Kentucky\": \"KY\", \"Louisiana\": \"LA\", \"Maine\": \"ME\", \"Maryland\": \"MD\",\n",
    "    \"Massachusetts\": \"MA\", \"Michigan\": \"MI\", \"Minnesota\": \"MN\", \"Mississippi\": \"MS\", \"Missouri\": \"MO\", \n",
    "    \"Montana\": \"MT\", \"Nebraska\": \"NE\", \"Nevada\": \"NV\", \"New Hampshire\": \"NH\", \"New Jersey\": \"NJ\",\n",
    "    \"New Mexico\": \"NM\", \"New York\": \"NY\", \"North Carolina\": \"NC\", \"North Dakota\": \"ND\", \"Ohio\": \"OH\",\n",
    "    \"Oklahoma\": \"OK\", \"Oregon\": \"OR\", \"Pennsylvania\": \"PA\", \"Rhode Island\": \"RI\", \"South Carolina\": \"SC\",\n",
    "    \"South Dakota\": \"SD\", \"Tennessee\": \"TN\", \"Texas\": \"TX\", \"Utah\": \"UT\", \"Vermont\": \"VT\", \n",
    "    \"Virginia\": \"VA\", \"Washington\": \"WA\", \"West Virginia\": \"WV\", \"Wisconsin\": \"WI\", \"Wyoming\": \"WY\"}"
   ],
   "id": "4fb764908ef33d62",
   "outputs": [],
   "execution_count": 268
  },
  {
   "metadata": {
    "ExecuteTime": {
     "end_time": "2024-12-11T11:18:30.993979Z",
     "start_time": "2024-12-11T11:18:30.990380Z"
    }
   },
   "cell_type": "code",
   "source": "df['Abbreviation'] = df['State'].map(all_state_mapping)",
   "id": "93a43ce3cf7bdb4a",
   "outputs": [],
   "execution_count": 269
  },
  {
   "metadata": {
    "ExecuteTime": {
     "end_time": "2024-12-11T11:18:31.044741Z",
     "start_time": "2024-12-11T11:18:31.038841Z"
    }
   },
   "cell_type": "code",
   "source": "sum_of_sales = df.groupby('State')['Sales'].sum().reset_index()",
   "id": "4efe8cb75b13fc5a",
   "outputs": [],
   "execution_count": 270
  },
  {
   "metadata": {
    "ExecuteTime": {
     "end_time": "2024-12-11T11:18:31.134292Z",
     "start_time": "2024-12-11T11:18:31.128978Z"
    }
   },
   "cell_type": "code",
   "source": "sum_of_sales['Abbreviation'] = sum_of_sales['State'].map(all_state_mapping)",
   "id": "eadfa23e2c564f0e",
   "outputs": [],
   "execution_count": 271
  },
  {
   "metadata": {
    "ExecuteTime": {
     "end_time": "2024-12-11T11:18:31.190263Z",
     "start_time": "2024-12-11T11:18:31.185217Z"
    }
   },
   "cell_type": "code",
   "source": "fig = go.Figure(data=go.Choropleth(locations=sum_of_sales['Abbreviation'],locationmode='USA-states',z=sum_of_sales['Sales'], hoverinfo = 'location+z',showscale=True))",
   "id": "ba84fc61560a8e94",
   "outputs": [],
   "execution_count": 272
  },
  {
   "metadata": {
    "ExecuteTime": {
     "end_time": "2024-12-11T11:18:31.344723Z",
     "start_time": "2024-12-11T11:18:31.330435Z"
    }
   },
   "cell_type": "code",
   "source": [
    "fig.update_geos(projection_type='albers usa')\n",
    "fig.update_layout(geo_scope='usa', title = 'Total Sales by U.S.State')"
   ],
   "id": "876dc147c0a633f0",
   "outputs": [
    {
     "data": {
      "application/vnd.plotly.v1+json": {
       "data": [
        {
         "hoverinfo": "location+z",
         "locationmode": "USA-states",
         "locations": [
          "AL",
          "AZ",
          "AR",
          "CA",
          "CO",
          "CT",
          "DE",
          null,
          "FL",
          "GA",
          "ID",
          "IL",
          "IN",
          "IA",
          "KS",
          "KY",
          "LA",
          "ME",
          "MD",
          "MA",
          "MI",
          "MN",
          "MS",
          "MO",
          "MT",
          "NE",
          "NV",
          "NH",
          "NJ",
          "NM",
          "NY",
          "NC",
          "ND",
          "OH",
          "OK",
          "OR",
          "PA",
          "RI",
          "SC",
          "SD",
          "TN",
          "TX",
          "UT",
          "VT",
          "VA",
          "WA",
          "WV",
          "WI",
          "WY"
         ],
         "showscale": true,
         "z": [
          19510.64,
          35272.657,
          11678.13,
          446306.4635,
          31841.597999999998,
          13384.357,
          27322.999,
          2865.02,
          88436.532,
          48219.11,
          4382.486,
          79236.517,
          48718.4,
          4443.56,
          2914.31,
          36458.39,
          9131.05,
          1270.53,
          23705.523,
          28634.434,
          76136.074,
          29863.15,
          10771.34,
          22205.15,
          5589.352,
          7464.93,
          16729.102,
          7292.524,
          34610.972,
          4783.522,
          306361.147,
          55165.964,
          919.91,
          75130.35,
          19683.39,
          17284.462,
          116276.65,
          22525.026,
          8481.71,
          1315.56,
          30661.873,
          168572.5322,
          11220.056,
          8929.369999999999,
          70636.72,
          135206.85,
          1209.824,
          31173.43,
          1603.136
         ],
         "type": "choropleth"
        }
       ],
       "layout": {
        "template": {
         "data": {
          "histogram2dcontour": [
           {
            "type": "histogram2dcontour",
            "colorbar": {
             "outlinewidth": 0,
             "ticks": ""
            },
            "colorscale": [
             [
              0.0,
              "#0d0887"
             ],
             [
              0.1111111111111111,
              "#46039f"
             ],
             [
              0.2222222222222222,
              "#7201a8"
             ],
             [
              0.3333333333333333,
              "#9c179e"
             ],
             [
              0.4444444444444444,
              "#bd3786"
             ],
             [
              0.5555555555555556,
              "#d8576b"
             ],
             [
              0.6666666666666666,
              "#ed7953"
             ],
             [
              0.7777777777777778,
              "#fb9f3a"
             ],
             [
              0.8888888888888888,
              "#fdca26"
             ],
             [
              1.0,
              "#f0f921"
             ]
            ]
           }
          ],
          "choropleth": [
           {
            "type": "choropleth",
            "colorbar": {
             "outlinewidth": 0,
             "ticks": ""
            }
           }
          ],
          "histogram2d": [
           {
            "type": "histogram2d",
            "colorbar": {
             "outlinewidth": 0,
             "ticks": ""
            },
            "colorscale": [
             [
              0.0,
              "#0d0887"
             ],
             [
              0.1111111111111111,
              "#46039f"
             ],
             [
              0.2222222222222222,
              "#7201a8"
             ],
             [
              0.3333333333333333,
              "#9c179e"
             ],
             [
              0.4444444444444444,
              "#bd3786"
             ],
             [
              0.5555555555555556,
              "#d8576b"
             ],
             [
              0.6666666666666666,
              "#ed7953"
             ],
             [
              0.7777777777777778,
              "#fb9f3a"
             ],
             [
              0.8888888888888888,
              "#fdca26"
             ],
             [
              1.0,
              "#f0f921"
             ]
            ]
           }
          ],
          "heatmap": [
           {
            "type": "heatmap",
            "colorbar": {
             "outlinewidth": 0,
             "ticks": ""
            },
            "colorscale": [
             [
              0.0,
              "#0d0887"
             ],
             [
              0.1111111111111111,
              "#46039f"
             ],
             [
              0.2222222222222222,
              "#7201a8"
             ],
             [
              0.3333333333333333,
              "#9c179e"
             ],
             [
              0.4444444444444444,
              "#bd3786"
             ],
             [
              0.5555555555555556,
              "#d8576b"
             ],
             [
              0.6666666666666666,
              "#ed7953"
             ],
             [
              0.7777777777777778,
              "#fb9f3a"
             ],
             [
              0.8888888888888888,
              "#fdca26"
             ],
             [
              1.0,
              "#f0f921"
             ]
            ]
           }
          ],
          "heatmapgl": [
           {
            "type": "heatmapgl",
            "colorbar": {
             "outlinewidth": 0,
             "ticks": ""
            },
            "colorscale": [
             [
              0.0,
              "#0d0887"
             ],
             [
              0.1111111111111111,
              "#46039f"
             ],
             [
              0.2222222222222222,
              "#7201a8"
             ],
             [
              0.3333333333333333,
              "#9c179e"
             ],
             [
              0.4444444444444444,
              "#bd3786"
             ],
             [
              0.5555555555555556,
              "#d8576b"
             ],
             [
              0.6666666666666666,
              "#ed7953"
             ],
             [
              0.7777777777777778,
              "#fb9f3a"
             ],
             [
              0.8888888888888888,
              "#fdca26"
             ],
             [
              1.0,
              "#f0f921"
             ]
            ]
           }
          ],
          "contourcarpet": [
           {
            "type": "contourcarpet",
            "colorbar": {
             "outlinewidth": 0,
             "ticks": ""
            }
           }
          ],
          "contour": [
           {
            "type": "contour",
            "colorbar": {
             "outlinewidth": 0,
             "ticks": ""
            },
            "colorscale": [
             [
              0.0,
              "#0d0887"
             ],
             [
              0.1111111111111111,
              "#46039f"
             ],
             [
              0.2222222222222222,
              "#7201a8"
             ],
             [
              0.3333333333333333,
              "#9c179e"
             ],
             [
              0.4444444444444444,
              "#bd3786"
             ],
             [
              0.5555555555555556,
              "#d8576b"
             ],
             [
              0.6666666666666666,
              "#ed7953"
             ],
             [
              0.7777777777777778,
              "#fb9f3a"
             ],
             [
              0.8888888888888888,
              "#fdca26"
             ],
             [
              1.0,
              "#f0f921"
             ]
            ]
           }
          ],
          "surface": [
           {
            "type": "surface",
            "colorbar": {
             "outlinewidth": 0,
             "ticks": ""
            },
            "colorscale": [
             [
              0.0,
              "#0d0887"
             ],
             [
              0.1111111111111111,
              "#46039f"
             ],
             [
              0.2222222222222222,
              "#7201a8"
             ],
             [
              0.3333333333333333,
              "#9c179e"
             ],
             [
              0.4444444444444444,
              "#bd3786"
             ],
             [
              0.5555555555555556,
              "#d8576b"
             ],
             [
              0.6666666666666666,
              "#ed7953"
             ],
             [
              0.7777777777777778,
              "#fb9f3a"
             ],
             [
              0.8888888888888888,
              "#fdca26"
             ],
             [
              1.0,
              "#f0f921"
             ]
            ]
           }
          ],
          "mesh3d": [
           {
            "type": "mesh3d",
            "colorbar": {
             "outlinewidth": 0,
             "ticks": ""
            }
           }
          ],
          "scatter": [
           {
            "fillpattern": {
             "fillmode": "overlay",
             "size": 10,
             "solidity": 0.2
            },
            "type": "scatter"
           }
          ],
          "parcoords": [
           {
            "type": "parcoords",
            "line": {
             "colorbar": {
              "outlinewidth": 0,
              "ticks": ""
             }
            }
           }
          ],
          "scatterpolargl": [
           {
            "type": "scatterpolargl",
            "marker": {
             "colorbar": {
              "outlinewidth": 0,
              "ticks": ""
             }
            }
           }
          ],
          "bar": [
           {
            "error_x": {
             "color": "#2a3f5f"
            },
            "error_y": {
             "color": "#2a3f5f"
            },
            "marker": {
             "line": {
              "color": "#E5ECF6",
              "width": 0.5
             },
             "pattern": {
              "fillmode": "overlay",
              "size": 10,
              "solidity": 0.2
             }
            },
            "type": "bar"
           }
          ],
          "scattergeo": [
           {
            "type": "scattergeo",
            "marker": {
             "colorbar": {
              "outlinewidth": 0,
              "ticks": ""
             }
            }
           }
          ],
          "scatterpolar": [
           {
            "type": "scatterpolar",
            "marker": {
             "colorbar": {
              "outlinewidth": 0,
              "ticks": ""
             }
            }
           }
          ],
          "histogram": [
           {
            "marker": {
             "pattern": {
              "fillmode": "overlay",
              "size": 10,
              "solidity": 0.2
             }
            },
            "type": "histogram"
           }
          ],
          "scattergl": [
           {
            "type": "scattergl",
            "marker": {
             "colorbar": {
              "outlinewidth": 0,
              "ticks": ""
             }
            }
           }
          ],
          "scatter3d": [
           {
            "type": "scatter3d",
            "line": {
             "colorbar": {
              "outlinewidth": 0,
              "ticks": ""
             }
            },
            "marker": {
             "colorbar": {
              "outlinewidth": 0,
              "ticks": ""
             }
            }
           }
          ],
          "scattermapbox": [
           {
            "type": "scattermapbox",
            "marker": {
             "colorbar": {
              "outlinewidth": 0,
              "ticks": ""
             }
            }
           }
          ],
          "scatterternary": [
           {
            "type": "scatterternary",
            "marker": {
             "colorbar": {
              "outlinewidth": 0,
              "ticks": ""
             }
            }
           }
          ],
          "scattercarpet": [
           {
            "type": "scattercarpet",
            "marker": {
             "colorbar": {
              "outlinewidth": 0,
              "ticks": ""
             }
            }
           }
          ],
          "carpet": [
           {
            "aaxis": {
             "endlinecolor": "#2a3f5f",
             "gridcolor": "white",
             "linecolor": "white",
             "minorgridcolor": "white",
             "startlinecolor": "#2a3f5f"
            },
            "baxis": {
             "endlinecolor": "#2a3f5f",
             "gridcolor": "white",
             "linecolor": "white",
             "minorgridcolor": "white",
             "startlinecolor": "#2a3f5f"
            },
            "type": "carpet"
           }
          ],
          "table": [
           {
            "cells": {
             "fill": {
              "color": "#EBF0F8"
             },
             "line": {
              "color": "white"
             }
            },
            "header": {
             "fill": {
              "color": "#C8D4E3"
             },
             "line": {
              "color": "white"
             }
            },
            "type": "table"
           }
          ],
          "barpolar": [
           {
            "marker": {
             "line": {
              "color": "#E5ECF6",
              "width": 0.5
             },
             "pattern": {
              "fillmode": "overlay",
              "size": 10,
              "solidity": 0.2
             }
            },
            "type": "barpolar"
           }
          ],
          "pie": [
           {
            "automargin": true,
            "type": "pie"
           }
          ]
         },
         "layout": {
          "autotypenumbers": "strict",
          "colorway": [
           "#636efa",
           "#EF553B",
           "#00cc96",
           "#ab63fa",
           "#FFA15A",
           "#19d3f3",
           "#FF6692",
           "#B6E880",
           "#FF97FF",
           "#FECB52"
          ],
          "font": {
           "color": "#2a3f5f"
          },
          "hovermode": "closest",
          "hoverlabel": {
           "align": "left"
          },
          "paper_bgcolor": "white",
          "plot_bgcolor": "#E5ECF6",
          "polar": {
           "bgcolor": "#E5ECF6",
           "angularaxis": {
            "gridcolor": "white",
            "linecolor": "white",
            "ticks": ""
           },
           "radialaxis": {
            "gridcolor": "white",
            "linecolor": "white",
            "ticks": ""
           }
          },
          "ternary": {
           "bgcolor": "#E5ECF6",
           "aaxis": {
            "gridcolor": "white",
            "linecolor": "white",
            "ticks": ""
           },
           "baxis": {
            "gridcolor": "white",
            "linecolor": "white",
            "ticks": ""
           },
           "caxis": {
            "gridcolor": "white",
            "linecolor": "white",
            "ticks": ""
           }
          },
          "coloraxis": {
           "colorbar": {
            "outlinewidth": 0,
            "ticks": ""
           }
          },
          "colorscale": {
           "sequential": [
            [
             0.0,
             "#0d0887"
            ],
            [
             0.1111111111111111,
             "#46039f"
            ],
            [
             0.2222222222222222,
             "#7201a8"
            ],
            [
             0.3333333333333333,
             "#9c179e"
            ],
            [
             0.4444444444444444,
             "#bd3786"
            ],
            [
             0.5555555555555556,
             "#d8576b"
            ],
            [
             0.6666666666666666,
             "#ed7953"
            ],
            [
             0.7777777777777778,
             "#fb9f3a"
            ],
            [
             0.8888888888888888,
             "#fdca26"
            ],
            [
             1.0,
             "#f0f921"
            ]
           ],
           "sequentialminus": [
            [
             0.0,
             "#0d0887"
            ],
            [
             0.1111111111111111,
             "#46039f"
            ],
            [
             0.2222222222222222,
             "#7201a8"
            ],
            [
             0.3333333333333333,
             "#9c179e"
            ],
            [
             0.4444444444444444,
             "#bd3786"
            ],
            [
             0.5555555555555556,
             "#d8576b"
            ],
            [
             0.6666666666666666,
             "#ed7953"
            ],
            [
             0.7777777777777778,
             "#fb9f3a"
            ],
            [
             0.8888888888888888,
             "#fdca26"
            ],
            [
             1.0,
             "#f0f921"
            ]
           ],
           "diverging": [
            [
             0,
             "#8e0152"
            ],
            [
             0.1,
             "#c51b7d"
            ],
            [
             0.2,
             "#de77ae"
            ],
            [
             0.3,
             "#f1b6da"
            ],
            [
             0.4,
             "#fde0ef"
            ],
            [
             0.5,
             "#f7f7f7"
            ],
            [
             0.6,
             "#e6f5d0"
            ],
            [
             0.7,
             "#b8e186"
            ],
            [
             0.8,
             "#7fbc41"
            ],
            [
             0.9,
             "#4d9221"
            ],
            [
             1,
             "#276419"
            ]
           ]
          },
          "xaxis": {
           "gridcolor": "white",
           "linecolor": "white",
           "ticks": "",
           "title": {
            "standoff": 15
           },
           "zerolinecolor": "white",
           "automargin": true,
           "zerolinewidth": 2
          },
          "yaxis": {
           "gridcolor": "white",
           "linecolor": "white",
           "ticks": "",
           "title": {
            "standoff": 15
           },
           "zerolinecolor": "white",
           "automargin": true,
           "zerolinewidth": 2
          },
          "scene": {
           "xaxis": {
            "backgroundcolor": "#E5ECF6",
            "gridcolor": "white",
            "linecolor": "white",
            "showbackground": true,
            "ticks": "",
            "zerolinecolor": "white",
            "gridwidth": 2
           },
           "yaxis": {
            "backgroundcolor": "#E5ECF6",
            "gridcolor": "white",
            "linecolor": "white",
            "showbackground": true,
            "ticks": "",
            "zerolinecolor": "white",
            "gridwidth": 2
           },
           "zaxis": {
            "backgroundcolor": "#E5ECF6",
            "gridcolor": "white",
            "linecolor": "white",
            "showbackground": true,
            "ticks": "",
            "zerolinecolor": "white",
            "gridwidth": 2
           }
          },
          "shapedefaults": {
           "line": {
            "color": "#2a3f5f"
           }
          },
          "annotationdefaults": {
           "arrowcolor": "#2a3f5f",
           "arrowhead": 0,
           "arrowwidth": 1
          },
          "geo": {
           "bgcolor": "white",
           "landcolor": "#E5ECF6",
           "subunitcolor": "white",
           "showland": true,
           "showlakes": true,
           "lakecolor": "white"
          },
          "title": {
           "x": 0.05
          },
          "mapbox": {
           "style": "light"
          }
         }
        },
        "geo": {
         "projection": {
          "type": "albers usa"
         },
         "scope": "usa"
        },
        "title": {
         "text": "Total Sales by U.S.State"
        }
       },
       "config": {
        "plotlyServerURL": "https://plot.ly"
       }
      },
      "text/html": [
       "<div>                            <div id=\"c2071af8-38da-4e4f-957b-719b66c8de4f\" class=\"plotly-graph-div\" style=\"height:525px; width:100%;\"></div>            <script type=\"text/javascript\">                require([\"plotly\"], function(Plotly) {                    window.PLOTLYENV=window.PLOTLYENV || {};                                    if (document.getElementById(\"c2071af8-38da-4e4f-957b-719b66c8de4f\")) {                    Plotly.newPlot(                        \"c2071af8-38da-4e4f-957b-719b66c8de4f\",                        [{\"hoverinfo\":\"location+z\",\"locationmode\":\"USA-states\",\"locations\":[\"AL\",\"AZ\",\"AR\",\"CA\",\"CO\",\"CT\",\"DE\",null,\"FL\",\"GA\",\"ID\",\"IL\",\"IN\",\"IA\",\"KS\",\"KY\",\"LA\",\"ME\",\"MD\",\"MA\",\"MI\",\"MN\",\"MS\",\"MO\",\"MT\",\"NE\",\"NV\",\"NH\",\"NJ\",\"NM\",\"NY\",\"NC\",\"ND\",\"OH\",\"OK\",\"OR\",\"PA\",\"RI\",\"SC\",\"SD\",\"TN\",\"TX\",\"UT\",\"VT\",\"VA\",\"WA\",\"WV\",\"WI\",\"WY\"],\"showscale\":true,\"z\":[19510.64,35272.657,11678.13,446306.4635,31841.597999999998,13384.357,27322.999,2865.02,88436.532,48219.11,4382.486,79236.517,48718.4,4443.56,2914.31,36458.39,9131.05,1270.53,23705.523,28634.434,76136.074,29863.15,10771.34,22205.15,5589.352,7464.93,16729.102,7292.524,34610.972,4783.522,306361.147,55165.964,919.91,75130.35,19683.39,17284.462,116276.65,22525.026,8481.71,1315.56,30661.873,168572.5322,11220.056,8929.369999999999,70636.72,135206.85,1209.824,31173.43,1603.136],\"type\":\"choropleth\"}],                        {\"template\":{\"data\":{\"histogram2dcontour\":[{\"type\":\"histogram2dcontour\",\"colorbar\":{\"outlinewidth\":0,\"ticks\":\"\"},\"colorscale\":[[0.0,\"#0d0887\"],[0.1111111111111111,\"#46039f\"],[0.2222222222222222,\"#7201a8\"],[0.3333333333333333,\"#9c179e\"],[0.4444444444444444,\"#bd3786\"],[0.5555555555555556,\"#d8576b\"],[0.6666666666666666,\"#ed7953\"],[0.7777777777777778,\"#fb9f3a\"],[0.8888888888888888,\"#fdca26\"],[1.0,\"#f0f921\"]]}],\"choropleth\":[{\"type\":\"choropleth\",\"colorbar\":{\"outlinewidth\":0,\"ticks\":\"\"}}],\"histogram2d\":[{\"type\":\"histogram2d\",\"colorbar\":{\"outlinewidth\":0,\"ticks\":\"\"},\"colorscale\":[[0.0,\"#0d0887\"],[0.1111111111111111,\"#46039f\"],[0.2222222222222222,\"#7201a8\"],[0.3333333333333333,\"#9c179e\"],[0.4444444444444444,\"#bd3786\"],[0.5555555555555556,\"#d8576b\"],[0.6666666666666666,\"#ed7953\"],[0.7777777777777778,\"#fb9f3a\"],[0.8888888888888888,\"#fdca26\"],[1.0,\"#f0f921\"]]}],\"heatmap\":[{\"type\":\"heatmap\",\"colorbar\":{\"outlinewidth\":0,\"ticks\":\"\"},\"colorscale\":[[0.0,\"#0d0887\"],[0.1111111111111111,\"#46039f\"],[0.2222222222222222,\"#7201a8\"],[0.3333333333333333,\"#9c179e\"],[0.4444444444444444,\"#bd3786\"],[0.5555555555555556,\"#d8576b\"],[0.6666666666666666,\"#ed7953\"],[0.7777777777777778,\"#fb9f3a\"],[0.8888888888888888,\"#fdca26\"],[1.0,\"#f0f921\"]]}],\"heatmapgl\":[{\"type\":\"heatmapgl\",\"colorbar\":{\"outlinewidth\":0,\"ticks\":\"\"},\"colorscale\":[[0.0,\"#0d0887\"],[0.1111111111111111,\"#46039f\"],[0.2222222222222222,\"#7201a8\"],[0.3333333333333333,\"#9c179e\"],[0.4444444444444444,\"#bd3786\"],[0.5555555555555556,\"#d8576b\"],[0.6666666666666666,\"#ed7953\"],[0.7777777777777778,\"#fb9f3a\"],[0.8888888888888888,\"#fdca26\"],[1.0,\"#f0f921\"]]}],\"contourcarpet\":[{\"type\":\"contourcarpet\",\"colorbar\":{\"outlinewidth\":0,\"ticks\":\"\"}}],\"contour\":[{\"type\":\"contour\",\"colorbar\":{\"outlinewidth\":0,\"ticks\":\"\"},\"colorscale\":[[0.0,\"#0d0887\"],[0.1111111111111111,\"#46039f\"],[0.2222222222222222,\"#7201a8\"],[0.3333333333333333,\"#9c179e\"],[0.4444444444444444,\"#bd3786\"],[0.5555555555555556,\"#d8576b\"],[0.6666666666666666,\"#ed7953\"],[0.7777777777777778,\"#fb9f3a\"],[0.8888888888888888,\"#fdca26\"],[1.0,\"#f0f921\"]]}],\"surface\":[{\"type\":\"surface\",\"colorbar\":{\"outlinewidth\":0,\"ticks\":\"\"},\"colorscale\":[[0.0,\"#0d0887\"],[0.1111111111111111,\"#46039f\"],[0.2222222222222222,\"#7201a8\"],[0.3333333333333333,\"#9c179e\"],[0.4444444444444444,\"#bd3786\"],[0.5555555555555556,\"#d8576b\"],[0.6666666666666666,\"#ed7953\"],[0.7777777777777778,\"#fb9f3a\"],[0.8888888888888888,\"#fdca26\"],[1.0,\"#f0f921\"]]}],\"mesh3d\":[{\"type\":\"mesh3d\",\"colorbar\":{\"outlinewidth\":0,\"ticks\":\"\"}}],\"scatter\":[{\"fillpattern\":{\"fillmode\":\"overlay\",\"size\":10,\"solidity\":0.2},\"type\":\"scatter\"}],\"parcoords\":[{\"type\":\"parcoords\",\"line\":{\"colorbar\":{\"outlinewidth\":0,\"ticks\":\"\"}}}],\"scatterpolargl\":[{\"type\":\"scatterpolargl\",\"marker\":{\"colorbar\":{\"outlinewidth\":0,\"ticks\":\"\"}}}],\"bar\":[{\"error_x\":{\"color\":\"#2a3f5f\"},\"error_y\":{\"color\":\"#2a3f5f\"},\"marker\":{\"line\":{\"color\":\"#E5ECF6\",\"width\":0.5},\"pattern\":{\"fillmode\":\"overlay\",\"size\":10,\"solidity\":0.2}},\"type\":\"bar\"}],\"scattergeo\":[{\"type\":\"scattergeo\",\"marker\":{\"colorbar\":{\"outlinewidth\":0,\"ticks\":\"\"}}}],\"scatterpolar\":[{\"type\":\"scatterpolar\",\"marker\":{\"colorbar\":{\"outlinewidth\":0,\"ticks\":\"\"}}}],\"histogram\":[{\"marker\":{\"pattern\":{\"fillmode\":\"overlay\",\"size\":10,\"solidity\":0.2}},\"type\":\"histogram\"}],\"scattergl\":[{\"type\":\"scattergl\",\"marker\":{\"colorbar\":{\"outlinewidth\":0,\"ticks\":\"\"}}}],\"scatter3d\":[{\"type\":\"scatter3d\",\"line\":{\"colorbar\":{\"outlinewidth\":0,\"ticks\":\"\"}},\"marker\":{\"colorbar\":{\"outlinewidth\":0,\"ticks\":\"\"}}}],\"scattermapbox\":[{\"type\":\"scattermapbox\",\"marker\":{\"colorbar\":{\"outlinewidth\":0,\"ticks\":\"\"}}}],\"scatterternary\":[{\"type\":\"scatterternary\",\"marker\":{\"colorbar\":{\"outlinewidth\":0,\"ticks\":\"\"}}}],\"scattercarpet\":[{\"type\":\"scattercarpet\",\"marker\":{\"colorbar\":{\"outlinewidth\":0,\"ticks\":\"\"}}}],\"carpet\":[{\"aaxis\":{\"endlinecolor\":\"#2a3f5f\",\"gridcolor\":\"white\",\"linecolor\":\"white\",\"minorgridcolor\":\"white\",\"startlinecolor\":\"#2a3f5f\"},\"baxis\":{\"endlinecolor\":\"#2a3f5f\",\"gridcolor\":\"white\",\"linecolor\":\"white\",\"minorgridcolor\":\"white\",\"startlinecolor\":\"#2a3f5f\"},\"type\":\"carpet\"}],\"table\":[{\"cells\":{\"fill\":{\"color\":\"#EBF0F8\"},\"line\":{\"color\":\"white\"}},\"header\":{\"fill\":{\"color\":\"#C8D4E3\"},\"line\":{\"color\":\"white\"}},\"type\":\"table\"}],\"barpolar\":[{\"marker\":{\"line\":{\"color\":\"#E5ECF6\",\"width\":0.5},\"pattern\":{\"fillmode\":\"overlay\",\"size\":10,\"solidity\":0.2}},\"type\":\"barpolar\"}],\"pie\":[{\"automargin\":true,\"type\":\"pie\"}]},\"layout\":{\"autotypenumbers\":\"strict\",\"colorway\":[\"#636efa\",\"#EF553B\",\"#00cc96\",\"#ab63fa\",\"#FFA15A\",\"#19d3f3\",\"#FF6692\",\"#B6E880\",\"#FF97FF\",\"#FECB52\"],\"font\":{\"color\":\"#2a3f5f\"},\"hovermode\":\"closest\",\"hoverlabel\":{\"align\":\"left\"},\"paper_bgcolor\":\"white\",\"plot_bgcolor\":\"#E5ECF6\",\"polar\":{\"bgcolor\":\"#E5ECF6\",\"angularaxis\":{\"gridcolor\":\"white\",\"linecolor\":\"white\",\"ticks\":\"\"},\"radialaxis\":{\"gridcolor\":\"white\",\"linecolor\":\"white\",\"ticks\":\"\"}},\"ternary\":{\"bgcolor\":\"#E5ECF6\",\"aaxis\":{\"gridcolor\":\"white\",\"linecolor\":\"white\",\"ticks\":\"\"},\"baxis\":{\"gridcolor\":\"white\",\"linecolor\":\"white\",\"ticks\":\"\"},\"caxis\":{\"gridcolor\":\"white\",\"linecolor\":\"white\",\"ticks\":\"\"}},\"coloraxis\":{\"colorbar\":{\"outlinewidth\":0,\"ticks\":\"\"}},\"colorscale\":{\"sequential\":[[0.0,\"#0d0887\"],[0.1111111111111111,\"#46039f\"],[0.2222222222222222,\"#7201a8\"],[0.3333333333333333,\"#9c179e\"],[0.4444444444444444,\"#bd3786\"],[0.5555555555555556,\"#d8576b\"],[0.6666666666666666,\"#ed7953\"],[0.7777777777777778,\"#fb9f3a\"],[0.8888888888888888,\"#fdca26\"],[1.0,\"#f0f921\"]],\"sequentialminus\":[[0.0,\"#0d0887\"],[0.1111111111111111,\"#46039f\"],[0.2222222222222222,\"#7201a8\"],[0.3333333333333333,\"#9c179e\"],[0.4444444444444444,\"#bd3786\"],[0.5555555555555556,\"#d8576b\"],[0.6666666666666666,\"#ed7953\"],[0.7777777777777778,\"#fb9f3a\"],[0.8888888888888888,\"#fdca26\"],[1.0,\"#f0f921\"]],\"diverging\":[[0,\"#8e0152\"],[0.1,\"#c51b7d\"],[0.2,\"#de77ae\"],[0.3,\"#f1b6da\"],[0.4,\"#fde0ef\"],[0.5,\"#f7f7f7\"],[0.6,\"#e6f5d0\"],[0.7,\"#b8e186\"],[0.8,\"#7fbc41\"],[0.9,\"#4d9221\"],[1,\"#276419\"]]},\"xaxis\":{\"gridcolor\":\"white\",\"linecolor\":\"white\",\"ticks\":\"\",\"title\":{\"standoff\":15},\"zerolinecolor\":\"white\",\"automargin\":true,\"zerolinewidth\":2},\"yaxis\":{\"gridcolor\":\"white\",\"linecolor\":\"white\",\"ticks\":\"\",\"title\":{\"standoff\":15},\"zerolinecolor\":\"white\",\"automargin\":true,\"zerolinewidth\":2},\"scene\":{\"xaxis\":{\"backgroundcolor\":\"#E5ECF6\",\"gridcolor\":\"white\",\"linecolor\":\"white\",\"showbackground\":true,\"ticks\":\"\",\"zerolinecolor\":\"white\",\"gridwidth\":2},\"yaxis\":{\"backgroundcolor\":\"#E5ECF6\",\"gridcolor\":\"white\",\"linecolor\":\"white\",\"showbackground\":true,\"ticks\":\"\",\"zerolinecolor\":\"white\",\"gridwidth\":2},\"zaxis\":{\"backgroundcolor\":\"#E5ECF6\",\"gridcolor\":\"white\",\"linecolor\":\"white\",\"showbackground\":true,\"ticks\":\"\",\"zerolinecolor\":\"white\",\"gridwidth\":2}},\"shapedefaults\":{\"line\":{\"color\":\"#2a3f5f\"}},\"annotationdefaults\":{\"arrowcolor\":\"#2a3f5f\",\"arrowhead\":0,\"arrowwidth\":1},\"geo\":{\"bgcolor\":\"white\",\"landcolor\":\"#E5ECF6\",\"subunitcolor\":\"white\",\"showland\":true,\"showlakes\":true,\"lakecolor\":\"white\"},\"title\":{\"x\":0.05},\"mapbox\":{\"style\":\"light\"}}},\"geo\":{\"projection\":{\"type\":\"albers usa\"},\"scope\":\"usa\"},\"title\":{\"text\":\"Total Sales by U.S.State\"}},                        {\"responsive\": true}                    ).then(function(){\n",
       "                            \n",
       "var gd = document.getElementById('c2071af8-38da-4e4f-957b-719b66c8de4f');\n",
       "var x = new MutationObserver(function (mutations, observer) {{\n",
       "        var display = window.getComputedStyle(gd).display;\n",
       "        if (!display || display === 'none') {{\n",
       "            console.log([gd, 'removed!']);\n",
       "            Plotly.purge(gd);\n",
       "            observer.disconnect();\n",
       "        }}\n",
       "}});\n",
       "\n",
       "// Listen for the removal of the full notebook cells\n",
       "var notebookContainer = gd.closest('#notebook-container');\n",
       "if (notebookContainer) {{\n",
       "    x.observe(notebookContainer, {childList: true});\n",
       "}}\n",
       "\n",
       "// Listen for the clearing of the current output cell\n",
       "var outputEl = gd.closest('.output');\n",
       "if (outputEl) {{\n",
       "    x.observe(outputEl, {childList: true});\n",
       "}}\n",
       "\n",
       "                        })                };                });            </script>        </div>"
      ]
     },
     "metadata": {},
     "output_type": "display_data"
    }
   ],
   "execution_count": 273
  },
  {
   "metadata": {
    "ExecuteTime": {
     "end_time": "2024-12-11T11:18:31.474671Z",
     "start_time": "2024-12-11T11:18:31.468516Z"
    }
   },
   "cell_type": "code",
   "source": "sum_of_sales = df.groupby('State')['Sales'].sum().reset_index()",
   "id": "e167c04cc91a3fde",
   "outputs": [],
   "execution_count": 274
  },
  {
   "metadata": {
    "ExecuteTime": {
     "end_time": "2024-12-11T11:18:31.555590Z",
     "start_time": "2024-12-11T11:18:31.552360Z"
    }
   },
   "cell_type": "code",
   "source": "sum_of_sales = sum_of_sales.sort_values(by='Sales', ascending=False)",
   "id": "fe6341f917412a72",
   "outputs": [],
   "execution_count": 275
  },
  {
   "metadata": {
    "ExecuteTime": {
     "end_time": "2024-12-11T11:18:32.213336Z",
     "start_time": "2024-12-11T11:18:31.658600Z"
    }
   },
   "cell_type": "code",
   "source": [
    "plt.figure(figsize=(10,14))\n",
    "ax = sns.barplot(x='Sales', y='State', data=sum_of_sales, errorbar = None)\n",
    "plt.xlabel('Sales')\n",
    "plt.ylabel('State')\n",
    "plt.title('Total Sales by State')\n",
    "plt.show()"
   ],
   "id": "73291cc7090f940b",
   "outputs": [
    {
     "data": {
      "text/plain": [
       "<Figure size 1000x1400 with 1 Axes>"
      ],
      "image/png": "[encoded data removed]"
     },
     "metadata": {},
     "output_type": "display_data"
    }
   ],
   "execution_count": 276
  },
  {
   "metadata": {
    "ExecuteTime": {
     "end_time": "2024-12-11T11:18:32.322609Z",
     "start_time": "2024-12-11T11:18:32.318664Z"
    }
   },
   "cell_type": "code",
   "source": "import plotly.express as px",
   "id": "cec72d6010c26f23",
   "outputs": [],
   "execution_count": 277
  },
  {
   "metadata": {
    "ExecuteTime": {
     "end_time": "2024-12-11T11:18:32.387162Z",
     "start_time": "2024-12-11T11:18:32.379666Z"
    }
   },
   "cell_type": "code",
   "source": "df_summary = df.groupby(['Category','Sub-Category'])['Sales'].sum().reset_index()",
   "id": "c652e671e6b16565",
   "outputs": [],
   "execution_count": 278
  },
  {
   "metadata": {
    "ExecuteTime": {
     "end_time": "2024-12-11T11:18:32.496001Z",
     "start_time": "2024-12-11T11:18:32.490161Z"
    }
   },
   "cell_type": "code",
   "source": "df_summary",
   "id": "bb2a9baca4d6406c",
   "outputs": [
    {
     "data": {
      "text/plain": [
       "           Category Sub-Category        Sales\n",
       "0         Furniture    Bookcases  113813.1987\n",
       "1         Furniture       Chairs  322822.7310\n",
       "2         Furniture  Furnishings   89212.0180\n",
       "3         Furniture       Tables  202810.6280\n",
       "4   Office Supplies   Appliances  104618.4030\n",
       "5   Office Supplies          Art   26705.4100\n",
       "6   Office Supplies      Binders  200028.7850\n",
       "7   Office Supplies    Envelopes   16128.0460\n",
       "8   Office Supplies    Fasteners    3001.9600\n",
       "9   Office Supplies       Labels   12347.7260\n",
       "10  Office Supplies        Paper   76828.3040\n",
       "11  Office Supplies      Storage  219343.3920\n",
       "12  Office Supplies     Supplies   46420.3080\n",
       "13       Technology  Accessories  164186.7000\n",
       "14       Technology      Copiers  146248.0940\n",
       "15       Technology     Machines  189238.6310\n",
       "16       Technology       Phones  327782.4480"
      ],
      "text/html": [
       "<div>\n",
       "<style scoped>\n",
       "    .dataframe tbody tr th:only-of-type {\n",
       "        vertical-align: middle;\n",
       "    }\n",
       "\n",
       "    .dataframe tbody tr th {\n",
       "        vertical-align: top;\n",
       "    }\n",
       "\n",
       "    .dataframe thead th {\n",
       "        text-align: right;\n",
       "    }\n",
       "</style>\n",
       "<table border=\"1\" class=\"dataframe\">\n",
       "  <thead>\n",
       "    <tr style=\"text-align: right;\">\n",
       "      <th></th>\n",
       "      <th>Category</th>\n",
       "      <th>Sub-Category</th>\n",
       "      <th>Sales</th>\n",
       "    </tr>\n",
       "  </thead>\n",
       "  <tbody>\n",
       "    <tr>\n",
       "      <th>0</th>\n",
       "      <td>Furniture</td>\n",
       "      <td>Bookcases</td>\n",
       "      <td>113813.1987</td>\n",
       "    </tr>\n",
       "    <tr>\n",
       "      <th>1</th>\n",
       "      <td>Furniture</td>\n",
       "      <td>Chairs</td>\n",
       "      <td>322822.7310</td>\n",
       "    </tr>\n",
       "    <tr>\n",
       "      <th>2</th>\n",
       "      <td>Furniture</td>\n",
       "      <td>Furnishings</td>\n",
       "      <td>89212.0180</td>\n",
       "    </tr>\n",
       "    <tr>\n",
       "      <th>3</th>\n",
       "      <td>Furniture</td>\n",
       "      <td>Tables</td>\n",
       "      <td>202810.6280</td>\n",
       "    </tr>\n",
       "    <tr>\n",
       "      <th>4</th>\n",
       "      <td>Office Supplies</td>\n",
       "      <td>Appliances</td>\n",
       "      <td>104618.4030</td>\n",
       "    </tr>\n",
       "    <tr>\n",
       "      <th>5</th>\n",
       "      <td>Office Supplies</td>\n",
       "      <td>Art</td>\n",
       "      <td>26705.4100</td>\n",
       "    </tr>\n",
       "    <tr>\n",
       "      <th>6</th>\n",
       "      <td>Office Supplies</td>\n",
       "      <td>Binders</td>\n",
       "      <td>200028.7850</td>\n",
       "    </tr>\n",
       "    <tr>\n",
       "      <th>7</th>\n",
       "      <td>Office Supplies</td>\n",
       "      <td>Envelopes</td>\n",
       "      <td>16128.0460</td>\n",
       "    </tr>\n",
       "    <tr>\n",
       "      <th>8</th>\n",
       "      <td>Office Supplies</td>\n",
       "      <td>Fasteners</td>\n",
       "      <td>3001.9600</td>\n",
       "    </tr>\n",
       "    <tr>\n",
       "      <th>9</th>\n",
       "      <td>Office Supplies</td>\n",
       "      <td>Labels</td>\n",
       "      <td>12347.7260</td>\n",
       "    </tr>\n",
       "    <tr>\n",
       "      <th>10</th>\n",
       "      <td>Office Supplies</td>\n",
       "      <td>Paper</td>\n",
       "      <td>76828.3040</td>\n",
       "    </tr>\n",
       "    <tr>\n",
       "      <th>11</th>\n",
       "      <td>Office Supplies</td>\n",
       "      <td>Storage</td>\n",
       "      <td>219343.3920</td>\n",
       "    </tr>\n",
       "    <tr>\n",
       "      <th>12</th>\n",
       "      <td>Office Supplies</td>\n",
       "      <td>Supplies</td>\n",
       "      <td>46420.3080</td>\n",
       "    </tr>\n",
       "    <tr>\n",
       "      <th>13</th>\n",
       "      <td>Technology</td>\n",
       "      <td>Accessories</td>\n",
       "      <td>164186.7000</td>\n",
       "    </tr>\n",
       "    <tr>\n",
       "      <th>14</th>\n",
       "      <td>Technology</td>\n",
       "      <td>Copiers</td>\n",
       "      <td>146248.0940</td>\n",
       "    </tr>\n",
       "    <tr>\n",
       "      <th>15</th>\n",
       "      <td>Technology</td>\n",
       "      <td>Machines</td>\n",
       "      <td>189238.6310</td>\n",
       "    </tr>\n",
       "    <tr>\n",
       "      <th>16</th>\n",
       "      <td>Technology</td>\n",
       "      <td>Phones</td>\n",
       "      <td>327782.4480</td>\n",
       "    </tr>\n",
       "  </tbody>\n",
       "</table>\n",
       "</div>"
      ]
     },
     "execution_count": 279,
     "metadata": {},
     "output_type": "execute_result"
    }
   ],
   "execution_count": 279
  },
  {
   "metadata": {
    "ExecuteTime": {
     "end_time": "2024-12-11T11:18:32.616375Z",
     "start_time": "2024-12-11T11:18:32.574526Z"
    }
   },
   "cell_type": "code",
   "source": [
    "fig = px.sunburst(df_summary, path = ['Category', 'Sub-Category'], values = 'Sales')\n",
    "fig.show()"
   ],
   "id": "74a1a5ec46c44f46",
   "outputs": [
    {
     "data": {
      "application/vnd.plotly.v1+json": {
       "data": [
        {
         "branchvalues": "total",
         "domain": {
          "x": [
           0.0,
           1.0
          ],
          "y": [
           0.0,
           1.0
          ]
         },
         "hovertemplate": "labels=%{label}<br>Sales=%{value}<br>parent=%{parent}<br>id=%{id}<extra></extra>",
         "ids": [
          "Technology/Accessories",
          "Office Supplies/Appliances",
          "Office Supplies/Art",
          "Office Supplies/Binders",
          "Furniture/Bookcases",
          "Furniture/Chairs",
          "Technology/Copiers",
          "Office Supplies/Envelopes",
          "Office Supplies/Fasteners",
          "Furniture/Furnishings",
          "Office Supplies/Labels",
          "Technology/Machines",
          "Office Supplies/Paper",
          "Technology/Phones",
          "Office Supplies/Storage",
          "Office Supplies/Supplies",
          "Furniture/Tables",
          "Furniture",
          "Office Supplies",
          "Technology"
         ],
         "labels": [
          "Accessories",
          "Appliances",
          "Art",
          "Binders",
          "Bookcases",
          "Chairs",
          "Copiers",
          "Envelopes",
          "Fasteners",
          "Furnishings",
          "Labels",
          "Machines",
          "Paper",
          "Phones",
          "Storage",
          "Supplies",
          "Tables",
          "Furniture",
          "Office Supplies",
          "Technology"
         ],
         "name": "",
         "parents": [
          "Technology",
          "Office Supplies",
          "Office Supplies",
          "Office Supplies",
          "Furniture",
          "Furniture",
          "Technology",
          "Office Supplies",
          "Office Supplies",
          "Furniture",
          "Office Supplies",
          "Technology",
          "Office Supplies",
          "Technology",
          "Office Supplies",
          "Office Supplies",
          "Furniture",
          "",
          "",
          ""
         ],
         "values": [
          164186.7,
          104618.403,
          26705.41,
          200028.785,
          113813.1987,
          322822.73099999997,
          146248.094,
          16128.046,
          3001.96,
          89212.018,
          12347.726,
          189238.631,
          76828.304,
          327782.448,
          219343.392,
          46420.308,
          202810.628,
          728658.5756999999,
          705422.334,
          827455.873
         ],
         "type": "sunburst"
        }
       ],
       "layout": {
        "template": {
         "data": {
          "histogram2dcontour": [
           {
            "type": "histogram2dcontour",
            "colorbar": {
             "outlinewidth": 0,
             "ticks": ""
            },
            "colorscale": [
             [
              0.0,
              "#0d0887"
             ],
             [
              0.1111111111111111,
              "#46039f"
             ],
             [
              0.2222222222222222,
              "#7201a8"
             ],
             [
              0.3333333333333333,
              "#9c179e"
             ],
             [
              0.4444444444444444,
              "#bd3786"
             ],
             [
              0.5555555555555556,
              "#d8576b"
             ],
             [
              0.6666666666666666,
              "#ed7953"
             ],
             [
              0.7777777777777778,
              "#fb9f3a"
             ],
             [
              0.8888888888888888,
              "#fdca26"
             ],
             [
              1.0,
              "#f0f921"
             ]
            ]
           }
          ],
          "choropleth": [
           {
            "type": "choropleth",
            "colorbar": {
             "outlinewidth": 0,
             "ticks": ""
            }
           }
          ],
          "histogram2d": [
           {
            "type": "histogram2d",
            "colorbar": {
             "outlinewidth": 0,
             "ticks": ""
            },
            "colorscale": [
             [
              0.0,
              "#0d0887"
             ],
             [
              0.1111111111111111,
              "#46039f"
             ],
             [
              0.2222222222222222,
              "#7201a8"
             ],
             [
              0.3333333333333333,
              "#9c179e"
             ],
             [
              0.4444444444444444,
              "#bd3786"
             ],
             [
              0.5555555555555556,
              "#d8576b"
             ],
             [
              0.6666666666666666,
              "#ed7953"
             ],
             [
              0.7777777777777778,
              "#fb9f3a"
             ],
             [
              0.8888888888888888,
              "#fdca26"
             ],
             [
              1.0,
              "#f0f921"
             ]
            ]
           }
          ],
          "heatmap": [
           {
            "type": "heatmap",
            "colorbar": {
             "outlinewidth": 0,
             "ticks": ""
            },
            "colorscale": [
             [
              0.0,
              "#0d0887"
             ],
             [
              0.1111111111111111,
              "#46039f"
             ],
             [
              0.2222222222222222,
              "#7201a8"
             ],
             [
              0.3333333333333333,
              "#9c179e"
             ],
             [
              0.4444444444444444,
              "#bd3786"
             ],
             [
              0.5555555555555556,
              "#d8576b"
             ],
             [
              0.6666666666666666,
              "#ed7953"
             ],
             [
              0.7777777777777778,
              "#fb9f3a"
             ],
             [
              0.8888888888888888,
              "#fdca26"
             ],
             [
              1.0,
              "#f0f921"
             ]
            ]
           }
          ],
          "heatmapgl": [
           {
            "type": "heatmapgl",
            "colorbar": {
             "outlinewidth": 0,
             "ticks": ""
            },
            "colorscale": [
             [
              0.0,
              "#0d0887"
             ],
             [
              0.1111111111111111,
              "#46039f"
             ],
             [
              0.2222222222222222,
              "#7201a8"
             ],
             [
              0.3333333333333333,
              "#9c179e"
             ],
             [
              0.4444444444444444,
              "#bd3786"
             ],
             [
              0.5555555555555556,
              "#d8576b"
             ],
             [
              0.6666666666666666,
              "#ed7953"
             ],
             [
              0.7777777777777778,
              "#fb9f3a"
             ],
             [
              0.8888888888888888,
              "#fdca26"
             ],
             [
              1.0,
              "#f0f921"
             ]
            ]
           }
          ],
          "contourcarpet": [
           {
            "type": "contourcarpet",
            "colorbar": {
             "outlinewidth": 0,
             "ticks": ""
            }
           }
          ],
          "contour": [
           {
            "type": "contour",
            "colorbar": {
             "outlinewidth": 0,
             "ticks": ""
            },
            "colorscale": [
             [
              0.0,
              "#0d0887"
             ],
             [
              0.1111111111111111,
              "#46039f"
             ],
             [
              0.2222222222222222,
              "#7201a8"
             ],
             [
              0.3333333333333333,
              "#9c179e"
             ],
             [
              0.4444444444444444,
              "#bd3786"
             ],
             [
              0.5555555555555556,
              "#d8576b"
             ],
             [
              0.6666666666666666,
              "#ed7953"
             ],
             [
              0.7777777777777778,
              "#fb9f3a"
             ],
             [
              0.8888888888888888,
              "#fdca26"
             ],
             [
              1.0,
              "#f0f921"
             ]
            ]
           }
          ],
          "surface": [
           {
            "type": "surface",
            "colorbar": {
             "outlinewidth": 0,
             "ticks": ""
            },
            "colorscale": [
             [
              0.0,
              "#0d0887"
             ],
             [
              0.1111111111111111,
              "#46039f"
             ],
             [
              0.2222222222222222,
              "#7201a8"
             ],
             [
              0.3333333333333333,
              "#9c179e"
             ],
             [
              0.4444444444444444,
              "#bd3786"
             ],
             [
              0.5555555555555556,
              "#d8576b"
             ],
             [
              0.6666666666666666,
              "#ed7953"
             ],
             [
              0.7777777777777778,
              "#fb9f3a"
             ],
             [
              0.8888888888888888,
              "#fdca26"
             ],
             [
              1.0,
              "#f0f921"
             ]
            ]
           }
          ],
          "mesh3d": [
           {
            "type": "mesh3d",
            "colorbar": {
             "outlinewidth": 0,
             "ticks": ""
            }
           }
          ],
          "scatter": [
           {
            "fillpattern": {
             "fillmode": "overlay",
             "size": 10,
             "solidity": 0.2
            },
            "type": "scatter"
           }
          ],
          "parcoords": [
           {
            "type": "parcoords",
            "line": {
             "colorbar": {
              "outlinewidth": 0,
              "ticks": ""
             }
            }
           }
          ],
          "scatterpolargl": [
           {
            "type": "scatterpolargl",
            "marker": {
             "colorbar": {
              "outlinewidth": 0,
              "ticks": ""
             }
            }
           }
          ],
          "bar": [
           {
            "error_x": {
             "color": "#2a3f5f"
            },
            "error_y": {
             "color": "#2a3f5f"
            },
            "marker": {
             "line": {
              "color": "#E5ECF6",
              "width": 0.5
             },
             "pattern": {
              "fillmode": "overlay",
              "size": 10,
              "solidity": 0.2
             }
            },
            "type": "bar"
           }
          ],
          "scattergeo": [
           {
            "type": "scattergeo",
            "marker": {
             "colorbar": {
              "outlinewidth": 0,
              "ticks": ""
             }
            }
           }
          ],
          "scatterpolar": [
           {
            "type": "scatterpolar",
            "marker": {
             "colorbar": {
              "outlinewidth": 0,
              "ticks": ""
             }
            }
           }
          ],
          "histogram": [
           {
            "marker": {
             "pattern": {
              "fillmode": "overlay",
              "size": 10,
              "solidity": 0.2
             }
            },
            "type": "histogram"
           }
          ],
          "scattergl": [
           {
            "type": "scattergl",
            "marker": {
             "colorbar": {
              "outlinewidth": 0,
              "ticks": ""
             }
            }
           }
          ],
          "scatter3d": [
           {
            "type": "scatter3d",
            "line": {
             "colorbar": {
              "outlinewidth": 0,
              "ticks": ""
             }
            },
            "marker": {
             "colorbar": {
              "outlinewidth": 0,
              "ticks": ""
             }
            }
           }
          ],
          "scattermapbox": [
           {
            "type": "scattermapbox",
            "marker": {
             "colorbar": {
              "outlinewidth": 0,
              "ticks": ""
             }
            }
           }
          ],
          "scatterternary": [
           {
            "type": "scatterternary",
            "marker": {
             "colorbar": {
              "outlinewidth": 0,
              "ticks": ""
             }
            }
           }
          ],
          "scattercarpet": [
           {
            "type": "scattercarpet",
            "marker": {
             "colorbar": {
              "outlinewidth": 0,
              "ticks": ""
             }
            }
           }
          ],
          "carpet": [
           {
            "aaxis": {
             "endlinecolor": "#2a3f5f",
             "gridcolor": "white",
             "linecolor": "white",
             "minorgridcolor": "white",
             "startlinecolor": "#2a3f5f"
            },
            "baxis": {
             "endlinecolor": "#2a3f5f",
             "gridcolor": "white",
             "linecolor": "white",
             "minorgridcolor": "white",
             "startlinecolor": "#2a3f5f"
            },
            "type": "carpet"
           }
          ],
          "table": [
           {
            "cells": {
             "fill": {
              "color": "#EBF0F8"
             },
             "line": {
              "color": "white"
             }
            },
            "header": {
             "fill": {
              "color": "#C8D4E3"
             },
             "line": {
              "color": "white"
             }
            },
            "type": "table"
           }
          ],
          "barpolar": [
           {
            "marker": {
             "line": {
              "color": "#E5ECF6",
              "width": 0.5
             },
             "pattern": {
              "fillmode": "overlay",
              "size": 10,
              "solidity": 0.2
             }
            },
            "type": "barpolar"
           }
          ],
          "pie": [
           {
            "automargin": true,
            "type": "pie"
           }
          ]
         },
         "layout": {
          "autotypenumbers": "strict",
          "colorway": [
           "#636efa",
           "#EF553B",
           "#00cc96",
           "#ab63fa",
           "#FFA15A",
           "#19d3f3",
           "#FF6692",
           "#B6E880",
           "#FF97FF",
           "#FECB52"
          ],
          "font": {
           "color": "#2a3f5f"
          },
          "hovermode": "closest",
          "hoverlabel": {
           "align": "left"
          },
          "paper_bgcolor": "white",
          "plot_bgcolor": "#E5ECF6",
          "polar": {
           "bgcolor": "#E5ECF6",
           "angularaxis": {
            "gridcolor": "white",
            "linecolor": "white",
            "ticks": ""
           },
           "radialaxis": {
            "gridcolor": "white",
            "linecolor": "white",
            "ticks": ""
           }
          },
          "ternary": {
           "bgcolor": "#E5ECF6",
           "aaxis": {
            "gridcolor": "white",
            "linecolor": "white",
            "ticks": ""
           },
           "baxis": {
            "gridcolor": "white",
            "linecolor": "white",
            "ticks": ""
           },
           "caxis": {
            "gridcolor": "white",
            "linecolor": "white",
            "ticks": ""
           }
          },
          "coloraxis": {
           "colorbar": {
            "outlinewidth": 0,
            "ticks": ""
           }
          },
          "colorscale": {
           "sequential": [
            [
             0.0,
             "#0d0887"
            ],
            [
             0.1111111111111111,
             "#46039f"
            ],
            [
             0.2222222222222222,
             "#7201a8"
            ],
            [
             0.3333333333333333,
             "#9c179e"
            ],
            [
             0.4444444444444444,
             "#bd3786"
            ],
            [
             0.5555555555555556,
             "#d8576b"
            ],
            [
             0.6666666666666666,
             "#ed7953"
            ],
            [
             0.7777777777777778,
             "#fb9f3a"
            ],
            [
             0.8888888888888888,
             "#fdca26"
            ],
            [
             1.0,
             "#f0f921"
            ]
           ],
           "sequentialminus": [
            [
             0.0,
             "#0d0887"
            ],
            [
             0.1111111111111111,
             "#46039f"
            ],
            [
             0.2222222222222222,
             "#7201a8"
            ],
            [
             0.3333333333333333,
             "#9c179e"
            ],
            [
             0.4444444444444444,
             "#bd3786"
            ],
            [
             0.5555555555555556,
             "#d8576b"
            ],
            [
             0.6666666666666666,
             "#ed7953"
            ],
            [
             0.7777777777777778,
             "#fb9f3a"
            ],
            [
             0.8888888888888888,
             "#fdca26"
            ],
            [
             1.0,
             "#f0f921"
            ]
           ],
           "diverging": [
            [
             0,
             "#8e0152"
            ],
            [
             0.1,
             "#c51b7d"
            ],
            [
             0.2,
             "#de77ae"
            ],
            [
             0.3,
             "#f1b6da"
            ],
            [
             0.4,
             "#fde0ef"
            ],
            [
             0.5,
             "#f7f7f7"
            ],
            [
             0.6,
             "#e6f5d0"
            ],
            [
             0.7,
             "#b8e186"
            ],
            [
             0.8,
             "#7fbc41"
            ],
            [
             0.9,
             "#4d9221"
            ],
            [
             1,
             "#276419"
            ]
           ]
          },
          "xaxis": {
           "gridcolor": "white",
           "linecolor": "white",
           "ticks": "",
           "title": {
            "standoff": 15
           },
           "zerolinecolor": "white",
           "automargin": true,
           "zerolinewidth": 2
          },
          "yaxis": {
           "gridcolor": "white",
           "linecolor": "white",
           "ticks": "",
           "title": {
            "standoff": 15
           },
           "zerolinecolor": "white",
           "automargin": true,
           "zerolinewidth": 2
          },
          "scene": {
           "xaxis": {
            "backgroundcolor": "#E5ECF6",
            "gridcolor": "white",
            "linecolor": "white",
            "showbackground": true,
            "ticks": "",
            "zerolinecolor": "white",
            "gridwidth": 2
           },
           "yaxis": {
            "backgroundcolor": "#E5ECF6",
            "gridcolor": "white",
            "linecolor": "white",
            "showbackground": true,
            "ticks": "",
            "zerolinecolor": "white",
            "gridwidth": 2
           },
           "zaxis": {
            "backgroundcolor": "#E5ECF6",
            "gridcolor": "white",
            "linecolor": "white",
            "showbackground": true,
            "ticks": "",
            "zerolinecolor": "white",
            "gridwidth": 2
           }
          },
          "shapedefaults": {
           "line": {
            "color": "#2a3f5f"
           }
          },
          "annotationdefaults": {
           "arrowcolor": "#2a3f5f",
           "arrowhead": 0,
           "arrowwidth": 1
          },
          "geo": {
           "bgcolor": "white",
           "landcolor": "#E5ECF6",
           "subunitcolor": "white",
           "showland": true,
           "showlakes": true,
           "lakecolor": "white"
          },
          "title": {
           "x": 0.05
          },
          "mapbox": {
           "style": "light"
          }
         }
        },
        "legend": {
         "tracegroupgap": 0
        },
        "margin": {
         "t": 60
        }
       },
       "config": {
        "plotlyServerURL": "https://plot.ly"
       }
      },
      "text/html": [
       "<div>                            <div id=\"b25e4f0e-d8d1-4086-8a25-df4e5e61c3ed\" class=\"plotly-graph-div\" style=\"height:525px; width:100%;\"></div>            <script type=\"text/javascript\">                require([\"plotly\"], function(Plotly) {                    window.PLOTLYENV=window.PLOTLYENV || {};                                    if (document.getElementById(\"b25e4f0e-d8d1-4086-8a25-df4e5e61c3ed\")) {                    Plotly.newPlot(                        \"b25e4f0e-d8d1-4086-8a25-df4e5e61c3ed\",                        [{\"branchvalues\":\"total\",\"domain\":{\"x\":[0.0,1.0],\"y\":[0.0,1.0]},\"hovertemplate\":\"labels=%{label}\\u003cbr\\u003eSales=%{value}\\u003cbr\\u003eparent=%{parent}\\u003cbr\\u003eid=%{id}\\u003cextra\\u003e\\u003c\\u002fextra\\u003e\",\"ids\":[\"Technology\\u002fAccessories\",\"Office Supplies\\u002fAppliances\",\"Office Supplies\\u002fArt\",\"Office Supplies\\u002fBinders\",\"Furniture\\u002fBookcases\",\"Furniture\\u002fChairs\",\"Technology\\u002fCopiers\",\"Office Supplies\\u002fEnvelopes\",\"Office Supplies\\u002fFasteners\",\"Furniture\\u002fFurnishings\",\"Office Supplies\\u002fLabels\",\"Technology\\u002fMachines\",\"Office Supplies\\u002fPaper\",\"Technology\\u002fPhones\",\"Office Supplies\\u002fStorage\",\"Office Supplies\\u002fSupplies\",\"Furniture\\u002fTables\",\"Furniture\",\"Office Supplies\",\"Technology\"],\"labels\":[\"Accessories\",\"Appliances\",\"Art\",\"Binders\",\"Bookcases\",\"Chairs\",\"Copiers\",\"Envelopes\",\"Fasteners\",\"Furnishings\",\"Labels\",\"Machines\",\"Paper\",\"Phones\",\"Storage\",\"Supplies\",\"Tables\",\"Furniture\",\"Office Supplies\",\"Technology\"],\"name\":\"\",\"parents\":[\"Technology\",\"Office Supplies\",\"Office Supplies\",\"Office Supplies\",\"Furniture\",\"Furniture\",\"Technology\",\"Office Supplies\",\"Office Supplies\",\"Furniture\",\"Office Supplies\",\"Technology\",\"Office Supplies\",\"Technology\",\"Office Supplies\",\"Office Supplies\",\"Furniture\",\"\",\"\",\"\"],\"values\":[164186.7,104618.403,26705.41,200028.785,113813.1987,322822.73099999997,146248.094,16128.046,3001.96,89212.018,12347.726,189238.631,76828.304,327782.448,219343.392,46420.308,202810.628,728658.5756999999,705422.334,827455.873],\"type\":\"sunburst\"}],                        {\"template\":{\"data\":{\"histogram2dcontour\":[{\"type\":\"histogram2dcontour\",\"colorbar\":{\"outlinewidth\":0,\"ticks\":\"\"},\"colorscale\":[[0.0,\"#0d0887\"],[0.1111111111111111,\"#46039f\"],[0.2222222222222222,\"#7201a8\"],[0.3333333333333333,\"#9c179e\"],[0.4444444444444444,\"#bd3786\"],[0.5555555555555556,\"#d8576b\"],[0.6666666666666666,\"#ed7953\"],[0.7777777777777778,\"#fb9f3a\"],[0.8888888888888888,\"#fdca26\"],[1.0,\"#f0f921\"]]}],\"choropleth\":[{\"type\":\"choropleth\",\"colorbar\":{\"outlinewidth\":0,\"ticks\":\"\"}}],\"histogram2d\":[{\"type\":\"histogram2d\",\"colorbar\":{\"outlinewidth\":0,\"ticks\":\"\"},\"colorscale\":[[0.0,\"#0d0887\"],[0.1111111111111111,\"#46039f\"],[0.2222222222222222,\"#7201a8\"],[0.3333333333333333,\"#9c179e\"],[0.4444444444444444,\"#bd3786\"],[0.5555555555555556,\"#d8576b\"],[0.6666666666666666,\"#ed7953\"],[0.7777777777777778,\"#fb9f3a\"],[0.8888888888888888,\"#fdca26\"],[1.0,\"#f0f921\"]]}],\"heatmap\":[{\"type\":\"heatmap\",\"colorbar\":{\"outlinewidth\":0,\"ticks\":\"\"},\"colorscale\":[[0.0,\"#0d0887\"],[0.1111111111111111,\"#46039f\"],[0.2222222222222222,\"#7201a8\"],[0.3333333333333333,\"#9c179e\"],[0.4444444444444444,\"#bd3786\"],[0.5555555555555556,\"#d8576b\"],[0.6666666666666666,\"#ed7953\"],[0.7777777777777778,\"#fb9f3a\"],[0.8888888888888888,\"#fdca26\"],[1.0,\"#f0f921\"]]}],\"heatmapgl\":[{\"type\":\"heatmapgl\",\"colorbar\":{\"outlinewidth\":0,\"ticks\":\"\"},\"colorscale\":[[0.0,\"#0d0887\"],[0.1111111111111111,\"#46039f\"],[0.2222222222222222,\"#7201a8\"],[0.3333333333333333,\"#9c179e\"],[0.4444444444444444,\"#bd3786\"],[0.5555555555555556,\"#d8576b\"],[0.6666666666666666,\"#ed7953\"],[0.7777777777777778,\"#fb9f3a\"],[0.8888888888888888,\"#fdca26\"],[1.0,\"#f0f921\"]]}],\"contourcarpet\":[{\"type\":\"contourcarpet\",\"colorbar\":{\"outlinewidth\":0,\"ticks\":\"\"}}],\"contour\":[{\"type\":\"contour\",\"colorbar\":{\"outlinewidth\":0,\"ticks\":\"\"},\"colorscale\":[[0.0,\"#0d0887\"],[0.1111111111111111,\"#46039f\"],[0.2222222222222222,\"#7201a8\"],[0.3333333333333333,\"#9c179e\"],[0.4444444444444444,\"#bd3786\"],[0.5555555555555556,\"#d8576b\"],[0.6666666666666666,\"#ed7953\"],[0.7777777777777778,\"#fb9f3a\"],[0.8888888888888888,\"#fdca26\"],[1.0,\"#f0f921\"]]}],\"surface\":[{\"type\":\"surface\",\"colorbar\":{\"outlinewidth\":0,\"ticks\":\"\"},\"colorscale\":[[0.0,\"#0d0887\"],[0.1111111111111111,\"#46039f\"],[0.2222222222222222,\"#7201a8\"],[0.3333333333333333,\"#9c179e\"],[0.4444444444444444,\"#bd3786\"],[0.5555555555555556,\"#d8576b\"],[0.6666666666666666,\"#ed7953\"],[0.7777777777777778,\"#fb9f3a\"],[0.8888888888888888,\"#fdca26\"],[1.0,\"#f0f921\"]]}],\"mesh3d\":[{\"type\":\"mesh3d\",\"colorbar\":{\"outlinewidth\":0,\"ticks\":\"\"}}],\"scatter\":[{\"fillpattern\":{\"fillmode\":\"overlay\",\"size\":10,\"solidity\":0.2},\"type\":\"scatter\"}],\"parcoords\":[{\"type\":\"parcoords\",\"line\":{\"colorbar\":{\"outlinewidth\":0,\"ticks\":\"\"}}}],\"scatterpolargl\":[{\"type\":\"scatterpolargl\",\"marker\":{\"colorbar\":{\"outlinewidth\":0,\"ticks\":\"\"}}}],\"bar\":[{\"error_x\":{\"color\":\"#2a3f5f\"},\"error_y\":{\"color\":\"#2a3f5f\"},\"marker\":{\"line\":{\"color\":\"#E5ECF6\",\"width\":0.5},\"pattern\":{\"fillmode\":\"overlay\",\"size\":10,\"solidity\":0.2}},\"type\":\"bar\"}],\"scattergeo\":[{\"type\":\"scattergeo\",\"marker\":{\"colorbar\":{\"outlinewidth\":0,\"ticks\":\"\"}}}],\"scatterpolar\":[{\"type\":\"scatterpolar\",\"marker\":{\"colorbar\":{\"outlinewidth\":0,\"ticks\":\"\"}}}],\"histogram\":[{\"marker\":{\"pattern\":{\"fillmode\":\"overlay\",\"size\":10,\"solidity\":0.2}},\"type\":\"histogram\"}],\"scattergl\":[{\"type\":\"scattergl\",\"marker\":{\"colorbar\":{\"outlinewidth\":0,\"ticks\":\"\"}}}],\"scatter3d\":[{\"type\":\"scatter3d\",\"line\":{\"colorbar\":{\"outlinewidth\":0,\"ticks\":\"\"}},\"marker\":{\"colorbar\":{\"outlinewidth\":0,\"ticks\":\"\"}}}],\"scattermapbox\":[{\"type\":\"scattermapbox\",\"marker\":{\"colorbar\":{\"outlinewidth\":0,\"ticks\":\"\"}}}],\"scatterternary\":[{\"type\":\"scatterternary\",\"marker\":{\"colorbar\":{\"outlinewidth\":0,\"ticks\":\"\"}}}],\"scattercarpet\":[{\"type\":\"scattercarpet\",\"marker\":{\"colorbar\":{\"outlinewidth\":0,\"ticks\":\"\"}}}],\"carpet\":[{\"aaxis\":{\"endlinecolor\":\"#2a3f5f\",\"gridcolor\":\"white\",\"linecolor\":\"white\",\"minorgridcolor\":\"white\",\"startlinecolor\":\"#2a3f5f\"},\"baxis\":{\"endlinecolor\":\"#2a3f5f\",\"gridcolor\":\"white\",\"linecolor\":\"white\",\"minorgridcolor\":\"white\",\"startlinecolor\":\"#2a3f5f\"},\"type\":\"carpet\"}],\"table\":[{\"cells\":{\"fill\":{\"color\":\"#EBF0F8\"},\"line\":{\"color\":\"white\"}},\"header\":{\"fill\":{\"color\":\"#C8D4E3\"},\"line\":{\"color\":\"white\"}},\"type\":\"table\"}],\"barpolar\":[{\"marker\":{\"line\":{\"color\":\"#E5ECF6\",\"width\":0.5},\"pattern\":{\"fillmode\":\"overlay\",\"size\":10,\"solidity\":0.2}},\"type\":\"barpolar\"}],\"pie\":[{\"automargin\":true,\"type\":\"pie\"}]},\"layout\":{\"autotypenumbers\":\"strict\",\"colorway\":[\"#636efa\",\"#EF553B\",\"#00cc96\",\"#ab63fa\",\"#FFA15A\",\"#19d3f3\",\"#FF6692\",\"#B6E880\",\"#FF97FF\",\"#FECB52\"],\"font\":{\"color\":\"#2a3f5f\"},\"hovermode\":\"closest\",\"hoverlabel\":{\"align\":\"left\"},\"paper_bgcolor\":\"white\",\"plot_bgcolor\":\"#E5ECF6\",\"polar\":{\"bgcolor\":\"#E5ECF6\",\"angularaxis\":{\"gridcolor\":\"white\",\"linecolor\":\"white\",\"ticks\":\"\"},\"radialaxis\":{\"gridcolor\":\"white\",\"linecolor\":\"white\",\"ticks\":\"\"}},\"ternary\":{\"bgcolor\":\"#E5ECF6\",\"aaxis\":{\"gridcolor\":\"white\",\"linecolor\":\"white\",\"ticks\":\"\"},\"baxis\":{\"gridcolor\":\"white\",\"linecolor\":\"white\",\"ticks\":\"\"},\"caxis\":{\"gridcolor\":\"white\",\"linecolor\":\"white\",\"ticks\":\"\"}},\"coloraxis\":{\"colorbar\":{\"outlinewidth\":0,\"ticks\":\"\"}},\"colorscale\":{\"sequential\":[[0.0,\"#0d0887\"],[0.1111111111111111,\"#46039f\"],[0.2222222222222222,\"#7201a8\"],[0.3333333333333333,\"#9c179e\"],[0.4444444444444444,\"#bd3786\"],[0.5555555555555556,\"#d8576b\"],[0.6666666666666666,\"#ed7953\"],[0.7777777777777778,\"#fb9f3a\"],[0.8888888888888888,\"#fdca26\"],[1.0,\"#f0f921\"]],\"sequentialminus\":[[0.0,\"#0d0887\"],[0.1111111111111111,\"#46039f\"],[0.2222222222222222,\"#7201a8\"],[0.3333333333333333,\"#9c179e\"],[0.4444444444444444,\"#bd3786\"],[0.5555555555555556,\"#d8576b\"],[0.6666666666666666,\"#ed7953\"],[0.7777777777777778,\"#fb9f3a\"],[0.8888888888888888,\"#fdca26\"],[1.0,\"#f0f921\"]],\"diverging\":[[0,\"#8e0152\"],[0.1,\"#c51b7d\"],[0.2,\"#de77ae\"],[0.3,\"#f1b6da\"],[0.4,\"#fde0ef\"],[0.5,\"#f7f7f7\"],[0.6,\"#e6f5d0\"],[0.7,\"#b8e186\"],[0.8,\"#7fbc41\"],[0.9,\"#4d9221\"],[1,\"#276419\"]]},\"xaxis\":{\"gridcolor\":\"white\",\"linecolor\":\"white\",\"ticks\":\"\",\"title\":{\"standoff\":15},\"zerolinecolor\":\"white\",\"automargin\":true,\"zerolinewidth\":2},\"yaxis\":{\"gridcolor\":\"white\",\"linecolor\":\"white\",\"ticks\":\"\",\"title\":{\"standoff\":15},\"zerolinecolor\":\"white\",\"automargin\":true,\"zerolinewidth\":2},\"scene\":{\"xaxis\":{\"backgroundcolor\":\"#E5ECF6\",\"gridcolor\":\"white\",\"linecolor\":\"white\",\"showbackground\":true,\"ticks\":\"\",\"zerolinecolor\":\"white\",\"gridwidth\":2},\"yaxis\":{\"backgroundcolor\":\"#E5ECF6\",\"gridcolor\":\"white\",\"linecolor\":\"white\",\"showbackground\":true,\"ticks\":\"\",\"zerolinecolor\":\"white\",\"gridwidth\":2},\"zaxis\":{\"backgroundcolor\":\"#E5ECF6\",\"gridcolor\":\"white\",\"linecolor\":\"white\",\"showbackground\":true,\"ticks\":\"\",\"zerolinecolor\":\"white\",\"gridwidth\":2}},\"shapedefaults\":{\"line\":{\"color\":\"#2a3f5f\"}},\"annotationdefaults\":{\"arrowcolor\":\"#2a3f5f\",\"arrowhead\":0,\"arrowwidth\":1},\"geo\":{\"bgcolor\":\"white\",\"landcolor\":\"#E5ECF6\",\"subunitcolor\":\"white\",\"showland\":true,\"showlakes\":true,\"lakecolor\":\"white\"},\"title\":{\"x\":0.05},\"mapbox\":{\"style\":\"light\"}}},\"legend\":{\"tracegroupgap\":0},\"margin\":{\"t\":60}},                        {\"responsive\": true}                    ).then(function(){\n",
       "                            \n",
       "var gd = document.getElementById('b25e4f0e-d8d1-4086-8a25-df4e5e61c3ed');\n",
       "var x = new MutationObserver(function (mutations, observer) {{\n",
       "        var display = window.getComputedStyle(gd).display;\n",
       "        if (!display || display === 'none') {{\n",
       "            console.log([gd, 'removed!']);\n",
       "            Plotly.purge(gd);\n",
       "            observer.disconnect();\n",
       "        }}\n",
       "}});\n",
       "\n",
       "// Listen for the removal of the full notebook cells\n",
       "var notebookContainer = gd.closest('#notebook-container');\n",
       "if (notebookContainer) {{\n",
       "    x.observe(notebookContainer, {childList: true});\n",
       "}}\n",
       "\n",
       "// Listen for the clearing of the current output cell\n",
       "var outputEl = gd.closest('.output');\n",
       "if (outputEl) {{\n",
       "    x.observe(outputEl, {childList: true});\n",
       "}}\n",
       "\n",
       "                        })                };                });            </script>        </div>"
      ]
     },
     "metadata": {},
     "output_type": "display_data"
    }
   ],
   "execution_count": 280
  },
  {
   "metadata": {
    "ExecuteTime": {
     "end_time": "2024-12-11T11:18:32.931718Z",
     "start_time": "2024-12-11T11:18:32.855958Z"
    }
   },
   "cell_type": "code",
   "source": [
    "df_summary = df.groupby(['Category','Ship Mode','Sub-Category'])['Sales'].sum().reset_index()\n",
    "fig = px.treemap(df_summary, path = ['Category', 'Ship Mode','Sub-Category'], values = 'Sales')\n",
    "fig.show()"
   ],
   "id": "4dd8f95f79c0cf34",
   "outputs": [
    {
     "data": {
      "application/vnd.plotly.v1+json": {
       "data": [
        {
         "branchvalues": "total",
         "domain": {
          "x": [
           0.0,
           1.0
          ],
          "y": [
           0.0,
           1.0
          ]
         },
         "hovertemplate": "labels=%{label}<br>Sales=%{value}<br>parent=%{parent}<br>id=%{id}<extra></extra>",
         "ids": [
          "Technology/First Class/Accessories",
          "Technology/Same Day/Accessories",
          "Technology/Second Class/Accessories",
          "Technology/Standard Class/Accessories",
          "Office Supplies/First Class/Appliances",
          "Office Supplies/Same Day/Appliances",
          "Office Supplies/Second Class/Appliances",
          "Office Supplies/Standard Class/Appliances",
          "Office Supplies/First Class/Art",
          "Office Supplies/Same Day/Art",
          "Office Supplies/Second Class/Art",
          "Office Supplies/Standard Class/Art",
          "Office Supplies/First Class/Binders",
          "Office Supplies/Same Day/Binders",
          "Office Supplies/Second Class/Binders",
          "Office Supplies/Standard Class/Binders",
          "Furniture/First Class/Bookcases",
          "Furniture/Same Day/Bookcases",
          "Furniture/Second Class/Bookcases",
          "Furniture/Standard Class/Bookcases",
          "Furniture/First Class/Chairs",
          "Furniture/Same Day/Chairs",
          "Furniture/Second Class/Chairs",
          "Furniture/Standard Class/Chairs",
          "Technology/First Class/Copiers",
          "Technology/Same Day/Copiers",
          "Technology/Second Class/Copiers",
          "Technology/Standard Class/Copiers",
          "Office Supplies/First Class/Envelopes",
          "Office Supplies/Same Day/Envelopes",
          "Office Supplies/Second Class/Envelopes",
          "Office Supplies/Standard Class/Envelopes",
          "Office Supplies/First Class/Fasteners",
          "Office Supplies/Same Day/Fasteners",
          "Office Supplies/Second Class/Fasteners",
          "Office Supplies/Standard Class/Fasteners",
          "Furniture/First Class/Furnishings",
          "Furniture/Same Day/Furnishings",
          "Furniture/Second Class/Furnishings",
          "Furniture/Standard Class/Furnishings",
          "Office Supplies/First Class/Labels",
          "Office Supplies/Same Day/Labels",
          "Office Supplies/Second Class/Labels",
          "Office Supplies/Standard Class/Labels",
          "Technology/First Class/Machines",
          "Technology/Same Day/Machines",
          "Technology/Second Class/Machines",
          "Technology/Standard Class/Machines",
          "Office Supplies/First Class/Paper",
          "Office Supplies/Same Day/Paper",
          "Office Supplies/Second Class/Paper",
          "Office Supplies/Standard Class/Paper",
          "Technology/First Class/Phones",
          "Technology/Same Day/Phones",
          "Technology/Second Class/Phones",
          "Technology/Standard Class/Phones",
          "Office Supplies/First Class/Storage",
          "Office Supplies/Same Day/Storage",
          "Office Supplies/Second Class/Storage",
          "Office Supplies/Standard Class/Storage",
          "Office Supplies/First Class/Supplies",
          "Office Supplies/Same Day/Supplies",
          "Office Supplies/Second Class/Supplies",
          "Office Supplies/Standard Class/Supplies",
          "Furniture/First Class/Tables",
          "Furniture/Same Day/Tables",
          "Furniture/Second Class/Tables",
          "Furniture/Standard Class/Tables",
          "Furniture/First Class",
          "Office Supplies/First Class",
          "Technology/First Class",
          "Furniture/Same Day",
          "Office Supplies/Same Day",
          "Technology/Same Day",
          "Furniture/Second Class",
          "Office Supplies/Second Class",
          "Technology/Second Class",
          "Furniture/Standard Class",
          "Office Supplies/Standard Class",
          "Technology/Standard Class",
          "Furniture",
          "Office Supplies",
          "Technology"
         ],
         "labels": [
          "Accessories",
          "Accessories",
          "Accessories",
          "Accessories",
          "Appliances",
          "Appliances",
          "Appliances",
          "Appliances",
          "Art",
          "Art",
          "Art",
          "Art",
          "Binders",
          "Binders",
          "Binders",
          "Binders",
          "Bookcases",
          "Bookcases",
          "Bookcases",
          "Bookcases",
          "Chairs",
          "Chairs",
          "Chairs",
          "Chairs",
          "Copiers",
          "Copiers",
          "Copiers",
          "Copiers",
          "Envelopes",
          "Envelopes",
          "Envelopes",
          "Envelopes",
          "Fasteners",
          "Fasteners",
          "Fasteners",
          "Fasteners",
          "Furnishings",
          "Furnishings",
          "Furnishings",
          "Furnishings",
          "Labels",
          "Labels",
          "Labels",
          "Labels",
          "Machines",
          "Machines",
          "Machines",
          "Machines",
          "Paper",
          "Paper",
          "Paper",
          "Paper",
          "Phones",
          "Phones",
          "Phones",
          "Phones",
          "Storage",
          "Storage",
          "Storage",
          "Storage",
          "Supplies",
          "Supplies",
          "Supplies",
          "Supplies",
          "Tables",
          "Tables",
          "Tables",
          "Tables",
          "First Class",
          "First Class",
          "First Class",
          "Same Day",
          "Same Day",
          "Same Day",
          "Second Class",
          "Second Class",
          "Second Class",
          "Standard Class",
          "Standard Class",
          "Standard Class",
          "Furniture",
          "Office Supplies",
          "Technology"
         ],
         "name": "",
         "parents": [
          "Technology/First Class",
          "Technology/Same Day",
          "Technology/Second Class",
          "Technology/Standard Class",
          "Office Supplies/First Class",
          "Office Supplies/Same Day",
          "Office Supplies/Second Class",
          "Office Supplies/Standard Class",
          "Office Supplies/First Class",
          "Office Supplies/Same Day",
          "Office Supplies/Second Class",
          "Office Supplies/Standard Class",
          "Office Supplies/First Class",
          "Office Supplies/Same Day",
          "Office Supplies/Second Class",
          "Office Supplies/Standard Class",
          "Furniture/First Class",
          "Furniture/Same Day",
          "Furniture/Second Class",
          "Furniture/Standard Class",
          "Furniture/First Class",
          "Furniture/Same Day",
          "Furniture/Second Class",
          "Furniture/Standard Class",
          "Technology/First Class",
          "Technology/Same Day",
          "Technology/Second Class",
          "Technology/Standard Class",
          "Office Supplies/First Class",
          "Office Supplies/Same Day",
          "Office Supplies/Second Class",
          "Office Supplies/Standard Class",
          "Office Supplies/First Class",
          "Office Supplies/Same Day",
          "Office Supplies/Second Class",
          "Office Supplies/Standard Class",
          "Furniture/First Class",
          "Furniture/Same Day",
          "Furniture/Second Class",
          "Furniture/Standard Class",
          "Office Supplies/First Class",
          "Office Supplies/Same Day",
          "Office Supplies/Second Class",
          "Office Supplies/Standard Class",
          "Technology/First Class",
          "Technology/Same Day",
          "Technology/Second Class",
          "Technology/Standard Class",
          "Office Supplies/First Class",
          "Office Supplies/Same Day",
          "Office Supplies/Second Class",
          "Office Supplies/Standard Class",
          "Technology/First Class",
          "Technology/Same Day",
          "Technology/Second Class",
          "Technology/Standard Class",
          "Office Supplies/First Class",
          "Office Supplies/Same Day",
          "Office Supplies/Second Class",
          "Office Supplies/Standard Class",
          "Office Supplies/First Class",
          "Office Supplies/Same Day",
          "Office Supplies/Second Class",
          "Office Supplies/Standard Class",
          "Furniture/First Class",
          "Furniture/Same Day",
          "Furniture/Second Class",
          "Furniture/Standard Class",
          "Furniture",
          "Office Supplies",
          "Technology",
          "Furniture",
          "Office Supplies",
          "Technology",
          "Furniture",
          "Office Supplies",
          "Technology",
          "Furniture",
          "Office Supplies",
          "Technology",
          "",
          "",
          ""
         ],
         "values": [
          21954.082,
          13777.224,
          36986.907999999996,
          91468.486,
          15726.024,
          6270.592000000001,
          23833.669,
          58788.118,
          3426.498,
          1418.324,
          5149.262,
          16711.326,
          34850.355,
          5819.505,
          26857.202,
          132501.723,
          20681.8533,
          2970.582,
          22307.2129,
          67853.5505,
          46626.616,
          21659.716,
          72347.77,
          182188.62900000002,
          39369.630000000005,
          4759.908,
          18899.628,
          83218.928,
          2539.466,
          790.476,
          2673.95,
          10124.154,
          357.598,
          139.752,
          478.018,
          2026.592,
          12629.807999999999,
          4849.8640000000005,
          14739.744,
          56992.602,
          1772.474,
          566.448,
          3352.534,
          6656.2699999999995,
          24153.401,
          22798.537,
          22493.7,
          119792.993,
          10778.628,
          4695.3279999999995,
          17001.64,
          44352.708,
          53128.656,
          15988.236,
          62821.688,
          195843.868,
          25208.097999999998,
          8559.89,
          47329.732,
          138245.672,
          3568.294,
          510.31,
          29378.41,
          12963.294,
          28800.776,
          9644.347,
          43263.1115,
          121102.3935,
          108739.0533,
          98227.435,
          138605.769,
          39124.509,
          28770.625,
          57323.905,
          152657.8384,
          156054.41700000002,
          141201.924,
          428137.17500000005,
          422369.857,
          490324.275,
          728658.5757,
          705422.334,
          827455.873
         ],
         "type": "treemap"
        }
       ],
       "layout": {
        "template": {
         "data": {
          "histogram2dcontour": [
           {
            "type": "histogram2dcontour",
            "colorbar": {
             "outlinewidth": 0,
             "ticks": ""
            },
            "colorscale": [
             [
              0.0,
              "#0d0887"
             ],
             [
              0.1111111111111111,
              "#46039f"
             ],
             [
              0.2222222222222222,
              "#7201a8"
             ],
             [
              0.3333333333333333,
              "#9c179e"
             ],
             [
              0.4444444444444444,
              "#bd3786"
             ],
             [
              0.5555555555555556,
              "#d8576b"
             ],
             [
              0.6666666666666666,
              "#ed7953"
             ],
             [
              0.7777777777777778,
              "#fb9f3a"
             ],
             [
              0.8888888888888888,
              "#fdca26"
             ],
             [
              1.0,
              "#f0f921"
             ]
            ]
           }
          ],
          "choropleth": [
           {
            "type": "choropleth",
            "colorbar": {
             "outlinewidth": 0,
             "ticks": ""
            }
           }
          ],
          "histogram2d": [
           {
            "type": "histogram2d",
            "colorbar": {
             "outlinewidth": 0,
             "ticks": ""
            },
            "colorscale": [
             [
              0.0,
              "#0d0887"
             ],
             [
              0.1111111111111111,
              "#46039f"
             ],
             [
              0.2222222222222222,
              "#7201a8"
             ],
             [
              0.3333333333333333,
              "#9c179e"
             ],
             [
              0.4444444444444444,
              "#bd3786"
             ],
             [
              0.5555555555555556,
              "#d8576b"
             ],
             [
              0.6666666666666666,
              "#ed7953"
             ],
             [
              0.7777777777777778,
              "#fb9f3a"
             ],
             [
              0.8888888888888888,
              "#fdca26"
             ],
             [
              1.0,
              "#f0f921"
             ]
            ]
           }
          ],
          "heatmap": [
           {
            "type": "heatmap",
            "colorbar": {
             "outlinewidth": 0,
             "ticks": ""
            },
            "colorscale": [
             [
              0.0,
              "#0d0887"
             ],
             [
              0.1111111111111111,
              "#46039f"
             ],
             [
              0.2222222222222222,
              "#7201a8"
             ],
             [
              0.3333333333333333,
              "#9c179e"
             ],
             [
              0.4444444444444444,
              "#bd3786"
             ],
             [
              0.5555555555555556,
              "#d8576b"
             ],
             [
              0.6666666666666666,
              "#ed7953"
             ],
             [
              0.7777777777777778,
              "#fb9f3a"
             ],
             [
              0.8888888888888888,
              "#fdca26"
             ],
             [
              1.0,
              "#f0f921"
             ]
            ]
           }
          ],
          "heatmapgl": [
           {
            "type": "heatmapgl",
            "colorbar": {
             "outlinewidth": 0,
             "ticks": ""
            },
            "colorscale": [
             [
              0.0,
              "#0d0887"
             ],
             [
              0.1111111111111111,
              "#46039f"
             ],
             [
              0.2222222222222222,
              "#7201a8"
             ],
             [
              0.3333333333333333,
              "#9c179e"
             ],
             [
              0.4444444444444444,
              "#bd3786"
             ],
             [
              0.5555555555555556,
              "#d8576b"
             ],
             [
              0.6666666666666666,
              "#ed7953"
             ],
             [
              0.7777777777777778,
              "#fb9f3a"
             ],
             [
              0.8888888888888888,
              "#fdca26"
             ],
             [
              1.0,
              "#f0f921"
             ]
            ]
           }
          ],
          "contourcarpet": [
           {
            "type": "contourcarpet",
            "colorbar": {
             "outlinewidth": 0,
             "ticks": ""
            }
           }
          ],
          "contour": [
           {
            "type": "contour",
            "colorbar": {
             "outlinewidth": 0,
             "ticks": ""
            },
            "colorscale": [
             [
              0.0,
              "#0d0887"
             ],
             [
              0.1111111111111111,
              "#46039f"
             ],
             [
              0.2222222222222222,
              "#7201a8"
             ],
             [
              0.3333333333333333,
              "#9c179e"
             ],
             [
              0.4444444444444444,
              "#bd3786"
             ],
             [
              0.5555555555555556,
              "#d8576b"
             ],
             [
              0.6666666666666666,
              "#ed7953"
             ],
             [
              0.7777777777777778,
              "#fb9f3a"
             ],
             [
              0.8888888888888888,
              "#fdca26"
             ],
             [
              1.0,
              "#f0f921"
             ]
            ]
           }
          ],
          "surface": [
           {
            "type": "surface",
            "colorbar": {
             "outlinewidth": 0,
             "ticks": ""
            },
            "colorscale": [
             [
              0.0,
              "#0d0887"
             ],
             [
              0.1111111111111111,
              "#46039f"
             ],
             [
              0.2222222222222222,
              "#7201a8"
             ],
             [
              0.3333333333333333,
              "#9c179e"
             ],
             [
              0.4444444444444444,
              "#bd3786"
             ],
             [
              0.5555555555555556,
              "#d8576b"
             ],
             [
              0.6666666666666666,
              "#ed7953"
             ],
             [
              0.7777777777777778,
              "#fb9f3a"
             ],
             [
              0.8888888888888888,
              "#fdca26"
             ],
             [
              1.0,
              "#f0f921"
             ]
            ]
           }
          ],
          "mesh3d": [
           {
            "type": "mesh3d",
            "colorbar": {
             "outlinewidth": 0,
             "ticks": ""
            }
           }
          ],
          "scatter": [
           {
            "fillpattern": {
             "fillmode": "overlay",
             "size": 10,
             "solidity": 0.2
            },
            "type": "scatter"
           }
          ],
          "parcoords": [
           {
            "type": "parcoords",
            "line": {
             "colorbar": {
              "outlinewidth": 0,
              "ticks": ""
             }
            }
           }
          ],
          "scatterpolargl": [
           {
            "type": "scatterpolargl",
            "marker": {
             "colorbar": {
              "outlinewidth": 0,
              "ticks": ""
             }
            }
           }
          ],
          "bar": [
           {
            "error_x": {
             "color": "#2a3f5f"
            },
            "error_y": {
             "color": "#2a3f5f"
            },
            "marker": {
             "line": {
              "color": "#E5ECF6",
              "width": 0.5
             },
             "pattern": {
              "fillmode": "overlay",
              "size": 10,
              "solidity": 0.2
             }
            },
            "type": "bar"
           }
          ],
          "scattergeo": [
           {
            "type": "scattergeo",
            "marker": {
             "colorbar": {
              "outlinewidth": 0,
              "ticks": ""
             }
            }
           }
          ],
          "scatterpolar": [
           {
            "type": "scatterpolar",
            "marker": {
             "colorbar": {
              "outlinewidth": 0,
              "ticks": ""
             }
            }
           }
          ],
          "histogram": [
           {
            "marker": {
             "pattern": {
              "fillmode": "overlay",
              "size": 10,
              "solidity": 0.2
             }
            },
            "type": "histogram"
           }
          ],
          "scattergl": [
           {
            "type": "scattergl",
            "marker": {
             "colorbar": {
              "outlinewidth": 0,
              "ticks": ""
             }
            }
           }
          ],
          "scatter3d": [
           {
            "type": "scatter3d",
            "line": {
             "colorbar": {
              "outlinewidth": 0,
              "ticks": ""
             }
            },
            "marker": {
             "colorbar": {
              "outlinewidth": 0,
              "ticks": ""
             }
            }
           }
          ],
          "scattermapbox": [
           {
            "type": "scattermapbox",
            "marker": {
             "colorbar": {
              "outlinewidth": 0,
              "ticks": ""
             }
            }
           }
          ],
          "scatterternary": [
           {
            "type": "scatterternary",
            "marker": {
             "colorbar": {
              "outlinewidth": 0,
              "ticks": ""
             }
            }
           }
          ],
          "scattercarpet": [
           {
            "type": "scattercarpet",
            "marker": {
             "colorbar": {
              "outlinewidth": 0,
              "ticks": ""
             }
            }
           }
          ],
          "carpet": [
           {
            "aaxis": {
             "endlinecolor": "#2a3f5f",
             "gridcolor": "white",
             "linecolor": "white",
             "minorgridcolor": "white",
             "startlinecolor": "#2a3f5f"
            },
            "baxis": {
             "endlinecolor": "#2a3f5f",
             "gridcolor": "white",
             "linecolor": "white",
             "minorgridcolor": "white",
             "startlinecolor": "#2a3f5f"
            },
            "type": "carpet"
           }
          ],
          "table": [
           {
            "cells": {
             "fill": {
              "color": "#EBF0F8"
             },
             "line": {
              "color": "white"
             }
            },
            "header": {
             "fill": {
              "color": "#C8D4E3"
             },
             "line": {
              "color": "white"
             }
            },
            "type": "table"
           }
          ],
          "barpolar": [
           {
            "marker": {
             "line": {
              "color": "#E5ECF6",
              "width": 0.5
             },
             "pattern": {
              "fillmode": "overlay",
              "size": 10,
              "solidity": 0.2
             }
            },
            "type": "barpolar"
           }
          ],
          "pie": [
           {
            "automargin": true,
            "type": "pie"
           }
          ]
         },
         "layout": {
          "autotypenumbers": "strict",
          "colorway": [
           "#636efa",
           "#EF553B",
           "#00cc96",
           "#ab63fa",
           "#FFA15A",
           "#19d3f3",
           "#FF6692",
           "#B6E880",
           "#FF97FF",
           "#FECB52"
          ],
          "font": {
           "color": "#2a3f5f"
          },
          "hovermode": "closest",
          "hoverlabel": {
           "align": "left"
          },
          "paper_bgcolor": "white",
          "plot_bgcolor": "#E5ECF6",
          "polar": {
           "bgcolor": "#E5ECF6",
           "angularaxis": {
            "gridcolor": "white",
            "linecolor": "white",
            "ticks": ""
           },
           "radialaxis": {
            "gridcolor": "white",
            "linecolor": "white",
            "ticks": ""
           }
          },
          "ternary": {
           "bgcolor": "#E5ECF6",
           "aaxis": {
            "gridcolor": "white",
            "linecolor": "white",
            "ticks": ""
           },
           "baxis": {
            "gridcolor": "white",
            "linecolor": "white",
            "ticks": ""
           },
           "caxis": {
            "gridcolor": "white",
            "linecolor": "white",
            "ticks": ""
           }
          },
          "coloraxis": {
           "colorbar": {
            "outlinewidth": 0,
            "ticks": ""
           }
          },
          "colorscale": {
           "sequential": [
            [
             0.0,
             "#0d0887"
            ],
            [
             0.1111111111111111,
             "#46039f"
            ],
            [
             0.2222222222222222,
             "#7201a8"
            ],
            [
             0.3333333333333333,
             "#9c179e"
            ],
            [
             0.4444444444444444,
             "#bd3786"
            ],
            [
             0.5555555555555556,
             "#d8576b"
            ],
            [
             0.6666666666666666,
             "#ed7953"
            ],
            [
             0.7777777777777778,
             "#fb9f3a"
            ],
            [
             0.8888888888888888,
             "#fdca26"
            ],
            [
             1.0,
             "#f0f921"
            ]
           ],
           "sequentialminus": [
            [
             0.0,
             "#0d0887"
            ],
            [
             0.1111111111111111,
             "#46039f"
            ],
            [
             0.2222222222222222,
             "#7201a8"
            ],
            [
             0.3333333333333333,
             "#9c179e"
            ],
            [
             0.4444444444444444,
             "#bd3786"
            ],
            [
             0.5555555555555556,
             "#d8576b"
            ],
            [
             0.6666666666666666,
             "#ed7953"
            ],
            [
             0.7777777777777778,
             "#fb9f3a"
            ],
            [
             0.8888888888888888,
             "#fdca26"
            ],
            [
             1.0,
             "#f0f921"
            ]
           ],
           "diverging": [
            [
             0,
             "#8e0152"
            ],
            [
             0.1,
             "#c51b7d"
            ],
            [
             0.2,
             "#de77ae"
            ],
            [
             0.3,
             "#f1b6da"
            ],
            [
             0.4,
             "#fde0ef"
            ],
            [
             0.5,
             "#f7f7f7"
            ],
            [
             0.6,
             "#e6f5d0"
            ],
            [
             0.7,
             "#b8e186"
            ],
            [
             0.8,
             "#7fbc41"
            ],
            [
             0.9,
             "#4d9221"
            ],
            [
             1,
             "#276419"
            ]
           ]
          },
          "xaxis": {
           "gridcolor": "white",
           "linecolor": "white",
           "ticks": "",
           "title": {
            "standoff": 15
           },
           "zerolinecolor": "white",
           "automargin": true,
           "zerolinewidth": 2
          },
          "yaxis": {
           "gridcolor": "white",
           "linecolor": "white",
           "ticks": "",
           "title": {
            "standoff": 15
           },
           "zerolinecolor": "white",
           "automargin": true,
           "zerolinewidth": 2
          },
          "scene": {
           "xaxis": {
            "backgroundcolor": "#E5ECF6",
            "gridcolor": "white",
            "linecolor": "white",
            "showbackground": true,
            "ticks": "",
            "zerolinecolor": "white",
            "gridwidth": 2
           },
           "yaxis": {
            "backgroundcolor": "#E5ECF6",
            "gridcolor": "white",
            "linecolor": "white",
            "showbackground": true,
            "ticks": "",
            "zerolinecolor": "white",
            "gridwidth": 2
           },
           "zaxis": {
            "backgroundcolor": "#E5ECF6",
            "gridcolor": "white",
            "linecolor": "white",
            "showbackground": true,
            "ticks": "",
            "zerolinecolor": "white",
            "gridwidth": 2
           }
          },
          "shapedefaults": {
           "line": {
            "color": "#2a3f5f"
           }
          },
          "annotationdefaults": {
           "arrowcolor": "#2a3f5f",
           "arrowhead": 0,
           "arrowwidth": 1
          },
          "geo": {
           "bgcolor": "white",
           "landcolor": "#E5ECF6",
           "subunitcolor": "white",
           "showland": true,
           "showlakes": true,
           "lakecolor": "white"
          },
          "title": {
           "x": 0.05
          },
          "mapbox": {
           "style": "light"
          }
         }
        },
        "legend": {
         "tracegroupgap": 0
        },
        "margin": {
         "t": 60
        }
       },
       "config": {
        "plotlyServerURL": "https://plot.ly"
       }
      },
      "text/html": [
       "<div>                            <div id=\"6e5be3c5-4cb8-4d3c-a3d0-186f96bddf13\" class=\"plotly-graph-div\" style=\"height:525px; width:100%;\"></div>            <script type=\"text/javascript\">                require([\"plotly\"], function(Plotly) {                    window.PLOTLYENV=window.PLOTLYENV || {};                                    if (document.getElementById(\"6e5be3c5-4cb8-4d3c-a3d0-186f96bddf13\")) {                    Plotly.newPlot(                        \"6e5be3c5-4cb8-4d3c-a3d0-186f96bddf13\",                        [{\"branchvalues\":\"total\",\"domain\":{\"x\":[0.0,1.0],\"y\":[0.0,1.0]},\"hovertemplate\":\"labels=%{label}\\u003cbr\\u003eSales=%{value}\\u003cbr\\u003eparent=%{parent}\\u003cbr\\u003eid=%{id}\\u003cextra\\u003e\\u003c\\u002fextra\\u003e\",\"ids\":[\"Technology\\u002fFirst Class\\u002fAccessories\",\"Technology\\u002fSame Day\\u002fAccessories\",\"Technology\\u002fSecond Class\\u002fAccessories\",\"Technology\\u002fStandard Class\\u002fAccessories\",\"Office Supplies\\u002fFirst Class\\u002fAppliances\",\"Office Supplies\\u002fSame Day\\u002fAppliances\",\"Office Supplies\\u002fSecond Class\\u002fAppliances\",\"Office Supplies\\u002fStandard Class\\u002fAppliances\",\"Office Supplies\\u002fFirst Class\\u002fArt\",\"Office Supplies\\u002fSame Day\\u002fArt\",\"Office Supplies\\u002fSecond Class\\u002fArt\",\"Office Supplies\\u002fStandard Class\\u002fArt\",\"Office Supplies\\u002fFirst Class\\u002fBinders\",\"Office Supplies\\u002fSame Day\\u002fBinders\",\"Office Supplies\\u002fSecond Class\\u002fBinders\",\"Office Supplies\\u002fStandard Class\\u002fBinders\",\"Furniture\\u002fFirst Class\\u002fBookcases\",\"Furniture\\u002fSame Day\\u002fBookcases\",\"Furniture\\u002fSecond Class\\u002fBookcases\",\"Furniture\\u002fStandard Class\\u002fBookcases\",\"Furniture\\u002fFirst Class\\u002fChairs\",\"Furniture\\u002fSame Day\\u002fChairs\",\"Furniture\\u002fSecond Class\\u002fChairs\",\"Furniture\\u002fStandard Class\\u002fChairs\",\"Technology\\u002fFirst Class\\u002fCopiers\",\"Technology\\u002fSame Day\\u002fCopiers\",\"Technology\\u002fSecond Class\\u002fCopiers\",\"Technology\\u002fStandard Class\\u002fCopiers\",\"Office Supplies\\u002fFirst Class\\u002fEnvelopes\",\"Office Supplies\\u002fSame Day\\u002fEnvelopes\",\"Office Supplies\\u002fSecond Class\\u002fEnvelopes\",\"Office Supplies\\u002fStandard Class\\u002fEnvelopes\",\"Office Supplies\\u002fFirst Class\\u002fFasteners\",\"Office Supplies\\u002fSame Day\\u002fFasteners\",\"Office Supplies\\u002fSecond Class\\u002fFasteners\",\"Office Supplies\\u002fStandard Class\\u002fFasteners\",\"Furniture\\u002fFirst Class\\u002fFurnishings\",\"Furniture\\u002fSame Day\\u002fFurnishings\",\"Furniture\\u002fSecond Class\\u002fFurnishings\",\"Furniture\\u002fStandard Class\\u002fFurnishings\",\"Office Supplies\\u002fFirst Class\\u002fLabels\",\"Office Supplies\\u002fSame Day\\u002fLabels\",\"Office Supplies\\u002fSecond Class\\u002fLabels\",\"Office Supplies\\u002fStandard Class\\u002fLabels\",\"Technology\\u002fFirst Class\\u002fMachines\",\"Technology\\u002fSame Day\\u002fMachines\",\"Technology\\u002fSecond Class\\u002fMachines\",\"Technology\\u002fStandard Class\\u002fMachines\",\"Office Supplies\\u002fFirst Class\\u002fPaper\",\"Office Supplies\\u002fSame Day\\u002fPaper\",\"Office Supplies\\u002fSecond Class\\u002fPaper\",\"Office Supplies\\u002fStandard Class\\u002fPaper\",\"Technology\\u002fFirst Class\\u002fPhones\",\"Technology\\u002fSame Day\\u002fPhones\",\"Technology\\u002fSecond Class\\u002fPhones\",\"Technology\\u002fStandard Class\\u002fPhones\",\"Office Supplies\\u002fFirst Class\\u002fStorage\",\"Office Supplies\\u002fSame Day\\u002fStorage\",\"Office Supplies\\u002fSecond Class\\u002fStorage\",\"Office Supplies\\u002fStandard Class\\u002fStorage\",\"Office Supplies\\u002fFirst Class\\u002fSupplies\",\"Office Supplies\\u002fSame Day\\u002fSupplies\",\"Office Supplies\\u002fSecond Class\\u002fSupplies\",\"Office Supplies\\u002fStandard Class\\u002fSupplies\",\"Furniture\\u002fFirst Class\\u002fTables\",\"Furniture\\u002fSame Day\\u002fTables\",\"Furniture\\u002fSecond Class\\u002fTables\",\"Furniture\\u002fStandard Class\\u002fTables\",\"Furniture\\u002fFirst Class\",\"Office Supplies\\u002fFirst Class\",\"Technology\\u002fFirst Class\",\"Furniture\\u002fSame Day\",\"Office Supplies\\u002fSame Day\",\"Technology\\u002fSame Day\",\"Furniture\\u002fSecond Class\",\"Office Supplies\\u002fSecond Class\",\"Technology\\u002fSecond Class\",\"Furniture\\u002fStandard Class\",\"Office Supplies\\u002fStandard Class\",\"Technology\\u002fStandard Class\",\"Furniture\",\"Office Supplies\",\"Technology\"],\"labels\":[\"Accessories\",\"Accessories\",\"Accessories\",\"Accessories\",\"Appliances\",\"Appliances\",\"Appliances\",\"Appliances\",\"Art\",\"Art\",\"Art\",\"Art\",\"Binders\",\"Binders\",\"Binders\",\"Binders\",\"Bookcases\",\"Bookcases\",\"Bookcases\",\"Bookcases\",\"Chairs\",\"Chairs\",\"Chairs\",\"Chairs\",\"Copiers\",\"Copiers\",\"Copiers\",\"Copiers\",\"Envelopes\",\"Envelopes\",\"Envelopes\",\"Envelopes\",\"Fasteners\",\"Fasteners\",\"Fasteners\",\"Fasteners\",\"Furnishings\",\"Furnishings\",\"Furnishings\",\"Furnishings\",\"Labels\",\"Labels\",\"Labels\",\"Labels\",\"Machines\",\"Machines\",\"Machines\",\"Machines\",\"Paper\",\"Paper\",\"Paper\",\"Paper\",\"Phones\",\"Phones\",\"Phones\",\"Phones\",\"Storage\",\"Storage\",\"Storage\",\"Storage\",\"Supplies\",\"Supplies\",\"Supplies\",\"Supplies\",\"Tables\",\"Tables\",\"Tables\",\"Tables\",\"First Class\",\"First Class\",\"First Class\",\"Same Day\",\"Same Day\",\"Same Day\",\"Second Class\",\"Second Class\",\"Second Class\",\"Standard Class\",\"Standard Class\",\"Standard Class\",\"Furniture\",\"Office Supplies\",\"Technology\"],\"name\":\"\",\"parents\":[\"Technology\\u002fFirst Class\",\"Technology\\u002fSame Day\",\"Technology\\u002fSecond Class\",\"Technology\\u002fStandard Class\",\"Office Supplies\\u002fFirst Class\",\"Office Supplies\\u002fSame Day\",\"Office Supplies\\u002fSecond Class\",\"Office Supplies\\u002fStandard Class\",\"Office Supplies\\u002fFirst Class\",\"Office Supplies\\u002fSame Day\",\"Office Supplies\\u002fSecond Class\",\"Office Supplies\\u002fStandard Class\",\"Office Supplies\\u002fFirst Class\",\"Office Supplies\\u002fSame Day\",\"Office Supplies\\u002fSecond Class\",\"Office Supplies\\u002fStandard Class\",\"Furniture\\u002fFirst Class\",\"Furniture\\u002fSame Day\",\"Furniture\\u002fSecond Class\",\"Furniture\\u002fStandard Class\",\"Furniture\\u002fFirst Class\",\"Furniture\\u002fSame Day\",\"Furniture\\u002fSecond Class\",\"Furniture\\u002fStandard Class\",\"Technology\\u002fFirst Class\",\"Technology\\u002fSame Day\",\"Technology\\u002fSecond Class\",\"Technology\\u002fStandard Class\",\"Office Supplies\\u002fFirst Class\",\"Office Supplies\\u002fSame Day\",\"Office Supplies\\u002fSecond Class\",\"Office Supplies\\u002fStandard Class\",\"Office Supplies\\u002fFirst Class\",\"Office Supplies\\u002fSame Day\",\"Office Supplies\\u002fSecond Class\",\"Office Supplies\\u002fStandard Class\",\"Furniture\\u002fFirst Class\",\"Furniture\\u002fSame Day\",\"Furniture\\u002fSecond Class\",\"Furniture\\u002fStandard Class\",\"Office Supplies\\u002fFirst Class\",\"Office Supplies\\u002fSame Day\",\"Office Supplies\\u002fSecond Class\",\"Office Supplies\\u002fStandard Class\",\"Technology\\u002fFirst Class\",\"Technology\\u002fSame Day\",\"Technology\\u002fSecond Class\",\"Technology\\u002fStandard Class\",\"Office Supplies\\u002fFirst Class\",\"Office Supplies\\u002fSame Day\",\"Office Supplies\\u002fSecond Class\",\"Office Supplies\\u002fStandard Class\",\"Technology\\u002fFirst Class\",\"Technology\\u002fSame Day\",\"Technology\\u002fSecond Class\",\"Technology\\u002fStandard Class\",\"Office Supplies\\u002fFirst Class\",\"Office Supplies\\u002fSame Day\",\"Office Supplies\\u002fSecond Class\",\"Office Supplies\\u002fStandard Class\",\"Office Supplies\\u002fFirst Class\",\"Office Supplies\\u002fSame Day\",\"Office Supplies\\u002fSecond Class\",\"Office Supplies\\u002fStandard Class\",\"Furniture\\u002fFirst Class\",\"Furniture\\u002fSame Day\",\"Furniture\\u002fSecond Class\",\"Furniture\\u002fStandard Class\",\"Furniture\",\"Office Supplies\",\"Technology\",\"Furniture\",\"Office Supplies\",\"Technology\",\"Furniture\",\"Office Supplies\",\"Technology\",\"Furniture\",\"Office Supplies\",\"Technology\",\"\",\"\",\"\"],\"values\":[21954.082,13777.224,36986.907999999996,91468.486,15726.024,6270.592000000001,23833.669,58788.118,3426.498,1418.324,5149.262,16711.326,34850.355,5819.505,26857.202,132501.723,20681.8533,2970.582,22307.2129,67853.5505,46626.616,21659.716,72347.77,182188.62900000002,39369.630000000005,4759.908,18899.628,83218.928,2539.466,790.476,2673.95,10124.154,357.598,139.752,478.018,2026.592,12629.807999999999,4849.8640000000005,14739.744,56992.602,1772.474,566.448,3352.534,6656.2699999999995,24153.401,22798.537,22493.7,119792.993,10778.628,4695.3279999999995,17001.64,44352.708,53128.656,15988.236,62821.688,195843.868,25208.097999999998,8559.89,47329.732,138245.672,3568.294,510.31,29378.41,12963.294,28800.776,9644.347,43263.1115,121102.3935,108739.0533,98227.435,138605.769,39124.509,28770.625,57323.905,152657.8384,156054.41700000002,141201.924,428137.17500000005,422369.857,490324.275,728658.5757,705422.334,827455.873],\"type\":\"treemap\"}],                        {\"template\":{\"data\":{\"histogram2dcontour\":[{\"type\":\"histogram2dcontour\",\"colorbar\":{\"outlinewidth\":0,\"ticks\":\"\"},\"colorscale\":[[0.0,\"#0d0887\"],[0.1111111111111111,\"#46039f\"],[0.2222222222222222,\"#7201a8\"],[0.3333333333333333,\"#9c179e\"],[0.4444444444444444,\"#bd3786\"],[0.5555555555555556,\"#d8576b\"],[0.6666666666666666,\"#ed7953\"],[0.7777777777777778,\"#fb9f3a\"],[0.8888888888888888,\"#fdca26\"],[1.0,\"#f0f921\"]]}],\"choropleth\":[{\"type\":\"choropleth\",\"colorbar\":{\"outlinewidth\":0,\"ticks\":\"\"}}],\"histogram2d\":[{\"type\":\"histogram2d\",\"colorbar\":{\"outlinewidth\":0,\"ticks\":\"\"},\"colorscale\":[[0.0,\"#0d0887\"],[0.1111111111111111,\"#46039f\"],[0.2222222222222222,\"#7201a8\"],[0.3333333333333333,\"#9c179e\"],[0.4444444444444444,\"#bd3786\"],[0.5555555555555556,\"#d8576b\"],[0.6666666666666666,\"#ed7953\"],[0.7777777777777778,\"#fb9f3a\"],[0.8888888888888888,\"#fdca26\"],[1.0,\"#f0f921\"]]}],\"heatmap\":[{\"type\":\"heatmap\",\"colorbar\":{\"outlinewidth\":0,\"ticks\":\"\"},\"colorscale\":[[0.0,\"#0d0887\"],[0.1111111111111111,\"#46039f\"],[0.2222222222222222,\"#7201a8\"],[0.3333333333333333,\"#9c179e\"],[0.4444444444444444,\"#bd3786\"],[0.5555555555555556,\"#d8576b\"],[0.6666666666666666,\"#ed7953\"],[0.7777777777777778,\"#fb9f3a\"],[0.8888888888888888,\"#fdca26\"],[1.0,\"#f0f921\"]]}],\"heatmapgl\":[{\"type\":\"heatmapgl\",\"colorbar\":{\"outlinewidth\":0,\"ticks\":\"\"},\"colorscale\":[[0.0,\"#0d0887\"],[0.1111111111111111,\"#46039f\"],[0.2222222222222222,\"#7201a8\"],[0.3333333333333333,\"#9c179e\"],[0.4444444444444444,\"#bd3786\"],[0.5555555555555556,\"#d8576b\"],[0.6666666666666666,\"#ed7953\"],[0.7777777777777778,\"#fb9f3a\"],[0.8888888888888888,\"#fdca26\"],[1.0,\"#f0f921\"]]}],\"contourcarpet\":[{\"type\":\"contourcarpet\",\"colorbar\":{\"outlinewidth\":0,\"ticks\":\"\"}}],\"contour\":[{\"type\":\"contour\",\"colorbar\":{\"outlinewidth\":0,\"ticks\":\"\"},\"colorscale\":[[0.0,\"#0d0887\"],[0.1111111111111111,\"#46039f\"],[0.2222222222222222,\"#7201a8\"],[0.3333333333333333,\"#9c179e\"],[0.4444444444444444,\"#bd3786\"],[0.5555555555555556,\"#d8576b\"],[0.6666666666666666,\"#ed7953\"],[0.7777777777777778,\"#fb9f3a\"],[0.8888888888888888,\"#fdca26\"],[1.0,\"#f0f921\"]]}],\"surface\":[{\"type\":\"surface\",\"colorbar\":{\"outlinewidth\":0,\"ticks\":\"\"},\"colorscale\":[[0.0,\"#0d0887\"],[0.1111111111111111,\"#46039f\"],[0.2222222222222222,\"#7201a8\"],[0.3333333333333333,\"#9c179e\"],[0.4444444444444444,\"#bd3786\"],[0.5555555555555556,\"#d8576b\"],[0.6666666666666666,\"#ed7953\"],[0.7777777777777778,\"#fb9f3a\"],[0.8888888888888888,\"#fdca26\"],[1.0,\"#f0f921\"]]}],\"mesh3d\":[{\"type\":\"mesh3d\",\"colorbar\":{\"outlinewidth\":0,\"ticks\":\"\"}}],\"scatter\":[{\"fillpattern\":{\"fillmode\":\"overlay\",\"size\":10,\"solidity\":0.2},\"type\":\"scatter\"}],\"parcoords\":[{\"type\":\"parcoords\",\"line\":{\"colorbar\":{\"outlinewidth\":0,\"ticks\":\"\"}}}],\"scatterpolargl\":[{\"type\":\"scatterpolargl\",\"marker\":{\"colorbar\":{\"outlinewidth\":0,\"ticks\":\"\"}}}],\"bar\":[{\"error_x\":{\"color\":\"#2a3f5f\"},\"error_y\":{\"color\":\"#2a3f5f\"},\"marker\":{\"line\":{\"color\":\"#E5ECF6\",\"width\":0.5},\"pattern\":{\"fillmode\":\"overlay\",\"size\":10,\"solidity\":0.2}},\"type\":\"bar\"}],\"scattergeo\":[{\"type\":\"scattergeo\",\"marker\":{\"colorbar\":{\"outlinewidth\":0,\"ticks\":\"\"}}}],\"scatterpolar\":[{\"type\":\"scatterpolar\",\"marker\":{\"colorbar\":{\"outlinewidth\":0,\"ticks\":\"\"}}}],\"histogram\":[{\"marker\":{\"pattern\":{\"fillmode\":\"overlay\",\"size\":10,\"solidity\":0.2}},\"type\":\"histogram\"}],\"scattergl\":[{\"type\":\"scattergl\",\"marker\":{\"colorbar\":{\"outlinewidth\":0,\"ticks\":\"\"}}}],\"scatter3d\":[{\"type\":\"scatter3d\",\"line\":{\"colorbar\":{\"outlinewidth\":0,\"ticks\":\"\"}},\"marker\":{\"colorbar\":{\"outlinewidth\":0,\"ticks\":\"\"}}}],\"scattermapbox\":[{\"type\":\"scattermapbox\",\"marker\":{\"colorbar\":{\"outlinewidth\":0,\"ticks\":\"\"}}}],\"scatterternary\":[{\"type\":\"scatterternary\",\"marker\":{\"colorbar\":{\"outlinewidth\":0,\"ticks\":\"\"}}}],\"scattercarpet\":[{\"type\":\"scattercarpet\",\"marker\":{\"colorbar\":{\"outlinewidth\":0,\"ticks\":\"\"}}}],\"carpet\":[{\"aaxis\":{\"endlinecolor\":\"#2a3f5f\",\"gridcolor\":\"white\",\"linecolor\":\"white\",\"minorgridcolor\":\"white\",\"startlinecolor\":\"#2a3f5f\"},\"baxis\":{\"endlinecolor\":\"#2a3f5f\",\"gridcolor\":\"white\",\"linecolor\":\"white\",\"minorgridcolor\":\"white\",\"startlinecolor\":\"#2a3f5f\"},\"type\":\"carpet\"}],\"table\":[{\"cells\":{\"fill\":{\"color\":\"#EBF0F8\"},\"line\":{\"color\":\"white\"}},\"header\":{\"fill\":{\"color\":\"#C8D4E3\"},\"line\":{\"color\":\"white\"}},\"type\":\"table\"}],\"barpolar\":[{\"marker\":{\"line\":{\"color\":\"#E5ECF6\",\"width\":0.5},\"pattern\":{\"fillmode\":\"overlay\",\"size\":10,\"solidity\":0.2}},\"type\":\"barpolar\"}],\"pie\":[{\"automargin\":true,\"type\":\"pie\"}]},\"layout\":{\"autotypenumbers\":\"strict\",\"colorway\":[\"#636efa\",\"#EF553B\",\"#00cc96\",\"#ab63fa\",\"#FFA15A\",\"#19d3f3\",\"#FF6692\",\"#B6E880\",\"#FF97FF\",\"#FECB52\"],\"font\":{\"color\":\"#2a3f5f\"},\"hovermode\":\"closest\",\"hoverlabel\":{\"align\":\"left\"},\"paper_bgcolor\":\"white\",\"plot_bgcolor\":\"#E5ECF6\",\"polar\":{\"bgcolor\":\"#E5ECF6\",\"angularaxis\":{\"gridcolor\":\"white\",\"linecolor\":\"white\",\"ticks\":\"\"},\"radialaxis\":{\"gridcolor\":\"white\",\"linecolor\":\"white\",\"ticks\":\"\"}},\"ternary\":{\"bgcolor\":\"#E5ECF6\",\"aaxis\":{\"gridcolor\":\"white\",\"linecolor\":\"white\",\"ticks\":\"\"},\"baxis\":{\"gridcolor\":\"white\",\"linecolor\":\"white\",\"ticks\":\"\"},\"caxis\":{\"gridcolor\":\"white\",\"linecolor\":\"white\",\"ticks\":\"\"}},\"coloraxis\":{\"colorbar\":{\"outlinewidth\":0,\"ticks\":\"\"}},\"colorscale\":{\"sequential\":[[0.0,\"#0d0887\"],[0.1111111111111111,\"#46039f\"],[0.2222222222222222,\"#7201a8\"],[0.3333333333333333,\"#9c179e\"],[0.4444444444444444,\"#bd3786\"],[0.5555555555555556,\"#d8576b\"],[0.6666666666666666,\"#ed7953\"],[0.7777777777777778,\"#fb9f3a\"],[0.8888888888888888,\"#fdca26\"],[1.0,\"#f0f921\"]],\"sequentialminus\":[[0.0,\"#0d0887\"],[0.1111111111111111,\"#46039f\"],[0.2222222222222222,\"#7201a8\"],[0.3333333333333333,\"#9c179e\"],[0.4444444444444444,\"#bd3786\"],[0.5555555555555556,\"#d8576b\"],[0.6666666666666666,\"#ed7953\"],[0.7777777777777778,\"#fb9f3a\"],[0.8888888888888888,\"#fdca26\"],[1.0,\"#f0f921\"]],\"diverging\":[[0,\"#8e0152\"],[0.1,\"#c51b7d\"],[0.2,\"#de77ae\"],[0.3,\"#f1b6da\"],[0.4,\"#fde0ef\"],[0.5,\"#f7f7f7\"],[0.6,\"#e6f5d0\"],[0.7,\"#b8e186\"],[0.8,\"#7fbc41\"],[0.9,\"#4d9221\"],[1,\"#276419\"]]},\"xaxis\":{\"gridcolor\":\"white\",\"linecolor\":\"white\",\"ticks\":\"\",\"title\":{\"standoff\":15},\"zerolinecolor\":\"white\",\"automargin\":true,\"zerolinewidth\":2},\"yaxis\":{\"gridcolor\":\"white\",\"linecolor\":\"white\",\"ticks\":\"\",\"title\":{\"standoff\":15},\"zerolinecolor\":\"white\",\"automargin\":true,\"zerolinewidth\":2},\"scene\":{\"xaxis\":{\"backgroundcolor\":\"#E5ECF6\",\"gridcolor\":\"white\",\"linecolor\":\"white\",\"showbackground\":true,\"ticks\":\"\",\"zerolinecolor\":\"white\",\"gridwidth\":2},\"yaxis\":{\"backgroundcolor\":\"#E5ECF6\",\"gridcolor\":\"white\",\"linecolor\":\"white\",\"showbackground\":true,\"ticks\":\"\",\"zerolinecolor\":\"white\",\"gridwidth\":2},\"zaxis\":{\"backgroundcolor\":\"#E5ECF6\",\"gridcolor\":\"white\",\"linecolor\":\"white\",\"showbackground\":true,\"ticks\":\"\",\"zerolinecolor\":\"white\",\"gridwidth\":2}},\"shapedefaults\":{\"line\":{\"color\":\"#2a3f5f\"}},\"annotationdefaults\":{\"arrowcolor\":\"#2a3f5f\",\"arrowhead\":0,\"arrowwidth\":1},\"geo\":{\"bgcolor\":\"white\",\"landcolor\":\"#E5ECF6\",\"subunitcolor\":\"white\",\"showland\":true,\"showlakes\":true,\"lakecolor\":\"white\"},\"title\":{\"x\":0.05},\"mapbox\":{\"style\":\"light\"}}},\"legend\":{\"tracegroupgap\":0},\"margin\":{\"t\":60}},                        {\"responsive\": true}                    ).then(function(){\n",
       "                            \n",
       "var gd = document.getElementById('6e5be3c5-4cb8-4d3c-a3d0-186f96bddf13');\n",
       "var x = new MutationObserver(function (mutations, observer) {{\n",
       "        var display = window.getComputedStyle(gd).display;\n",
       "        if (!display || display === 'none') {{\n",
       "            console.log([gd, 'removed!']);\n",
       "            Plotly.purge(gd);\n",
       "            observer.disconnect();\n",
       "        }}\n",
       "}});\n",
       "\n",
       "// Listen for the removal of the full notebook cells\n",
       "var notebookContainer = gd.closest('#notebook-container');\n",
       "if (notebookContainer) {{\n",
       "    x.observe(notebookContainer, {childList: true});\n",
       "}}\n",
       "\n",
       "// Listen for the clearing of the current output cell\n",
       "var outputEl = gd.closest('.output');\n",
       "if (outputEl) {{\n",
       "    x.observe(outputEl, {childList: true});\n",
       "}}\n",
       "\n",
       "                        })                };                });            </script>        </div>"
      ]
     },
     "metadata": {},
     "output_type": "display_data"
    }
   ],
   "execution_count": 281
  }
 ],
 "metadata": {
  "kernelspec": {
   "display_name": "Python 3",
   "language": "python",
   "name": "python3"
  },
  "language_info": {
   "codemirror_mode": {
    "name": "ipython",
    "version": 2
   },
   "file_extension": ".py",
   "mimetype": "text/x-python",
   "name": "python",
   "nbconvert_exporter": "python",
   "pygments_lexer": "ipython2",
   "version": "2.7.6"
  }
 },
 "nbformat": 4,
 "nbformat_minor": 5
}
